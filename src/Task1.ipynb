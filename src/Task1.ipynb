{
 "metadata": {
  "language_info": {
   "codemirror_mode": {
    "name": "ipython",
    "version": 3
   },
   "file_extension": ".py",
   "mimetype": "text/x-python",
   "name": "python",
   "nbconvert_exporter": "python",
   "pygments_lexer": "ipython3",
   "version": "3.8.3-final"
  },
  "orig_nbformat": 2,
  "kernelspec": {
   "name": "python3",
   "display_name": "Python 3"
  }
 },
 "nbformat": 4,
 "nbformat_minor": 2,
 "cells": [
  {
   "source": [
    "# Libraries"
   ],
   "cell_type": "markdown",
   "metadata": {}
  },
  {
   "cell_type": "code",
   "execution_count": 1,
   "metadata": {},
   "outputs": [
    {
     "output_type": "stream",
     "name": "stdout",
     "text": [
      "Requirement already satisfied: plotly in /home/humberto/anaconda3/lib/python3.8/site-packages (4.11.0)\n",
      "Requirement already satisfied: retrying>=1.3.3 in /home/humberto/anaconda3/lib/python3.8/site-packages (from plotly) (1.3.3)\n",
      "Requirement already satisfied: six in /home/humberto/anaconda3/lib/python3.8/site-packages (from plotly) (1.15.0)\n",
      "Requirement already satisfied: numpy in /home/humberto/anaconda3/lib/python3.8/site-packages (1.18.5)\n",
      "Requirement already satisfied: scikit-learn in /home/humberto/anaconda3/lib/python3.8/site-packages (0.23.1)\n",
      "Requirement already satisfied: scipy>=0.19.1 in /home/humberto/anaconda3/lib/python3.8/site-packages (from scikit-learn) (1.5.0)\n",
      "Requirement already satisfied: threadpoolctl>=2.0.0 in /home/humberto/anaconda3/lib/python3.8/site-packages (from scikit-learn) (2.1.0)\n",
      "Requirement already satisfied: numpy>=1.13.3 in /home/humberto/anaconda3/lib/python3.8/site-packages (from scikit-learn) (1.18.5)\n",
      "Requirement already satisfied: joblib>=0.11 in /home/humberto/anaconda3/lib/python3.8/site-packages (from scikit-learn) (0.16.0)\n",
      "Collecting package metadata (current_repodata.json): done\n",
      "Solving environment: done\n",
      "\n",
      "# All requested packages already installed.\n",
      "\n"
     ]
    }
   ],
   "source": [
    "!pip install plotly\n",
    "!pip install numpy\n",
    "!pip install scikit-learn\n",
    "!conda install -c plotly plotly-orca -y"
   ]
  },
  {
   "cell_type": "code",
   "execution_count": 2,
   "metadata": {},
   "outputs": [],
   "source": [
    "import numpy as np\n",
    "from utils.charts import create_figure, plot_figure\n",
    "from utils.data import load_dataset, one_hot, fold_data, normalization, explore_data\n",
    "from utils.metrics import calc_metrics, metric_summary\n",
    "from utils.NeuralNetwork import model, predict"
   ]
  },
  {
   "source": [
    "# General Steps\n",
    "Each experiment will consist of the following steps:\n",
    "*   Load and split dataset into `x_data` and `y_data`.\n",
    "*   Explore loaded data and class distribution.\n",
    "*   Normalize `x_data` and apply `one-hot-encoding` to `y_data`.\n",
    "*   Define model structure(layer sizes, learning rate, number of iterations and number of folds).\n",
    "*   Fold the data according to the values defined previously.\n",
    "*   For each different `fold` create a `train_dataset` with all the folds except the current one which will be the `test_dataset`.\n",
    "*   We will be creating a new `model` with the previously defined strtucture.\n",
    "*   Execute experiment consists of training and validating the model with the current `train_dataset` and `test_dataset` which we will call `EPOCH`.\n",
    "*   At the end of each `EPOCH` we will show the `accuracy`, the `avg_cost` and the `confusion matrix`.\n",
    "*   Once all the `EPOCHS` conclude we will show a `Summary of metrics` which contains `avg`, `std` and `median` for `cost` and `accuracy` of the experiment as a whole.\n",
    "*   Finally we plot a `chart` in which we can observe the behaviour of the `avg_cost` through the `number of iterations`.\n",
    "\n",
    "It is important to notice that the `confusion matrix` is being calculated using the `sklearn` library using as parameters the `expected_output` and `predicted_output`. This allows us to observe not only the accuracy of each class (diagonal) but also the relationship that classes may have between them. Another possible use case could be the extraction of the `Recall` value for each class.\n",
    " "
   ],
   "cell_type": "markdown",
   "metadata": {}
  },
  {
   "cell_type": "code",
   "execution_count": 3,
   "metadata": {},
   "outputs": [],
   "source": [
    "def kfold_cross_validation(\n",
    "    folded_data,input_layer_size,hidden_layer_size,output_layer_size,\\\n",
    "    number_of_iterations, learning_rate, number_of_folds\n",
    "):\n",
    "    # Showing details of model structure\n",
    "    print(f\"Model parameters:\\n\\n input_layer_size: {input_layer_size} | hidden_layer_size: {hidden_layer_size} | output_layer_size: {output_layer_size}\")\n",
    "    print(f\" number_of_iterations: {number_of_iterations} | learning_rate: {learning_rate} | number_of_folds: {number_of_folds}\")\n",
    "    historic_acc = []\n",
    "    historic_cost = []\n",
    "    # Iterating for each fold\n",
    "    for k in range(number_of_folds):\n",
    "        print(f\"\\n################## EPOCH with test fold = {k} ##################\")\n",
    "        train_data = []\n",
    "        test_data = []\n",
    "        for j in range(number_of_folds):\n",
    "            # All folds different than the current one will be part of train_data\n",
    "            if j != k:\n",
    "                train_data += folded_data[j]\n",
    "            # Current fold will be the test_data\n",
    "            else:\n",
    "                test_data += folded_data[j]\n",
    "        x_train, y_train = zip(*train_data)\n",
    "        x_test, y_test = zip(*test_data)\n",
    "        \n",
    "        # Model construction\n",
    "        trained_params,current_cost = model(\n",
    "            np.transpose(x_train),\n",
    "            np.transpose(y_train),\n",
    "            input_layer_size,\n",
    "            hidden_layer_size,\n",
    "            output_layer_size,\n",
    "            number_of_iterations,\n",
    "            learning_rate\n",
    "        )\n",
    "        # Running trained model with the current test_data\n",
    "        y_predict = predict(np.transpose(x_test), trained_params).transpose()\n",
    "        \n",
    "        # Storing metric data for plotting and summary\n",
    "        historic_acc.append(calc_metrics(y_test, y_predict, current_cost))\n",
    "        historic_cost.append(current_cost)\n",
    "\n",
    "    return historic_acc,historic_cost"
   ]
  },
  {
   "source": [
    "## Dataset `Handwritten Digits`\n",
    "\n",
    "The first set of experiments we will be doing is using the [handwritten digits](https://archive.ics.uci.edu/ml/datasets/Pen-Based+Recognition+of+Handwritten+Digits) dataset. The information inside it represents digits written using a pen and a tablet with a `500x500` resolution. Each row in the dataset is an individual example of a digit and is represented with a set of 8 (x, y) points (integers) followed by the corresponding class which will be the number itself."
   ],
   "cell_type": "markdown",
   "metadata": {}
  },
  {
   "cell_type": "code",
   "execution_count": 4,
   "metadata": {},
   "outputs": [],
   "source": [
    "x_data,y_data = load_dataset(\"../resources/datasets/handwritten.txt\",dtype=np.int64)"
   ]
  },
  {
   "cell_type": "code",
   "execution_count": 5,
   "metadata": {},
   "outputs": [
    {
     "output_type": "stream",
     "name": "stdout",
     "text": [
      "class: 0 | 780 (10.41%) instances\nclass: 1 | 779 (10.39%) instances\nclass: 2 | 780 (10.41%) instances\nclass: 3 | 719 (9.59%) instances\nclass: 4 | 780 (10.41%) instances\nclass: 5 | 720 (9.61%) instances\nclass: 6 | 720 (9.61%) instances\nclass: 7 | 778 (10.38%) instances\nclass: 8 | 719 (9.59%) instances\nclass: 9 | 719 (9.59%) instances\nTotal number of instances: 7494\n"
     ]
    }
   ],
   "source": [
    "# Explore data and class distribution\n",
    "explore_data(y_data,10)"
   ]
  },
  {
   "source": [
    "After exploring the data we can observe that it contains `7494` examples of `10` well balanced classes."
   ],
   "cell_type": "markdown",
   "metadata": {}
  },
  {
   "cell_type": "code",
   "execution_count": 6,
   "metadata": {},
   "outputs": [],
   "source": [
    "# Using the utility we built to normalize the values of the input layer\n",
    "x_data = normalization(x_data)"
   ]
  },
  {
   "cell_type": "code",
   "execution_count": 7,
   "metadata": {},
   "outputs": [],
   "source": [
    "# Applying one-hot encoding to the expected classes understanding that\n",
    "# the result of this transformation is also normalized\n",
    "y_data = one_hot(y_data,10)"
   ]
  },
  {
   "source": [
    "*   ### Experiment #1"
   ],
   "cell_type": "markdown",
   "metadata": {}
  },
  {
   "cell_type": "code",
   "execution_count": 8,
   "metadata": {},
   "outputs": [],
   "source": [
    "LEARNING_RATE = 0.1\n",
    "NUMBER_OF_ITERATIONS = 1000\n",
    "HIDDEN_LAYER_SIZE = 10\n",
    "INPUT_LAYER_SIZE = 16\n",
    "OUTPUT_LAYER_SIZE = 10\n",
    "NUMBER_OF_FOLDS = 10"
   ]
  },
  {
   "cell_type": "code",
   "execution_count": 9,
   "metadata": {},
   "outputs": [],
   "source": [
    "# Dividing the data in `k` folds as a first step for `k-cross-validation`\n",
    "folded_data = fold_data(list(zip(x_data,y_data)),k=NUMBER_OF_FOLDS)"
   ]
  },
  {
   "cell_type": "code",
   "execution_count": 10,
   "metadata": {},
   "outputs": [
    {
     "output_type": "stream",
     "name": "stdout",
     "text": [
      "Model parameters:\n",
      "\n",
      " input_layer_size: 16 | hidden_layer_size: 10 | output_layer_size: 10\n",
      " number_of_iterations: 1000 | learning_rate: 0.1 | number_of_folds: 10\n",
      "\n",
      "################## EPOCH with test fold = 0 ##################\n",
      " Accuracy: 83.18%\n",
      " Avg cost: 0.00010\n",
      "\n",
      " Confusion Matrix:\n",
      " [[73  0  0  0  2  2  1  0  2  2]\n",
      " [ 0 56 10  2  0  0  0  1  0  6]\n",
      " [ 0  2 82  0  0  0  0  0  0  0]\n",
      " [ 0  1  0 58  0  0  0  1  0  0]\n",
      " [ 0  0  0  0 64  0  1  0  0  1]\n",
      " [ 0  0  0 10  0 46  1  3  4 16]\n",
      " [ 0  0  0  0  1  0 73  0  0  3]\n",
      " [ 0  0  0  1  0  0  0 72  0  0]\n",
      " [25  1  0  0  0  2  0  4 42  1]\n",
      " [ 0  1  0  3  6  8  0  0  2 57]]\n",
      "\n",
      "################## EPOCH with test fold = 1 ##################\n",
      " Accuracy: 82.11%\n",
      " Avg cost: 0.00009\n",
      "\n",
      " Confusion Matrix:\n",
      " [[66  2  0  0  1  0  0  0  2  6]\n",
      " [ 0 45  8  7  2  2  0 15  2  0]\n",
      " [ 0  0 61  0  0  0  0 12  0  0]\n",
      " [ 0  0  0 62  1  0  0  0  0  0]\n",
      " [ 0  0  0  0 81  1  0  0  0  1]\n",
      " [ 0  0  0  4  0 44  3  1  3 14]\n",
      " [ 0  0  0  0  1  2 82  0  0  0]\n",
      " [ 0  6  4  4  0  1  0 64  2  0]\n",
      " [ 2  0  0  0  0 13  0  2 47  2]\n",
      " [ 0  0  0  2  4  2  0  0  0 63]]\n",
      "\n",
      "################## EPOCH with test fold = 2 ##################\n",
      " Accuracy: 83.58%\n",
      " Avg cost: 0.00009\n",
      "\n",
      " Confusion Matrix:\n",
      " [[62  0  0  0  2  0  0  0  2  0]\n",
      " [ 0 39 27  3  0  3  0  1  0  3]\n",
      " [ 0  7 73  0  0  0  0  0  0  0]\n",
      " [ 0  0  4 75  0  0  0  0  0  0]\n",
      " [ 0  0  0  0 74  0  0  0  0  3]\n",
      " [ 0  0  0  5  0 49  3  0  1 21]\n",
      " [ 0  0  0  0  0  0 66  0  1  0]\n",
      " [ 0  0  7  3  0  0  1 63  2  0]\n",
      " [ 2  0  0  0  0  2  0  1 52  3]\n",
      " [ 0  6  0  2  6  0  2  0  0 73]]\n",
      "\n",
      "################## EPOCH with test fold = 3 ##################\n",
      " Accuracy: 86.92%\n",
      " Avg cost: 0.00009\n",
      "\n",
      " Confusion Matrix:\n",
      " [[67  0  0  0  2  0  4  0  0  0]\n",
      " [ 0 63 17  3  1  0  1  0  1  3]\n",
      " [ 0  3 75  0  0  0  0  2  0  0]\n",
      " [ 0  0  0 72  0  0  0  0  0  1]\n",
      " [ 0  0  0  0 71  0  1  0  0  2]\n",
      " [ 0  0  0  2  0 52  1  0  1 21]\n",
      " [ 4  0  0  0  3  0 72  0  0  0]\n",
      " [ 0  1  1  0  3  0  0 58  1  1]\n",
      " [ 2  0  0  3  0  3  0  0 68  1]\n",
      " [ 0  3  0  2  1  3  0  0  0 53]]\n",
      "\n",
      "################## EPOCH with test fold = 4 ##################\n",
      " Accuracy: 84.78%\n",
      " Avg cost: 0.00009\n",
      "\n",
      " Confusion Matrix:\n",
      " [[68  0  0  0  1  1  1  0  2  0]\n",
      " [ 0 62 12  7  0  0  0  0  0  1]\n",
      " [ 0  4 80  0  0  0  0  0  0  0]\n",
      " [ 0  1  0 73  0  0  0  0  0  0]\n",
      " [ 0  0  0  0 76  0  0  0  0  3]\n",
      " [ 2  0  0  5  0 32  5  0  2 12]\n",
      " [ 0  0  0  0  0  0 81  0  0  0]\n",
      " [ 0 12  1  1  0  0  0 68  0  0]\n",
      " [10  1  1  0  0 20  0  2 36  0]\n",
      " [ 2  0  0  0  5  0  0  0  0 59]]\n",
      "\n",
      "################## EPOCH with test fold = 5 ##################\n",
      " Accuracy: 89.45%\n",
      " Avg cost: 0.00009\n",
      "\n",
      " Confusion Matrix:\n",
      " [[73  0  0  0  1  0  0  0  0  1]\n",
      " [ 0 43  8  2  1  0  1  2  1  1]\n",
      " [ 0  3 78  0  0  0  0  4  0  0]\n",
      " [ 0  1  0 68  0  0  0  0  0  0]\n",
      " [ 0  1  0  0 73  0  0  0  0  0]\n",
      " [ 0  0  0  5  0 53  1  1  2  8]\n",
      " [ 0  0  1  0  0  0 71  0  0  0]\n",
      " [ 0  7  2  0  0  1  0 74  0  0]\n",
      " [ 3  1  0  2  0  2  0  7 59  2]\n",
      " [ 3  2  0  0  2  0  0  0  0 78]]\n",
      "\n",
      "################## EPOCH with test fold = 6 ##################\n",
      " Accuracy: 89.32%\n",
      " Avg cost: 0.00008\n",
      "\n",
      " Confusion Matrix:\n",
      " [[67  0  0  0  0  0  2  0  2  0]\n",
      " [ 0 72  9  3  1  2  0  1  0  1]\n",
      " [ 0  2 64  0  0  0  0  0  0  0]\n",
      " [ 0  2  0 79  1  0  0  0  0  0]\n",
      " [ 0  0  0  1 82  0  1  0  0  2]\n",
      " [ 1  1  0  1  0 35  0  0  1 15]\n",
      " [ 1  0  0  0  0  1 77  0  0  0]\n",
      " [ 0  3  0  5  0  0  0 73  0  0]\n",
      " [ 2  6  0  0  0  0  0  5 74  1]\n",
      " [ 0  1  0  1  5  0  0  0  0 46]]\n",
      "\n",
      "################## EPOCH with test fold = 7 ##################\n",
      " Accuracy: 82.91%\n",
      " Avg cost: 0.00010\n",
      "\n",
      " Confusion Matrix:\n",
      " [[81  0  0  0  1  1  0  0  3  0]\n",
      " [ 0 53  8  8  2  0  0  4  0  3]\n",
      " [ 0  0 75  0  0  0  0  1  0  0]\n",
      " [ 0  0  1 68  0  0  1  2  0  2]\n",
      " [ 0  0  0  0 82  0  2  0  0  0]\n",
      " [ 0  0  0  3  0 47 12  2  3 10]\n",
      " [ 1  0  0  0  0  0 52  0  1  0]\n",
      " [ 0  6  1  7  0  4  0 56  0  0]\n",
      " [ 3  2  0  7  1  5  4  0 42  1]\n",
      " [ 2  1  0  1  9  0  3  0  0 65]]\n",
      "\n",
      "################## EPOCH with test fold = 8 ##################\n",
      " Accuracy: 73.83%\n",
      " Avg cost: 0.00010\n",
      "\n",
      " Confusion Matrix:\n",
      " [[84  1  0  0  1  0  3  0  3  0]\n",
      " [ 0 71  2  1  1  2  2  3  1  1]\n",
      " [ 0  4 48  0  0  0  0 22  0  0]\n",
      " [ 0  0  0 71  0  0  0  0  0  0]\n",
      " [ 0  0  0  0 67  0  0  0  0  2]\n",
      " [ 0  0  0 11  0  2  1  0 51 11]\n",
      " [ 0  0  0  0  1  0 68  0  0  0]\n",
      " [ 0  6 44  3  0  2  0 25  0  0]\n",
      " [ 2  1  0  0  0  4  2  0 59  4]\n",
      " [ 0  0  0  1  2  0  0  0  1 58]]\n",
      "\n",
      "################## EPOCH with test fold = 9 ##################\n",
      " Accuracy: 81.81%\n",
      " Avg cost: 0.00009\n",
      "\n",
      " Confusion Matrix:\n",
      " [[81  1  0  0  0  0  0  0  3  0]\n",
      " [ 0 50 11  2  0  0  0  2  0  1]\n",
      " [ 0  0 77  1  0  0  0  0  0  0]\n",
      " [ 0  0  0 74  0  0  0  0  0  0]\n",
      " [ 0  0  1  2 82  0  1  0  0  2]\n",
      " [ 0  3  0  4  0 45  4  0  0 24]\n",
      " [ 0  0  0  0  0  0 57  0  0  0]\n",
      " [ 0  3  0 13  0  1  1 60  3  1]\n",
      " [ 4  1  0  1  0  1  3  3 57  0]\n",
      " [ 0 21  0 14  3  0  0  0  2 33]]\n"
     ]
    }
   ],
   "source": [
    "historic_acc, historic_cost = kfold_cross_validation(\n",
    "    folded_data,\n",
    "    INPUT_LAYER_SIZE,\n",
    "    HIDDEN_LAYER_SIZE,\n",
    "    OUTPUT_LAYER_SIZE,\n",
    "    NUMBER_OF_ITERATIONS,\n",
    "    LEARNING_RATE,\n",
    "    NUMBER_OF_FOLDS\n",
    ")"
   ]
  },
  {
   "cell_type": "code",
   "execution_count": 11,
   "metadata": {},
   "outputs": [
    {
     "output_type": "stream",
     "name": "stdout",
     "text": [
      "Summary: \n\navg_acc: 83.79% std_acc: 4.25% median_acc: 83.38%\navg_cost: 0.00009 std_cost: 0.00010 median_cost: 0.00006\n"
     ]
    }
   ],
   "source": [
    "metric_summary(historic_acc,historic_cost)"
   ]
  },
  {
   "cell_type": "code",
   "execution_count": 12,
   "metadata": {},
   "outputs": [
    {
     "output_type": "display_data",
     "data": {
      "image/svg+xml": "<svg class=\"main-svg\" xmlns=\"http://www.w3.org/2000/svg\" xmlns:xlink=\"http://www.w3.org/1999/xlink\" width=\"700\" height=\"450\" style=\"\" viewBox=\"0 0 700 450\"><rect x=\"0\" y=\"0\" width=\"700\" height=\"450\" style=\"fill: rgb(255, 255, 255); fill-opacity: 1;\"/><defs id=\"defs-186e3d\"><g class=\"clips\"><clipPath id=\"clip186e3dxyplot\" class=\"plotclip\"><rect width=\"520\" height=\"270\"/></clipPath><clipPath class=\"axesclip\" id=\"clip186e3dx\"><rect x=\"100\" y=\"0\" width=\"520\" height=\"450\"/></clipPath><clipPath class=\"axesclip\" id=\"clip186e3dy\"><rect x=\"0\" y=\"100\" width=\"700\" height=\"270\"/></clipPath><clipPath class=\"axesclip\" id=\"clip186e3dxy\"><rect x=\"100\" y=\"100\" width=\"520\" height=\"270\"/></clipPath></g><g class=\"gradients\"/></defs><g class=\"bglayer\"><rect class=\"bg\" x=\"100\" y=\"100\" width=\"520\" height=\"270\" style=\"fill: rgb(229, 236, 246); fill-opacity: 1; stroke-width: 0;\"/></g><g class=\"layer-below\"><g class=\"imagelayer\"/><g class=\"shapelayer\"/></g><g class=\"cartesianlayer\"><g class=\"subplot xy\"><g class=\"layer-subplot\"><g class=\"shapelayer\"/><g class=\"imagelayer\"/></g><g class=\"gridlayer\"><g class=\"x\"><path class=\"xgrid crisp\" transform=\"translate(221.85,0)\" d=\"M0,100v270\" style=\"stroke: rgb(255, 255, 255); stroke-opacity: 1; stroke-width: 1px;\"/><path class=\"xgrid crisp\" transform=\"translate(313.95,0)\" d=\"M0,100v270\" style=\"stroke: rgb(255, 255, 255); stroke-opacity: 1; stroke-width: 1px;\"/><path class=\"xgrid crisp\" transform=\"translate(406.05,0)\" d=\"M0,100v270\" style=\"stroke: rgb(255, 255, 255); stroke-opacity: 1; stroke-width: 1px;\"/><path class=\"xgrid crisp\" transform=\"translate(498.15,0)\" d=\"M0,100v270\" style=\"stroke: rgb(255, 255, 255); stroke-opacity: 1; stroke-width: 1px;\"/><path class=\"xgrid crisp\" transform=\"translate(590.25,0)\" d=\"M0,100v270\" style=\"stroke: rgb(255, 255, 255); stroke-opacity: 1; stroke-width: 1px;\"/></g><g class=\"y\"><path class=\"ygrid crisp\" transform=\"translate(0,325.90999999999997)\" d=\"M100,0h520\" style=\"stroke: rgb(255, 255, 255); stroke-opacity: 1; stroke-width: 1px;\"/><path class=\"ygrid crisp\" transform=\"translate(0,278.98)\" d=\"M100,0h520\" style=\"stroke: rgb(255, 255, 255); stroke-opacity: 1; stroke-width: 1px;\"/><path class=\"ygrid crisp\" transform=\"translate(0,232.05)\" d=\"M100,0h520\" style=\"stroke: rgb(255, 255, 255); stroke-opacity: 1; stroke-width: 1px;\"/><path class=\"ygrid crisp\" transform=\"translate(0,185.13)\" d=\"M100,0h520\" style=\"stroke: rgb(255, 255, 255); stroke-opacity: 1; stroke-width: 1px;\"/><path class=\"ygrid crisp\" transform=\"translate(0,138.2)\" d=\"M100,0h520\" style=\"stroke: rgb(255, 255, 255); stroke-opacity: 1; stroke-width: 1px;\"/></g></g><g class=\"zerolinelayer\"><path class=\"xzl zl crisp\" transform=\"translate(129.75,0)\" d=\"M0,100v270\" style=\"stroke: rgb(255, 255, 255); stroke-opacity: 1; stroke-width: 2px;\"/></g><path class=\"xlines-below\"/><path class=\"ylines-below\"/><g class=\"overlines-below\"/><g class=\"xaxislayer-below\"/><g class=\"yaxislayer-below\"/><g class=\"overaxes-below\"/><g class=\"plot\" transform=\"translate(100, 100)\" clip-path=\"url('#clip186e3dxyplot')\"><g class=\"scatterlayer mlayer\"><g class=\"trace scatter trace258dd2\" style=\"stroke-miterlimit: 2; opacity: 1;\"><g class=\"fills\"/><g class=\"errorbars\"/><g class=\"lines\"><path class=\"js-line\" d=\"M29.75,17.25L52.77,215.63L75.8,221.02L121.85,228.68L144.87,232.08L190.92,237.44L213.95,239.52L283.02,244.27L306.05,245.57L398.15,249.85L421.17,250.68L490.25,252.75\" style=\"vector-effect: non-scaling-stroke; fill: none; stroke: rgb(0, 0, 200); stroke-opacity: 1; stroke-width: 1px; opacity: 1;\"/></g><g class=\"points\"><path class=\"point\" transform=\"translate(29.75,17.25)\" d=\"M3,0A3,3 0 1,1 0,-3A3,3 0 0,1 3,0Z\" style=\"opacity: 1; stroke-width: 0px; fill: rgb(0, 0, 200); fill-opacity: 1;\"/><path class=\"point\" transform=\"translate(52.77,215.63)\" d=\"M3,0A3,3 0 1,1 0,-3A3,3 0 0,1 3,0Z\" style=\"opacity: 1; stroke-width: 0px; fill: rgb(0, 0, 200); fill-opacity: 1;\"/><path class=\"point\" transform=\"translate(75.8,221.02)\" d=\"M3,0A3,3 0 1,1 0,-3A3,3 0 0,1 3,0Z\" style=\"opacity: 1; stroke-width: 0px; fill: rgb(0, 0, 200); fill-opacity: 1;\"/><path class=\"point\" transform=\"translate(98.82,225.06)\" d=\"M3,0A3,3 0 1,1 0,-3A3,3 0 0,1 3,0Z\" style=\"opacity: 1; stroke-width: 0px; fill: rgb(0, 0, 200); fill-opacity: 1;\"/><path class=\"point\" transform=\"translate(121.85,228.68)\" d=\"M3,0A3,3 0 1,1 0,-3A3,3 0 0,1 3,0Z\" style=\"opacity: 1; stroke-width: 0px; fill: rgb(0, 0, 200); fill-opacity: 1;\"/><path class=\"point\" transform=\"translate(144.87,232.08)\" d=\"M3,0A3,3 0 1,1 0,-3A3,3 0 0,1 3,0Z\" style=\"opacity: 1; stroke-width: 0px; fill: rgb(0, 0, 200); fill-opacity: 1;\"/><path class=\"point\" transform=\"translate(167.9,234.99)\" d=\"M3,0A3,3 0 1,1 0,-3A3,3 0 0,1 3,0Z\" style=\"opacity: 1; stroke-width: 0px; fill: rgb(0, 0, 200); fill-opacity: 1;\"/><path class=\"point\" transform=\"translate(190.92,237.44)\" d=\"M3,0A3,3 0 1,1 0,-3A3,3 0 0,1 3,0Z\" style=\"opacity: 1; stroke-width: 0px; fill: rgb(0, 0, 200); fill-opacity: 1;\"/><path class=\"point\" transform=\"translate(213.95,239.52)\" d=\"M3,0A3,3 0 1,1 0,-3A3,3 0 0,1 3,0Z\" style=\"opacity: 1; stroke-width: 0px; fill: rgb(0, 0, 200); fill-opacity: 1;\"/><path class=\"point\" transform=\"translate(236.97,241.3)\" d=\"M3,0A3,3 0 1,1 0,-3A3,3 0 0,1 3,0Z\" style=\"opacity: 1; stroke-width: 0px; fill: rgb(0, 0, 200); fill-opacity: 1;\"/><path class=\"point\" transform=\"translate(260,242.87)\" d=\"M3,0A3,3 0 1,1 0,-3A3,3 0 0,1 3,0Z\" style=\"opacity: 1; stroke-width: 0px; fill: rgb(0, 0, 200); fill-opacity: 1;\"/><path class=\"point\" transform=\"translate(283.02,244.27)\" d=\"M3,0A3,3 0 1,1 0,-3A3,3 0 0,1 3,0Z\" style=\"opacity: 1; stroke-width: 0px; fill: rgb(0, 0, 200); fill-opacity: 1;\"/><path class=\"point\" transform=\"translate(306.05,245.57)\" d=\"M3,0A3,3 0 1,1 0,-3A3,3 0 0,1 3,0Z\" style=\"opacity: 1; stroke-width: 0px; fill: rgb(0, 0, 200); fill-opacity: 1;\"/><path class=\"point\" transform=\"translate(329.07,246.8)\" d=\"M3,0A3,3 0 1,1 0,-3A3,3 0 0,1 3,0Z\" style=\"opacity: 1; stroke-width: 0px; fill: rgb(0, 0, 200); fill-opacity: 1;\"/><path class=\"point\" transform=\"translate(352.1,247.92)\" d=\"M3,0A3,3 0 1,1 0,-3A3,3 0 0,1 3,0Z\" style=\"opacity: 1; stroke-width: 0px; fill: rgb(0, 0, 200); fill-opacity: 1;\"/><path class=\"point\" transform=\"translate(375.12,248.93)\" d=\"M3,0A3,3 0 1,1 0,-3A3,3 0 0,1 3,0Z\" style=\"opacity: 1; stroke-width: 0px; fill: rgb(0, 0, 200); fill-opacity: 1;\"/><path class=\"point\" transform=\"translate(398.15,249.85)\" d=\"M3,0A3,3 0 1,1 0,-3A3,3 0 0,1 3,0Z\" style=\"opacity: 1; stroke-width: 0px; fill: rgb(0, 0, 200); fill-opacity: 1;\"/><path class=\"point\" transform=\"translate(421.17,250.68)\" d=\"M3,0A3,3 0 1,1 0,-3A3,3 0 0,1 3,0Z\" style=\"opacity: 1; stroke-width: 0px; fill: rgb(0, 0, 200); fill-opacity: 1;\"/><path class=\"point\" transform=\"translate(444.2,251.43)\" d=\"M3,0A3,3 0 1,1 0,-3A3,3 0 0,1 3,0Z\" style=\"opacity: 1; stroke-width: 0px; fill: rgb(0, 0, 200); fill-opacity: 1;\"/><path class=\"point\" transform=\"translate(467.22,252.12)\" d=\"M3,0A3,3 0 1,1 0,-3A3,3 0 0,1 3,0Z\" style=\"opacity: 1; stroke-width: 0px; fill: rgb(0, 0, 200); fill-opacity: 1;\"/><path class=\"point\" transform=\"translate(490.25,252.75)\" d=\"M3,0A3,3 0 1,1 0,-3A3,3 0 0,1 3,0Z\" style=\"opacity: 1; stroke-width: 0px; fill: rgb(0, 0, 200); fill-opacity: 1;\"/></g><g class=\"text\"/></g></g></g><g class=\"overplot\"/><path class=\"xlines-above crisp\" d=\"M0,0\" style=\"fill: none;\"/><path class=\"ylines-above crisp\" d=\"M0,0\" style=\"fill: none;\"/><g class=\"overlines-above\"/><g class=\"xaxislayer-above\"><g class=\"xtick\"><text text-anchor=\"middle\" x=\"0\" y=\"385\" transform=\"translate(129.75,0)\" style=\"font-family: 'Courier New', monospace; font-size: 14px; fill: rgb(127, 127, 127); fill-opacity: 1; white-space: pre;\">0</text></g><g class=\"xtick\"><text text-anchor=\"middle\" x=\"0\" y=\"385\" transform=\"translate(221.85,0)\" style=\"font-family: 'Courier New', monospace; font-size: 14px; fill: rgb(127, 127, 127); fill-opacity: 1; white-space: pre;\">200</text></g><g class=\"xtick\"><text text-anchor=\"middle\" x=\"0\" y=\"385\" transform=\"translate(313.95,0)\" style=\"font-family: 'Courier New', monospace; font-size: 14px; fill: rgb(127, 127, 127); fill-opacity: 1; white-space: pre;\">400</text></g><g class=\"xtick\"><text text-anchor=\"middle\" x=\"0\" y=\"385\" transform=\"translate(406.05,0)\" style=\"font-family: 'Courier New', monospace; font-size: 14px; fill: rgb(127, 127, 127); fill-opacity: 1; white-space: pre;\">600</text></g><g class=\"xtick\"><text text-anchor=\"middle\" x=\"0\" y=\"385\" transform=\"translate(498.15,0)\" style=\"font-family: 'Courier New', monospace; font-size: 14px; fill: rgb(127, 127, 127); fill-opacity: 1; white-space: pre;\">800</text></g><g class=\"xtick\"><text text-anchor=\"middle\" x=\"0\" y=\"385\" transform=\"translate(590.25,0)\" style=\"font-family: 'Courier New', monospace; font-size: 14px; fill: rgb(127, 127, 127); fill-opacity: 1; white-space: pre;\">1000</text></g></g><g class=\"yaxislayer-above\"><g class=\"ytick\"><text text-anchor=\"end\" x=\"99\" y=\"4.8999999999999995\" transform=\"translate(0,325.90999999999997)\" style=\"font-family: 'Courier New', monospace; font-size: 14px; fill: rgb(127, 127, 127); fill-opacity: 1; white-space: pre;\">0.00010</text></g><g class=\"ytick\"><text text-anchor=\"end\" x=\"99\" y=\"4.8999999999999995\" transform=\"translate(0,278.98)\" style=\"font-family: 'Courier New', monospace; font-size: 14px; fill: rgb(127, 127, 127); fill-opacity: 1; white-space: pre;\">0.00020</text></g><g class=\"ytick\"><text text-anchor=\"end\" x=\"99\" y=\"4.8999999999999995\" transform=\"translate(0,232.05)\" style=\"font-family: 'Courier New', monospace; font-size: 14px; fill: rgb(127, 127, 127); fill-opacity: 1; white-space: pre;\">0.00030</text></g><g class=\"ytick\"><text text-anchor=\"end\" x=\"99\" y=\"4.8999999999999995\" transform=\"translate(0,185.13)\" style=\"font-family: 'Courier New', monospace; font-size: 14px; fill: rgb(127, 127, 127); fill-opacity: 1; white-space: pre;\">0.00040</text></g><g class=\"ytick\"><text text-anchor=\"end\" x=\"99\" y=\"4.8999999999999995\" transform=\"translate(0,138.2)\" style=\"font-family: 'Courier New', monospace; font-size: 14px; fill: rgb(127, 127, 127); fill-opacity: 1; white-space: pre;\">0.00050</text></g></g><g class=\"overaxes-above\"/></g></g><g class=\"polarlayer\"/><g class=\"ternarylayer\"/><g class=\"geolayer\"/><g class=\"funnelarealayer\"/><g class=\"pielayer\"/><g class=\"treemaplayer\"/><g class=\"sunburstlayer\"/><g class=\"glimages\"/><defs id=\"topdefs-186e3d\"><g class=\"clips\"/></defs><g class=\"layer-above\"><g class=\"imagelayer\"/><g class=\"shapelayer\"/></g><g class=\"infolayer\"><g class=\"g-gtitle\"><text class=\"gtitle\" x=\"35\" y=\"50\" text-anchor=\"start\" dy=\"0em\" style=\"font-family: 'Courier New', monospace; font-size: 20px; fill: rgb(127, 127, 127); opacity: 1; font-weight: normal; white-space: pre;\">Cost chart</text></g><g class=\"g-xtitle\"><text class=\"xtitle\" x=\"360\" y=\"415.9\" text-anchor=\"middle\" style=\"font-family: 'Courier New', monospace; font-size: 17px; fill: rgb(127, 127, 127); opacity: 1; font-weight: normal; white-space: pre;\">Number of Iterations</text></g><g class=\"g-ytitle\" transform=\"translate(1.712890625,0)\"><text class=\"ytitle\" transform=\"rotate(-90,12.287499999999994,235)\" x=\"12.287499999999994\" y=\"235\" text-anchor=\"middle\" style=\"font-family: 'Courier New', monospace; font-size: 17px; fill: rgb(127, 127, 127); opacity: 1; font-weight: normal; white-space: pre;\">Avg Cost</text></g></g></svg>"
     },
     "metadata": {}
    }
   ],
   "source": [
    "f = create_figure()\n",
    "plot_figure(f, np.mean(historic_cost,axis=0))"
   ]
  },
  {
   "source": [
    "*   ### Experiment #2\n",
    "    *   Increasing `HIDDEN_LAYER_SIZE` from `10` to `50`.\n",
    "    *   Reducing `NUMBER_OF_FOLDS` from `10` to `5`. "
   ],
   "cell_type": "markdown",
   "metadata": {}
  },
  {
   "cell_type": "code",
   "execution_count": 13,
   "metadata": {},
   "outputs": [],
   "source": [
    "HIDDEN_LAYER_SIZE = 50\n",
    "NUMBER_OF_FOLDS = 5"
   ]
  },
  {
   "cell_type": "code",
   "execution_count": 14,
   "metadata": {},
   "outputs": [
    {
     "output_type": "stream",
     "name": "stdout",
     "text": [
      "Model parameters:\n",
      "\n",
      " input_layer_size: 16 | hidden_layer_size: 50 | output_layer_size: 10\n",
      " number_of_iterations: 1000 | learning_rate: 0.1 | number_of_folds: 5\n",
      "\n",
      "################## EPOCH with test fold = 0 ##################\n",
      " Accuracy: 95.46%\n",
      " Avg cost: 0.00013\n",
      "\n",
      " Confusion Matrix:\n",
      " [[78  1  1  0  0  0  1  0  0  1]\n",
      " [ 0 61  6  4  0  4  0  0  0  0]\n",
      " [ 0  1 83  0  0  0  0  0  0  0]\n",
      " [ 0  0  0 59  0  0  0  1  0  0]\n",
      " [ 0  0  0  0 66  0  0  0  0  0]\n",
      " [ 0  0  0  1  0 77  1  0  1  0]\n",
      " [ 0  0  0  0  1  0 76  0  0  0]\n",
      " [ 0  0  0  0  0  0  0 72  1  0]\n",
      " [ 1  0  0  0  0  0  0  0 73  1]\n",
      " [ 2  0  0  2  3  0  0  0  0 70]]\n",
      "\n",
      "################## EPOCH with test fold = 1 ##################\n",
      " Accuracy: 93.06%\n",
      " Avg cost: 0.00012\n",
      "\n",
      " Confusion Matrix:\n",
      " [[73  0  0  0  2  0  0  0  0  2]\n",
      " [ 0 63 10  3  0  4  0  0  0  1]\n",
      " [ 0  2 70  0  0  0  0  1  0  0]\n",
      " [ 0  0  0 63  0  0  0  0  0  0]\n",
      " [ 0  0  0  0 82  0  0  0  0  1]\n",
      " [ 0  0  0  2  0 65  0  0  0  2]\n",
      " [ 0  0  0  0  1  0 83  0  1  0]\n",
      " [ 0  4  0  1  0  0  0 76  0  0]\n",
      " [ 3  0  0  0  0  1  0  3 55  4]\n",
      " [ 0  1  0  3  0  0  0  0  0 67]]\n",
      "\n",
      "################## EPOCH with test fold = 2 ##################\n",
      " Accuracy: 93.99%\n",
      " Avg cost: 0.00014\n",
      "\n",
      " Confusion Matrix:\n",
      " [[65  0  0  0  0  0  0  0  1  0]\n",
      " [ 0 66  3  4  1  2  0  0  0  0]\n",
      " [ 0  2 78  0  0  0  0  0  0  0]\n",
      " [ 0  1  0 77  0  0  0  1  0  0]\n",
      " [ 0  0  0  0 75  0  0  0  0  2]\n",
      " [ 0  0  0  0  0 71  1  0  1  6]\n",
      " [ 0  0  0  0  0  0 67  0  0  0]\n",
      " [ 0  2  0  1  0  0  0 72  1  0]\n",
      " [ 0  2  0  1  0  0  0  5 49  3]\n",
      " [ 0  1  0  1  1  2  0  0  0 84]]\n",
      "\n",
      "################## EPOCH with test fold = 3 ##################\n",
      " Accuracy: 94.53%\n",
      " Avg cost: 0.00012\n",
      "\n",
      " Confusion Matrix:\n",
      " [[70  0  0  0  1  0  2  0  0  0]\n",
      " [ 0 70 13  3  0  1  2  0  0  0]\n",
      " [ 0  0 80  0  0  0  0  0  0  0]\n",
      " [ 0  1  0 71  0  0  0  0  0  1]\n",
      " [ 0  0  0  0 71  0  3  0  0  0]\n",
      " [ 0  0  0  0  0 74  0  0  1  2]\n",
      " [ 2  0  0  0  0  0 77  0  0  0]\n",
      " [ 0  1  0  1  0  0  0 63  0  0]\n",
      " [ 1  2  0  0  0  1  0  1 72  0]\n",
      " [ 0  0  0  0  1  0  0  0  1 60]]\n",
      "\n",
      "################## EPOCH with test fold = 4 ##################\n",
      " Accuracy: 94.26%\n",
      " Avg cost: 0.00014\n",
      "\n",
      " Confusion Matrix:\n",
      " [[67  0  0  0  1  0  1  0  3  1]\n",
      " [ 0 65 10  6  0  1  0  0  0  0]\n",
      " [ 0  1 83  0  0  0  0  0  0  0]\n",
      " [ 0  0  0 73  0  1  0  0  0  0]\n",
      " [ 0  0  0  0 78  0  0  0  0  1]\n",
      " [ 0  1  0  2  0 54  0  0  0  1]\n",
      " [ 0  0  0  0  0  0 81  0  0  0]\n",
      " [ 0  8  0  0  0  0  0 74  0  0]\n",
      " [ 2  0  0  0  0  1  0  0 67  0]\n",
      " [ 0  0  0  1  0  0  0  0  1 64]]\n"
     ]
    }
   ],
   "source": [
    "historic_acc, historic_cost = kfold_cross_validation(\n",
    "    folded_data,\n",
    "    INPUT_LAYER_SIZE,\n",
    "    HIDDEN_LAYER_SIZE,\n",
    "    OUTPUT_LAYER_SIZE,\n",
    "    NUMBER_OF_ITERATIONS,\n",
    "    LEARNING_RATE,\n",
    "    NUMBER_OF_FOLDS\n",
    ")"
   ]
  },
  {
   "cell_type": "code",
   "execution_count": 15,
   "metadata": {},
   "outputs": [
    {
     "output_type": "stream",
     "name": "stdout",
     "text": [
      "Summary: \n\navg_acc: 94.26% std_acc: 0.78% median_acc: 94.26%\navg_cost: 0.00013 std_cost: 0.00030 median_cost: 0.00005\n"
     ]
    }
   ],
   "source": [
    "metric_summary(historic_acc,historic_cost)"
   ]
  },
  {
   "cell_type": "code",
   "execution_count": 16,
   "metadata": {},
   "outputs": [
    {
     "output_type": "display_data",
     "data": {
      "image/svg+xml": "<svg class=\"main-svg\" xmlns=\"http://www.w3.org/2000/svg\" xmlns:xlink=\"http://www.w3.org/1999/xlink\" width=\"700\" height=\"450\" style=\"\" viewBox=\"0 0 700 450\"><rect x=\"0\" y=\"0\" width=\"700\" height=\"450\" style=\"fill: rgb(255, 255, 255); fill-opacity: 1;\"/><defs id=\"defs-a9b41d\"><g class=\"clips\"><clipPath id=\"clipa9b41dxyplot\" class=\"plotclip\"><rect width=\"520\" height=\"270\"/></clipPath><clipPath class=\"axesclip\" id=\"clipa9b41dx\"><rect x=\"100\" y=\"0\" width=\"520\" height=\"450\"/></clipPath><clipPath class=\"axesclip\" id=\"clipa9b41dy\"><rect x=\"0\" y=\"100\" width=\"700\" height=\"270\"/></clipPath><clipPath class=\"axesclip\" id=\"clipa9b41dxy\"><rect x=\"100\" y=\"100\" width=\"520\" height=\"270\"/></clipPath></g><g class=\"gradients\"/></defs><g class=\"bglayer\"><rect class=\"bg\" x=\"100\" y=\"100\" width=\"520\" height=\"270\" style=\"fill: rgb(229, 236, 246); fill-opacity: 1; stroke-width: 0;\"/></g><g class=\"layer-below\"><g class=\"imagelayer\"/><g class=\"shapelayer\"/></g><g class=\"cartesianlayer\"><g class=\"subplot xy\"><g class=\"layer-subplot\"><g class=\"shapelayer\"/><g class=\"imagelayer\"/></g><g class=\"gridlayer\"><g class=\"x\"><path class=\"xgrid crisp\" transform=\"translate(221.85,0)\" d=\"M0,100v270\" style=\"stroke: rgb(255, 255, 255); stroke-opacity: 1; stroke-width: 1px;\"/><path class=\"xgrid crisp\" transform=\"translate(313.95,0)\" d=\"M0,100v270\" style=\"stroke: rgb(255, 255, 255); stroke-opacity: 1; stroke-width: 1px;\"/><path class=\"xgrid crisp\" transform=\"translate(406.05,0)\" d=\"M0,100v270\" style=\"stroke: rgb(255, 255, 255); stroke-opacity: 1; stroke-width: 1px;\"/><path class=\"xgrid crisp\" transform=\"translate(498.15,0)\" d=\"M0,100v270\" style=\"stroke: rgb(255, 255, 255); stroke-opacity: 1; stroke-width: 1px;\"/><path class=\"xgrid crisp\" transform=\"translate(590.25,0)\" d=\"M0,100v270\" style=\"stroke: rgb(255, 255, 255); stroke-opacity: 1; stroke-width: 1px;\"/></g><g class=\"y\"><path class=\"ygrid crisp\" transform=\"translate(0,275.15)\" d=\"M100,0h520\" style=\"stroke: rgb(255, 255, 255); stroke-opacity: 1; stroke-width: 1px;\"/><path class=\"ygrid crisp\" transform=\"translate(0,191.78)\" d=\"M100,0h520\" style=\"stroke: rgb(255, 255, 255); stroke-opacity: 1; stroke-width: 1px;\"/><path class=\"ygrid crisp\" transform=\"translate(0,108.42)\" d=\"M100,0h520\" style=\"stroke: rgb(255, 255, 255); stroke-opacity: 1; stroke-width: 1px;\"/></g></g><g class=\"zerolinelayer\"><path class=\"xzl zl crisp\" transform=\"translate(129.75,0)\" d=\"M0,100v270\" style=\"stroke: rgb(255, 255, 255); stroke-opacity: 1; stroke-width: 2px;\"/><path class=\"yzl zl crisp\" transform=\"translate(0,358.51)\" d=\"M100,0h520\" style=\"stroke: rgb(255, 255, 255); stroke-opacity: 1; stroke-width: 2px;\"/></g><path class=\"xlines-below\"/><path class=\"ylines-below\"/><g class=\"overlines-below\"/><g class=\"xaxislayer-below\"/><g class=\"yaxislayer-below\"/><g class=\"overaxes-below\"/><g class=\"plot\" transform=\"translate(100, 100)\" clip-path=\"url('#clipa9b41dxyplot')\"><g class=\"scatterlayer mlayer\"><g class=\"trace scatter tracea17b06\" style=\"stroke-miterlimit: 2; opacity: 1;\"><g class=\"fills\"/><g class=\"errorbars\"/><g class=\"lines\"><path class=\"js-line\" d=\"M29.75,17.25L52.77,229.57L75.8,238.53L98.82,242.35L121.85,244.57L167.9,247.17L190.92,248.04L283.02,250.3L306.05,250.69L490.25,252.75\" style=\"vector-effect: non-scaling-stroke; fill: none; stroke: rgb(0, 0, 200); stroke-opacity: 1; stroke-width: 1px; opacity: 1;\"/></g><g class=\"points\"><path class=\"point\" transform=\"translate(29.75,17.25)\" d=\"M3,0A3,3 0 1,1 0,-3A3,3 0 0,1 3,0Z\" style=\"opacity: 1; stroke-width: 0px; fill: rgb(0, 0, 200); fill-opacity: 1;\"/><path class=\"point\" transform=\"translate(52.77,229.57)\" d=\"M3,0A3,3 0 1,1 0,-3A3,3 0 0,1 3,0Z\" style=\"opacity: 1; stroke-width: 0px; fill: rgb(0, 0, 200); fill-opacity: 1;\"/><path class=\"point\" transform=\"translate(75.8,238.53)\" d=\"M3,0A3,3 0 1,1 0,-3A3,3 0 0,1 3,0Z\" style=\"opacity: 1; stroke-width: 0px; fill: rgb(0, 0, 200); fill-opacity: 1;\"/><path class=\"point\" transform=\"translate(98.82,242.35)\" d=\"M3,0A3,3 0 1,1 0,-3A3,3 0 0,1 3,0Z\" style=\"opacity: 1; stroke-width: 0px; fill: rgb(0, 0, 200); fill-opacity: 1;\"/><path class=\"point\" transform=\"translate(121.85,244.57)\" d=\"M3,0A3,3 0 1,1 0,-3A3,3 0 0,1 3,0Z\" style=\"opacity: 1; stroke-width: 0px; fill: rgb(0, 0, 200); fill-opacity: 1;\"/><path class=\"point\" transform=\"translate(144.87,246.06)\" d=\"M3,0A3,3 0 1,1 0,-3A3,3 0 0,1 3,0Z\" style=\"opacity: 1; stroke-width: 0px; fill: rgb(0, 0, 200); fill-opacity: 1;\"/><path class=\"point\" transform=\"translate(167.9,247.17)\" d=\"M3,0A3,3 0 1,1 0,-3A3,3 0 0,1 3,0Z\" style=\"opacity: 1; stroke-width: 0px; fill: rgb(0, 0, 200); fill-opacity: 1;\"/><path class=\"point\" transform=\"translate(190.92,248.04)\" d=\"M3,0A3,3 0 1,1 0,-3A3,3 0 0,1 3,0Z\" style=\"opacity: 1; stroke-width: 0px; fill: rgb(0, 0, 200); fill-opacity: 1;\"/><path class=\"point\" transform=\"translate(213.95,248.75)\" d=\"M3,0A3,3 0 1,1 0,-3A3,3 0 0,1 3,0Z\" style=\"opacity: 1; stroke-width: 0px; fill: rgb(0, 0, 200); fill-opacity: 1;\"/><path class=\"point\" transform=\"translate(236.97,249.34)\" d=\"M3,0A3,3 0 1,1 0,-3A3,3 0 0,1 3,0Z\" style=\"opacity: 1; stroke-width: 0px; fill: rgb(0, 0, 200); fill-opacity: 1;\"/><path class=\"point\" transform=\"translate(260,249.85)\" d=\"M3,0A3,3 0 1,1 0,-3A3,3 0 0,1 3,0Z\" style=\"opacity: 1; stroke-width: 0px; fill: rgb(0, 0, 200); fill-opacity: 1;\"/><path class=\"point\" transform=\"translate(283.02,250.3)\" d=\"M3,0A3,3 0 1,1 0,-3A3,3 0 0,1 3,0Z\" style=\"opacity: 1; stroke-width: 0px; fill: rgb(0, 0, 200); fill-opacity: 1;\"/><path class=\"point\" transform=\"translate(306.05,250.69)\" d=\"M3,0A3,3 0 1,1 0,-3A3,3 0 0,1 3,0Z\" style=\"opacity: 1; stroke-width: 0px; fill: rgb(0, 0, 200); fill-opacity: 1;\"/><path class=\"point\" transform=\"translate(329.07,251.04)\" d=\"M3,0A3,3 0 1,1 0,-3A3,3 0 0,1 3,0Z\" style=\"opacity: 1; stroke-width: 0px; fill: rgb(0, 0, 200); fill-opacity: 1;\"/><path class=\"point\" transform=\"translate(352.1,251.36)\" d=\"M3,0A3,3 0 1,1 0,-3A3,3 0 0,1 3,0Z\" style=\"opacity: 1; stroke-width: 0px; fill: rgb(0, 0, 200); fill-opacity: 1;\"/><path class=\"point\" transform=\"translate(375.12,251.64)\" d=\"M3,0A3,3 0 1,1 0,-3A3,3 0 0,1 3,0Z\" style=\"opacity: 1; stroke-width: 0px; fill: rgb(0, 0, 200); fill-opacity: 1;\"/><path class=\"point\" transform=\"translate(398.15,251.9)\" d=\"M3,0A3,3 0 1,1 0,-3A3,3 0 0,1 3,0Z\" style=\"opacity: 1; stroke-width: 0px; fill: rgb(0, 0, 200); fill-opacity: 1;\"/><path class=\"point\" transform=\"translate(421.17,252.14)\" d=\"M3,0A3,3 0 1,1 0,-3A3,3 0 0,1 3,0Z\" style=\"opacity: 1; stroke-width: 0px; fill: rgb(0, 0, 200); fill-opacity: 1;\"/><path class=\"point\" transform=\"translate(444.2,252.36)\" d=\"M3,0A3,3 0 1,1 0,-3A3,3 0 0,1 3,0Z\" style=\"opacity: 1; stroke-width: 0px; fill: rgb(0, 0, 200); fill-opacity: 1;\"/><path class=\"point\" transform=\"translate(467.22,252.56)\" d=\"M3,0A3,3 0 1,1 0,-3A3,3 0 0,1 3,0Z\" style=\"opacity: 1; stroke-width: 0px; fill: rgb(0, 0, 200); fill-opacity: 1;\"/><path class=\"point\" transform=\"translate(490.25,252.75)\" d=\"M3,0A3,3 0 1,1 0,-3A3,3 0 0,1 3,0Z\" style=\"opacity: 1; stroke-width: 0px; fill: rgb(0, 0, 200); fill-opacity: 1;\"/></g><g class=\"text\"/></g></g></g><g class=\"overplot\"/><path class=\"xlines-above crisp\" d=\"M0,0\" style=\"fill: none;\"/><path class=\"ylines-above crisp\" d=\"M0,0\" style=\"fill: none;\"/><g class=\"overlines-above\"/><g class=\"xaxislayer-above\"><g class=\"xtick\"><text text-anchor=\"middle\" x=\"0\" y=\"385\" transform=\"translate(129.75,0)\" style=\"font-family: 'Courier New', monospace; font-size: 14px; fill: rgb(127, 127, 127); fill-opacity: 1; white-space: pre;\">0</text></g><g class=\"xtick\"><text text-anchor=\"middle\" x=\"0\" y=\"385\" transform=\"translate(221.85,0)\" style=\"font-family: 'Courier New', monospace; font-size: 14px; fill: rgb(127, 127, 127); fill-opacity: 1; white-space: pre;\">200</text></g><g class=\"xtick\"><text text-anchor=\"middle\" x=\"0\" y=\"385\" transform=\"translate(313.95,0)\" style=\"font-family: 'Courier New', monospace; font-size: 14px; fill: rgb(127, 127, 127); fill-opacity: 1; white-space: pre;\">400</text></g><g class=\"xtick\"><text text-anchor=\"middle\" x=\"0\" y=\"385\" transform=\"translate(406.05,0)\" style=\"font-family: 'Courier New', monospace; font-size: 14px; fill: rgb(127, 127, 127); fill-opacity: 1; white-space: pre;\">600</text></g><g class=\"xtick\"><text text-anchor=\"middle\" x=\"0\" y=\"385\" transform=\"translate(498.15,0)\" style=\"font-family: 'Courier New', monospace; font-size: 14px; fill: rgb(127, 127, 127); fill-opacity: 1; white-space: pre;\">800</text></g><g class=\"xtick\"><text text-anchor=\"middle\" x=\"0\" y=\"385\" transform=\"translate(590.25,0)\" style=\"font-family: 'Courier New', monospace; font-size: 14px; fill: rgb(127, 127, 127); fill-opacity: 1; white-space: pre;\">1000</text></g></g><g class=\"yaxislayer-above\"><g class=\"ytick\"><text text-anchor=\"end\" x=\"99\" y=\"4.8999999999999995\" transform=\"translate(0,358.51)\" style=\"font-family: 'Courier New', monospace; font-size: 14px; fill: rgb(127, 127, 127); fill-opacity: 1; white-space: pre;\">0.00000</text></g><g class=\"ytick\"><text text-anchor=\"end\" x=\"99\" y=\"4.8999999999999995\" transform=\"translate(0,275.15)\" style=\"font-family: 'Courier New', monospace; font-size: 14px; fill: rgb(127, 127, 127); fill-opacity: 1; white-space: pre;\">0.00050</text></g><g class=\"ytick\"><text text-anchor=\"end\" x=\"99\" y=\"4.8999999999999995\" transform=\"translate(0,191.78)\" style=\"font-family: 'Courier New', monospace; font-size: 14px; fill: rgb(127, 127, 127); fill-opacity: 1; white-space: pre;\">0.00100</text></g><g class=\"ytick\"><text text-anchor=\"end\" x=\"99\" y=\"4.8999999999999995\" transform=\"translate(0,108.42)\" style=\"font-family: 'Courier New', monospace; font-size: 14px; fill: rgb(127, 127, 127); fill-opacity: 1; white-space: pre;\">0.00150</text></g></g><g class=\"overaxes-above\"/></g></g><g class=\"polarlayer\"/><g class=\"ternarylayer\"/><g class=\"geolayer\"/><g class=\"funnelarealayer\"/><g class=\"pielayer\"/><g class=\"treemaplayer\"/><g class=\"sunburstlayer\"/><g class=\"glimages\"/><defs id=\"topdefs-a9b41d\"><g class=\"clips\"/></defs><g class=\"layer-above\"><g class=\"imagelayer\"/><g class=\"shapelayer\"/></g><g class=\"infolayer\"><g class=\"g-gtitle\"><text class=\"gtitle\" x=\"35\" y=\"50\" text-anchor=\"start\" dy=\"0em\" style=\"font-family: 'Courier New', monospace; font-size: 20px; fill: rgb(127, 127, 127); opacity: 1; font-weight: normal; white-space: pre;\">Cost chart</text></g><g class=\"g-xtitle\"><text class=\"xtitle\" x=\"360\" y=\"415.9\" text-anchor=\"middle\" style=\"font-family: 'Courier New', monospace; font-size: 17px; fill: rgb(127, 127, 127); opacity: 1; font-weight: normal; white-space: pre;\">Number of Iterations</text></g><g class=\"g-ytitle\" transform=\"translate(1.712890625,0)\"><text class=\"ytitle\" transform=\"rotate(-90,12.287499999999994,235)\" x=\"12.287499999999994\" y=\"235\" text-anchor=\"middle\" style=\"font-family: 'Courier New', monospace; font-size: 17px; fill: rgb(127, 127, 127); opacity: 1; font-weight: normal; white-space: pre;\">Avg Cost</text></g></g></svg>"
     },
     "metadata": {}
    }
   ],
   "source": [
    "f = create_figure()\n",
    "plot_figure(f, np.mean(historic_cost,axis=0))"
   ]
  },
  {
   "source": [
    "## Dataset `Poker Hand`\n",
    "\n",
    "The second set of experiments we will be doing is using the [poker hand](https://archive.ics.uci.edu/ml/datasets/Poker+Hand) dataset. The information inside it represents a poker hand. Each row in the dataset is an individual example of a poker hand (5 cards), each card is described using two attributes (suit and rank), for a total of 10 predictive attributes. The last number corresponds to the class of the example.\n",
    "\n",
    "*   Suits: Ordinal (1-4) representing `{Hearts, Spades, Diamonds, Clubs}`.\n",
    "*   Rank: Numerical (1-13) representing `{Ace, 2, 3, ... , Queen, King}`.\n",
    "*   Class: Ordinal (0-9).\n",
    "\n",
    "    *   0: Nothing in hand; not a recognized poker hand\n",
    "    *   1: One pair; one pair of equal ranks within five cards\n",
    "    *   2: Two pairs; two pairs of equal ranks within five cards\n",
    "    *   3: Three of a kind; three equal ranks within five cards\n",
    "    *   4: Straight; five cards, sequentially ranked with no gaps\n",
    "    *   5: Flush; five cards with the same suit\n",
    "    *   6: Full house; pair + different rank three of a kind\n",
    "    *   7: Four of a kind; four equal ranks within five cards\n",
    "    *   8: Straight flush; straight + flush\n",
    "    *   9: Royal flush; {Ace, King, Queen, Jack, Ten} + flush \n",
    "\n"
   ],
   "cell_type": "markdown",
   "metadata": {}
  },
  {
   "cell_type": "code",
   "execution_count": 17,
   "metadata": {},
   "outputs": [],
   "source": [
    "x_data,y_data = load_dataset(\"../resources/datasets/poker_hand.txt\",dtype=np.int64)"
   ]
  },
  {
   "cell_type": "code",
   "execution_count": 18,
   "metadata": {},
   "outputs": [
    {
     "output_type": "stream",
     "name": "stdout",
     "text": [
      "class: 0 | 12493 (49.95%) instances\nclass: 1 | 10599 (42.38%) instances\nclass: 2 | 1206 (4.82%) instances\nclass: 3 | 513 (2.05%) instances\nclass: 4 | 93 (0.37%) instances\nclass: 5 | 54 (0.22%) instances\nclass: 6 | 36 (0.14%) instances\nclass: 7 | 6 (0.02%) instances\nclass: 8 | 5 (0.02%) instances\nclass: 9 | 5 (0.02%) instances\nTotal number of instances: 25010\n"
     ]
    }
   ],
   "source": [
    "# Explore data and class distribution\n",
    "explore_data(y_data,10)"
   ]
  },
  {
   "source": [
    "After exploring the data we can observe that it contains `25010` examples of `10`  unbalanced classes which is the main reason we chose this dataset, with the intention of understanding the importance of the distribution of classes inside a dataset can affect the result."
   ],
   "cell_type": "markdown",
   "metadata": {}
  },
  {
   "cell_type": "code",
   "execution_count": 19,
   "metadata": {},
   "outputs": [],
   "source": [
    "# Using the utility we built to normalize the values of the input layer\n",
    "x_data = normalization(x_data)"
   ]
  },
  {
   "cell_type": "code",
   "execution_count": 20,
   "metadata": {},
   "outputs": [],
   "source": [
    "# Applying one-hot encoding to the expected classes understanding that\n",
    "# the result of this transformation is also normalized\n",
    "y_data = one_hot(y_data,10)"
   ]
  },
  {
   "source": [
    "*   ### Experiment #1"
   ],
   "cell_type": "markdown",
   "metadata": {}
  },
  {
   "cell_type": "code",
   "execution_count": 21,
   "metadata": {},
   "outputs": [],
   "source": [
    "LEARNING_RATE = 0.1\n",
    "NUMBER_OF_ITERATIONS = 1000\n",
    "HIDDEN_LAYER_SIZE = 10\n",
    "INPUT_LAYER_SIZE = 10\n",
    "OUTPUT_LAYER_SIZE = 10\n",
    "NUMBER_OF_FOLDS = 10"
   ]
  },
  {
   "cell_type": "code",
   "execution_count": 22,
   "metadata": {},
   "outputs": [],
   "source": [
    "# Dividing the data in `k` folds as a first step for `k-cross-validation`\n",
    "folded_data = fold_data(list(zip(x_data,y_data)),k=NUMBER_OF_FOLDS)"
   ]
  },
  {
   "cell_type": "code",
   "execution_count": 23,
   "metadata": {},
   "outputs": [
    {
     "output_type": "stream",
     "name": "stdout",
     "text": [
      "Model parameters:\n",
      "\n",
      " input_layer_size: 10 | hidden_layer_size: 10 | output_layer_size: 10\n",
      " number_of_iterations: 1000 | learning_rate: 0.1 | number_of_folds: 10\n",
      "\n",
      "################## EPOCH with test fold = 0 ##################\n",
      " Accuracy: 50.54%\n",
      " Avg cost: 0.00003\n",
      "\n",
      " Confusion Matrix:\n",
      " [[1191   41    0    0    0    0    0]\n",
      " [1009   73    0    0    0    0    0]\n",
      " [ 107   15    0    0    0    0    0]\n",
      " [  42    7    0    0    0    0    0]\n",
      " [   8    0    0    0    0    0    0]\n",
      " [   3    1    0    0    0    0    0]\n",
      " [   3    1    0    0    0    0    0]]\n",
      "\n",
      "################## EPOCH with test fold = 1 ##################\n",
      " Accuracy: 50.14%\n",
      " Avg cost: 0.00003\n",
      "\n",
      " Confusion Matrix:\n",
      " [[1167   71    0    0    0    0    0    0    0]\n",
      " [ 976   87    0    0    0    0    0    0    0]\n",
      " [ 111   17    0    0    0    0    0    0    0]\n",
      " [  46    9    0    0    0    0    0    0    0]\n",
      " [   8    2    0    0    0    0    0    0    0]\n",
      " [   2    0    0    0    0    0    0    0    0]\n",
      " [   3    0    0    0    0    0    0    0    0]\n",
      " [   1    0    0    0    0    0    0    0    0]\n",
      " [   1    0    0    0    0    0    0    0    0]]\n",
      "\n",
      "################## EPOCH with test fold = 2 ##################\n",
      " Accuracy: 51.50%\n",
      " Avg cost: 0.00003\n",
      "\n",
      " Confusion Matrix:\n",
      " [[1232   23    0    0    0    0    0    0]\n",
      " [ 995   56    0    0    0    0    0    0]\n",
      " [ 113   12    0    0    0    0    0    0]\n",
      " [  42    8    0    0    0    0    0    0]\n",
      " [  10    0    0    0    0    0    0    0]\n",
      " [   4    0    0    0    0    0    0    0]\n",
      " [   3    2    0    0    0    0    0    0]\n",
      " [   1    0    0    0    0    0    0    0]]\n",
      "\n",
      "################## EPOCH with test fold = 3 ##################\n",
      " Accuracy: 52.94%\n",
      " Avg cost: 0.00003\n",
      "\n",
      " Confusion Matrix:\n",
      " [[1248   35    0    0    0    0    0    0]\n",
      " [ 960   76    0    0    0    0    0    0]\n",
      " [ 106   15    0    0    0    0    0    0]\n",
      " [  42    4    0    0    0    0    0    0]\n",
      " [   6    0    0    0    0    0    0    0]\n",
      " [   5    1    0    0    0    0    0    0]\n",
      " [   1    1    0    0    0    0    0    0]\n",
      " [   1    0    0    0    0    0    0    0]]\n",
      "\n",
      "################## EPOCH with test fold = 4 ##################\n",
      " Accuracy: 50.58%\n",
      " Avg cost: 0.00003\n",
      "\n",
      " Confusion Matrix:\n",
      " [[1218   26    0    0    0    0    0    0    0]\n",
      " [1030   47    0    0    0    0    0    0    0]\n",
      " [ 107    6    0    0    0    0    0    0    0]\n",
      " [  47    3    0    0    0    0    0    0    0]\n",
      " [   9    0    0    0    0    0    0    0    0]\n",
      " [   3    0    0    0    0    0    0    0    0]\n",
      " [   1    0    0    0    0    0    0    0    0]\n",
      " [   2    0    0    0    0    0    0    0    0]\n",
      " [   2    0    0    0    0    0    0    0    0]]\n",
      "\n",
      "################## EPOCH with test fold = 5 ##################\n",
      " Accuracy: 51.18%\n",
      " Avg cost: 0.00003\n",
      "\n",
      " Confusion Matrix:\n",
      " [[1233   43    0    0    0    0    0    0]\n",
      " [ 986   47    0    0    0    0    0    0]\n",
      " [ 111    9    0    0    0    0    0    0]\n",
      " [  43    7    0    0    0    0    0    0]\n",
      " [  12    2    0    0    0    0    0    0]\n",
      " [   5    0    0    0    0    0    0    0]\n",
      " [   2    0    0    0    0    0    0    0]\n",
      " [   1    0    0    0    0    0    0    0]]\n",
      "\n",
      "################## EPOCH with test fold = 6 ##################\n",
      " Accuracy: 49.62%\n",
      " Avg cost: 0.00003\n",
      "\n",
      " Confusion Matrix:\n",
      " [[1181   38    0    0    0    0    0    0    0]\n",
      " [1038   60    0    0    0    0    0    0    0]\n",
      " [  99    8    0    0    0    0    0    0    0]\n",
      " [  49    5    0    0    0    0    0    0    0]\n",
      " [  10    0    0    0    0    0    0    0    0]\n",
      " [   4    1    0    0    0    0    0    0    0]\n",
      " [   5    1    0    0    0    0    0    0    0]\n",
      " [   0    1    0    0    0    0    0    0    0]\n",
      " [   0    1    0    0    0    0    0    0    0]]\n",
      "\n",
      "################## EPOCH with test fold = 7 ##################\n",
      " Accuracy: 51.30%\n",
      " Avg cost: 0.00003\n",
      "\n",
      " Confusion Matrix:\n",
      " [[1154   89    0    0    0    0    0    0]\n",
      " [ 935  129    0    0    0    0    0    0]\n",
      " [ 102   25    0    0    0    0    0    0]\n",
      " [  36    8    0    0    0    0    0    0]\n",
      " [   7    0    0    0    0    0    0    0]\n",
      " [  10    0    0    0    0    0    0    0]\n",
      " [   5    0    0    0    0    0    0    0]\n",
      " [   1    0    0    0    0    0    0    0]]\n",
      "\n",
      "################## EPOCH with test fold = 8 ##################\n",
      " Accuracy: 50.82%\n",
      " Avg cost: 0.00003\n",
      "\n",
      " Confusion Matrix:\n",
      " [[1230   30    0    0    0    0    0    0]\n",
      " [1005   41    0    0    0    0    0    0]\n",
      " [ 119    6    0    0    0    0    0    0]\n",
      " [  45    4    0    0    0    0    0    0]\n",
      " [   7    1    0    0    0    0    0    0]\n",
      " [   8    0    0    0    0    0    0    0]\n",
      " [   4    0    0    0    0    0    0    0]\n",
      " [   1    0    0    0    0    0    0    0]]\n",
      "\n",
      "################## EPOCH with test fold = 9 ##################\n",
      " Accuracy: 51.50%\n",
      " Avg cost: 0.00003\n",
      "\n",
      " Confusion Matrix:\n",
      " [[1203   40    0    0    0    0    0    0    0    0]\n",
      " [ 964   85    0    0    0    0    0    0    0    0]\n",
      " [ 109    9    0    0    0    0    0    0    0    0]\n",
      " [  57    9    0    0    0    0    0    0    0    0]\n",
      " [   9    2    0    0    0    0    0    0    0    0]\n",
      " [   7    0    0    0    0    0    0    0    0    0]\n",
      " [   4    0    0    0    0    0    0    0    0    0]\n",
      " [   1    0    0    0    0    0    0    0    0    0]\n",
      " [   1    0    0    0    0    0    0    0    0    0]\n",
      " [   1    0    0    0    0    0    0    0    0    0]]\n"
     ]
    }
   ],
   "source": [
    "historic_acc, historic_cost = kfold_cross_validation(\n",
    "    folded_data,\n",
    "    INPUT_LAYER_SIZE,\n",
    "    HIDDEN_LAYER_SIZE,\n",
    "    OUTPUT_LAYER_SIZE,\n",
    "    NUMBER_OF_ITERATIONS,\n",
    "    LEARNING_RATE,\n",
    "    NUMBER_OF_FOLDS\n",
    ")"
   ]
  },
  {
   "cell_type": "code",
   "execution_count": 24,
   "metadata": {},
   "outputs": [
    {
     "output_type": "stream",
     "name": "stdout",
     "text": [
      "Summary: \n\navg_acc: 51.01% std_acc: 0.86% median_acc: 51.00%\navg_cost: 0.00003 std_cost: 0.00003 median_cost: 0.00003\n"
     ]
    }
   ],
   "source": [
    "metric_summary(historic_acc,historic_cost)"
   ]
  },
  {
   "cell_type": "code",
   "execution_count": 25,
   "metadata": {},
   "outputs": [
    {
     "output_type": "display_data",
     "data": {
      "image/svg+xml": "<svg class=\"main-svg\" xmlns=\"http://www.w3.org/2000/svg\" xmlns:xlink=\"http://www.w3.org/1999/xlink\" width=\"700\" height=\"450\" style=\"\" viewBox=\"0 0 700 450\"><rect x=\"0\" y=\"0\" width=\"700\" height=\"450\" style=\"fill: rgb(255, 255, 255); fill-opacity: 1;\"/><defs id=\"defs-359a2a\"><g class=\"clips\"><clipPath id=\"clip359a2axyplot\" class=\"plotclip\"><rect width=\"520\" height=\"270\"/></clipPath><clipPath class=\"axesclip\" id=\"clip359a2ax\"><rect x=\"100\" y=\"0\" width=\"520\" height=\"450\"/></clipPath><clipPath class=\"axesclip\" id=\"clip359a2ay\"><rect x=\"0\" y=\"100\" width=\"700\" height=\"270\"/></clipPath><clipPath class=\"axesclip\" id=\"clip359a2axy\"><rect x=\"100\" y=\"100\" width=\"520\" height=\"270\"/></clipPath></g><g class=\"gradients\"/></defs><g class=\"bglayer\"><rect class=\"bg\" x=\"100\" y=\"100\" width=\"520\" height=\"270\" style=\"fill: rgb(229, 236, 246); fill-opacity: 1; stroke-width: 0;\"/></g><g class=\"layer-below\"><g class=\"imagelayer\"/><g class=\"shapelayer\"/></g><g class=\"cartesianlayer\"><g class=\"subplot xy\"><g class=\"layer-subplot\"><g class=\"shapelayer\"/><g class=\"imagelayer\"/></g><g class=\"gridlayer\"><g class=\"x\"><path class=\"xgrid crisp\" transform=\"translate(221.85,0)\" d=\"M0,100v270\" style=\"stroke: rgb(255, 255, 255); stroke-opacity: 1; stroke-width: 1px;\"/><path class=\"xgrid crisp\" transform=\"translate(313.95,0)\" d=\"M0,100v270\" style=\"stroke: rgb(255, 255, 255); stroke-opacity: 1; stroke-width: 1px;\"/><path class=\"xgrid crisp\" transform=\"translate(406.05,0)\" d=\"M0,100v270\" style=\"stroke: rgb(255, 255, 255); stroke-opacity: 1; stroke-width: 1px;\"/><path class=\"xgrid crisp\" transform=\"translate(498.15,0)\" d=\"M0,100v270\" style=\"stroke: rgb(255, 255, 255); stroke-opacity: 1; stroke-width: 1px;\"/><path class=\"xgrid crisp\" transform=\"translate(590.25,0)\" d=\"M0,100v270\" style=\"stroke: rgb(255, 255, 255); stroke-opacity: 1; stroke-width: 1px;\"/></g><g class=\"y\"><path class=\"ygrid crisp\" transform=\"translate(0,310.03999999999996)\" d=\"M100,0h520\" style=\"stroke: rgb(255, 255, 255); stroke-opacity: 1; stroke-width: 1px;\"/><path class=\"ygrid crisp\" transform=\"translate(0,223.98000000000002)\" d=\"M100,0h520\" style=\"stroke: rgb(255, 255, 255); stroke-opacity: 1; stroke-width: 1px;\"/><path class=\"ygrid crisp\" transform=\"translate(0,137.92000000000002)\" d=\"M100,0h520\" style=\"stroke: rgb(255, 255, 255); stroke-opacity: 1; stroke-width: 1px;\"/></g></g><g class=\"zerolinelayer\"><path class=\"xzl zl crisp\" transform=\"translate(129.75,0)\" d=\"M0,100v270\" style=\"stroke: rgb(255, 255, 255); stroke-opacity: 1; stroke-width: 2px;\"/></g><path class=\"xlines-below\"/><path class=\"ylines-below\"/><g class=\"overlines-below\"/><g class=\"xaxislayer-below\"/><g class=\"yaxislayer-below\"/><g class=\"overaxes-below\"/><g class=\"plot\" transform=\"translate(100, 100)\" clip-path=\"url('#clip359a2axyplot')\"><g class=\"scatterlayer mlayer\"><g class=\"trace scatter trace644ef9\" style=\"stroke-miterlimit: 2; opacity: 1;\"><g class=\"fills\"/><g class=\"errorbars\"/><g class=\"lines\"><path class=\"js-line\" d=\"M29.75,17.25L52.77,250.07L75.8,251.58L144.87,252.36L167.9,252.44L490.25,252.75\" style=\"vector-effect: non-scaling-stroke; fill: none; stroke: rgb(0, 0, 200); stroke-opacity: 1; stroke-width: 1px; opacity: 1;\"/></g><g class=\"points\"><path class=\"point\" transform=\"translate(29.75,17.25)\" d=\"M3,0A3,3 0 1,1 0,-3A3,3 0 0,1 3,0Z\" style=\"opacity: 1; stroke-width: 0px; fill: rgb(0, 0, 200); fill-opacity: 1;\"/><path class=\"point\" transform=\"translate(52.77,250.07)\" d=\"M3,0A3,3 0 1,1 0,-3A3,3 0 0,1 3,0Z\" style=\"opacity: 1; stroke-width: 0px; fill: rgb(0, 0, 200); fill-opacity: 1;\"/><path class=\"point\" transform=\"translate(75.8,251.58)\" d=\"M3,0A3,3 0 1,1 0,-3A3,3 0 0,1 3,0Z\" style=\"opacity: 1; stroke-width: 0px; fill: rgb(0, 0, 200); fill-opacity: 1;\"/><path class=\"point\" transform=\"translate(98.82,252.03)\" d=\"M3,0A3,3 0 1,1 0,-3A3,3 0 0,1 3,0Z\" style=\"opacity: 1; stroke-width: 0px; fill: rgb(0, 0, 200); fill-opacity: 1;\"/><path class=\"point\" transform=\"translate(121.85,252.24)\" d=\"M3,0A3,3 0 1,1 0,-3A3,3 0 0,1 3,0Z\" style=\"opacity: 1; stroke-width: 0px; fill: rgb(0, 0, 200); fill-opacity: 1;\"/><path class=\"point\" transform=\"translate(144.87,252.36)\" d=\"M3,0A3,3 0 1,1 0,-3A3,3 0 0,1 3,0Z\" style=\"opacity: 1; stroke-width: 0px; fill: rgb(0, 0, 200); fill-opacity: 1;\"/><path class=\"point\" transform=\"translate(167.9,252.44)\" d=\"M3,0A3,3 0 1,1 0,-3A3,3 0 0,1 3,0Z\" style=\"opacity: 1; stroke-width: 0px; fill: rgb(0, 0, 200); fill-opacity: 1;\"/><path class=\"point\" transform=\"translate(190.92,252.5)\" d=\"M3,0A3,3 0 1,1 0,-3A3,3 0 0,1 3,0Z\" style=\"opacity: 1; stroke-width: 0px; fill: rgb(0, 0, 200); fill-opacity: 1;\"/><path class=\"point\" transform=\"translate(213.95,252.54)\" d=\"M3,0A3,3 0 1,1 0,-3A3,3 0 0,1 3,0Z\" style=\"opacity: 1; stroke-width: 0px; fill: rgb(0, 0, 200); fill-opacity: 1;\"/><path class=\"point\" transform=\"translate(236.97,252.58)\" d=\"M3,0A3,3 0 1,1 0,-3A3,3 0 0,1 3,0Z\" style=\"opacity: 1; stroke-width: 0px; fill: rgb(0, 0, 200); fill-opacity: 1;\"/><path class=\"point\" transform=\"translate(260,252.61)\" d=\"M3,0A3,3 0 1,1 0,-3A3,3 0 0,1 3,0Z\" style=\"opacity: 1; stroke-width: 0px; fill: rgb(0, 0, 200); fill-opacity: 1;\"/><path class=\"point\" transform=\"translate(283.02,252.63)\" d=\"M3,0A3,3 0 1,1 0,-3A3,3 0 0,1 3,0Z\" style=\"opacity: 1; stroke-width: 0px; fill: rgb(0, 0, 200); fill-opacity: 1;\"/><path class=\"point\" transform=\"translate(306.05,252.65)\" d=\"M3,0A3,3 0 1,1 0,-3A3,3 0 0,1 3,0Z\" style=\"opacity: 1; stroke-width: 0px; fill: rgb(0, 0, 200); fill-opacity: 1;\"/><path class=\"point\" transform=\"translate(329.07,252.67)\" d=\"M3,0A3,3 0 1,1 0,-3A3,3 0 0,1 3,0Z\" style=\"opacity: 1; stroke-width: 0px; fill: rgb(0, 0, 200); fill-opacity: 1;\"/><path class=\"point\" transform=\"translate(352.1,252.68)\" d=\"M3,0A3,3 0 1,1 0,-3A3,3 0 0,1 3,0Z\" style=\"opacity: 1; stroke-width: 0px; fill: rgb(0, 0, 200); fill-opacity: 1;\"/><path class=\"point\" transform=\"translate(375.12,252.7)\" d=\"M3,0A3,3 0 1,1 0,-3A3,3 0 0,1 3,0Z\" style=\"opacity: 1; stroke-width: 0px; fill: rgb(0, 0, 200); fill-opacity: 1;\"/><path class=\"point\" transform=\"translate(398.15,252.71)\" d=\"M3,0A3,3 0 1,1 0,-3A3,3 0 0,1 3,0Z\" style=\"opacity: 1; stroke-width: 0px; fill: rgb(0, 0, 200); fill-opacity: 1;\"/><path class=\"point\" transform=\"translate(421.17,252.72)\" d=\"M3,0A3,3 0 1,1 0,-3A3,3 0 0,1 3,0Z\" style=\"opacity: 1; stroke-width: 0px; fill: rgb(0, 0, 200); fill-opacity: 1;\"/><path class=\"point\" transform=\"translate(444.2,252.73)\" d=\"M3,0A3,3 0 1,1 0,-3A3,3 0 0,1 3,0Z\" style=\"opacity: 1; stroke-width: 0px; fill: rgb(0, 0, 200); fill-opacity: 1;\"/><path class=\"point\" transform=\"translate(467.22,252.74)\" d=\"M3,0A3,3 0 1,1 0,-3A3,3 0 0,1 3,0Z\" style=\"opacity: 1; stroke-width: 0px; fill: rgb(0, 0, 200); fill-opacity: 1;\"/><path class=\"point\" transform=\"translate(490.25,252.75)\" d=\"M3,0A3,3 0 1,1 0,-3A3,3 0 0,1 3,0Z\" style=\"opacity: 1; stroke-width: 0px; fill: rgb(0, 0, 200); fill-opacity: 1;\"/></g><g class=\"text\"/></g></g></g><g class=\"overplot\"/><path class=\"xlines-above crisp\" d=\"M0,0\" style=\"fill: none;\"/><path class=\"ylines-above crisp\" d=\"M0,0\" style=\"fill: none;\"/><g class=\"overlines-above\"/><g class=\"xaxislayer-above\"><g class=\"xtick\"><text text-anchor=\"middle\" x=\"0\" y=\"385\" transform=\"translate(129.75,0)\" style=\"font-family: 'Courier New', monospace; font-size: 14px; fill: rgb(127, 127, 127); fill-opacity: 1; white-space: pre;\">0</text></g><g class=\"xtick\"><text text-anchor=\"middle\" x=\"0\" y=\"385\" transform=\"translate(221.85,0)\" style=\"font-family: 'Courier New', monospace; font-size: 14px; fill: rgb(127, 127, 127); fill-opacity: 1; white-space: pre;\">200</text></g><g class=\"xtick\"><text text-anchor=\"middle\" x=\"0\" y=\"385\" transform=\"translate(313.95,0)\" style=\"font-family: 'Courier New', monospace; font-size: 14px; fill: rgb(127, 127, 127); fill-opacity: 1; white-space: pre;\">400</text></g><g class=\"xtick\"><text text-anchor=\"middle\" x=\"0\" y=\"385\" transform=\"translate(406.05,0)\" style=\"font-family: 'Courier New', monospace; font-size: 14px; fill: rgb(127, 127, 127); fill-opacity: 1; white-space: pre;\">600</text></g><g class=\"xtick\"><text text-anchor=\"middle\" x=\"0\" y=\"385\" transform=\"translate(498.15,0)\" style=\"font-family: 'Courier New', monospace; font-size: 14px; fill: rgb(127, 127, 127); fill-opacity: 1; white-space: pre;\">800</text></g><g class=\"xtick\"><text text-anchor=\"middle\" x=\"0\" y=\"385\" transform=\"translate(590.25,0)\" style=\"font-family: 'Courier New', monospace; font-size: 14px; fill: rgb(127, 127, 127); fill-opacity: 1; white-space: pre;\">1000</text></g></g><g class=\"yaxislayer-above\"><g class=\"ytick\"><text text-anchor=\"end\" x=\"99\" y=\"4.8999999999999995\" transform=\"translate(0,310.03999999999996)\" style=\"font-family: 'Courier New', monospace; font-size: 14px; fill: rgb(127, 127, 127); fill-opacity: 1; white-space: pre;\">0.00005</text></g><g class=\"ytick\"><text text-anchor=\"end\" x=\"99\" y=\"4.8999999999999995\" transform=\"translate(0,223.98000000000002)\" style=\"font-family: 'Courier New', monospace; font-size: 14px; fill: rgb(127, 127, 127); fill-opacity: 1; white-space: pre;\">0.00010</text></g><g class=\"ytick\"><text text-anchor=\"end\" x=\"99\" y=\"4.8999999999999995\" transform=\"translate(0,137.92000000000002)\" style=\"font-family: 'Courier New', monospace; font-size: 14px; fill: rgb(127, 127, 127); fill-opacity: 1; white-space: pre;\">0.00015</text></g></g><g class=\"overaxes-above\"/></g></g><g class=\"polarlayer\"/><g class=\"ternarylayer\"/><g class=\"geolayer\"/><g class=\"funnelarealayer\"/><g class=\"pielayer\"/><g class=\"treemaplayer\"/><g class=\"sunburstlayer\"/><g class=\"glimages\"/><defs id=\"topdefs-359a2a\"><g class=\"clips\"/></defs><g class=\"layer-above\"><g class=\"imagelayer\"/><g class=\"shapelayer\"/></g><g class=\"infolayer\"><g class=\"g-gtitle\"><text class=\"gtitle\" x=\"35\" y=\"50\" text-anchor=\"start\" dy=\"0em\" style=\"font-family: 'Courier New', monospace; font-size: 20px; fill: rgb(127, 127, 127); opacity: 1; font-weight: normal; white-space: pre;\">Cost chart</text></g><g class=\"g-xtitle\"><text class=\"xtitle\" x=\"360\" y=\"415.9\" text-anchor=\"middle\" style=\"font-family: 'Courier New', monospace; font-size: 17px; fill: rgb(127, 127, 127); opacity: 1; font-weight: normal; white-space: pre;\">Number of Iterations</text></g><g class=\"g-ytitle\" transform=\"translate(1.712890625,0)\"><text class=\"ytitle\" transform=\"rotate(-90,12.287499999999994,235)\" x=\"12.287499999999994\" y=\"235\" text-anchor=\"middle\" style=\"font-family: 'Courier New', monospace; font-size: 17px; fill: rgb(127, 127, 127); opacity: 1; font-weight: normal; white-space: pre;\">Avg Cost</text></g></g></svg>"
     },
     "metadata": {}
    }
   ],
   "source": [
    "f = create_figure()\n",
    "plot_figure(f, np.mean(historic_cost,axis=0))"
   ]
  },
  {
   "source": [
    "*   ### Experiment #2\n",
    "    *   Increasing `HIDDEN_LAYER_SIZE` from `10` to `50`.\n",
    "    *   Reducing `NUMBER_OF_FOLDS` from `10` to `5`.\n",
    "    *   Increasing `LEARNING_RATE` from `0.1` to `1`."
   ],
   "cell_type": "markdown",
   "metadata": {}
  },
  {
   "cell_type": "code",
   "execution_count": 26,
   "metadata": {},
   "outputs": [],
   "source": [
    "HIDDEN_LAYER_SIZE = 50\n",
    "NUMBER_OF_FOLDS = 5\n",
    "LEARNING_RATE = 1"
   ]
  },
  {
   "cell_type": "code",
   "execution_count": 27,
   "metadata": {},
   "outputs": [
    {
     "output_type": "stream",
     "name": "stdout",
     "text": [
      "Model parameters:\n",
      "\n",
      " input_layer_size: 10 | hidden_layer_size: 50 | output_layer_size: 10\n",
      " number_of_iterations: 1000 | learning_rate: 1 | number_of_folds: 5\n",
      "\n",
      "################## EPOCH with test fold = 0 ##################\n",
      " Accuracy: 52.02%\n",
      " Avg cost: 0.00008\n",
      "\n",
      " Confusion Matrix:\n",
      " [[1177   55    0    0    0    0    0]\n",
      " [ 958  124    0    0    0    0    0]\n",
      " [  99   23    0    0    0    0    0]\n",
      " [  38   11    0    0    0    0    0]\n",
      " [   6    2    0    0    0    0    0]\n",
      " [   3    1    0    0    0    0    0]\n",
      " [   3    1    0    0    0    0    0]]\n",
      "\n",
      "################## EPOCH with test fold = 1 ##################\n",
      " Accuracy: 49.90%\n",
      " Avg cost: 0.00009\n",
      "\n",
      " Confusion Matrix:\n",
      " [[1236    2    0    0    0    0    0    0    0]\n",
      " [1051   12    0    0    0    0    0    0    0]\n",
      " [ 125    3    0    0    0    0    0    0    0]\n",
      " [  55    0    0    0    0    0    0    0    0]\n",
      " [  10    0    0    0    0    0    0    0    0]\n",
      " [   2    0    0    0    0    0    0    0    0]\n",
      " [   3    0    0    0    0    0    0    0    0]\n",
      " [   1    0    0    0    0    0    0    0    0]\n",
      " [   1    0    0    0    0    0    0    0    0]]\n",
      "\n",
      "################## EPOCH with test fold = 2 ##################\n",
      " Accuracy: 51.46%\n",
      " Avg cost: 0.00008\n",
      "\n",
      " Confusion Matrix:\n",
      " [[1239   16    0    0    0    0    0    0]\n",
      " [1003   48    0    0    0    0    0    0]\n",
      " [ 113   12    0    0    0    0    0    0]\n",
      " [  41    9    0    0    0    0    0    0]\n",
      " [  10    0    0    0    0    0    0    0]\n",
      " [   4    0    0    0    0    0    0    0]\n",
      " [   4    1    0    0    0    0    0    0]\n",
      " [   1    0    0    0    0    0    0    0]]\n",
      "\n",
      "################## EPOCH with test fold = 3 ##################\n",
      " Accuracy: 41.42%\n",
      " Avg cost: 0.00009\n",
      "\n",
      " Confusion Matrix:\n",
      " [[   0 1283    0    0    0    0    0    0]\n",
      " [   0 1036    0    0    0    0    0    0]\n",
      " [   0  121    0    0    0    0    0    0]\n",
      " [   0   46    0    0    0    0    0    0]\n",
      " [   0    6    0    0    0    0    0    0]\n",
      " [   0    6    0    0    0    0    0    0]\n",
      " [   0    2    0    0    0    0    0    0]\n",
      " [   0    1    0    0    0    0    0    0]]\n",
      "\n",
      "################## EPOCH with test fold = 4 ##################\n",
      " Accuracy: 51.42%\n",
      " Avg cost: 0.00007\n",
      "\n",
      " Confusion Matrix:\n",
      " [[1207   37    0    0    0    0    0    0    0]\n",
      " [ 998   79    0    0    0    0    0    0    0]\n",
      " [  95   18    0    0    0    0    0    0    0]\n",
      " [  37   13    0    0    0    0    0    0    0]\n",
      " [   6    3    0    0    0    0    0    0    0]\n",
      " [   2    1    0    0    0    0    0    0    0]\n",
      " [   1    0    0    0    0    0    0    0    0]\n",
      " [   0    2    0    0    0    0    0    0    0]\n",
      " [   2    0    0    0    0    0    0    0    0]]\n"
     ]
    }
   ],
   "source": [
    "historic_acc, historic_cost = kfold_cross_validation(\n",
    "    folded_data,\n",
    "    INPUT_LAYER_SIZE,\n",
    "    HIDDEN_LAYER_SIZE,\n",
    "    OUTPUT_LAYER_SIZE,\n",
    "    NUMBER_OF_ITERATIONS,\n",
    "    LEARNING_RATE,\n",
    "    NUMBER_OF_FOLDS\n",
    ")"
   ]
  },
  {
   "cell_type": "code",
   "execution_count": 28,
   "metadata": {},
   "outputs": [
    {
     "output_type": "stream",
     "name": "stdout",
     "text": [
      "Summary: \n\navg_acc: 49.24% std_acc: 3.97% median_acc: 51.42%\navg_cost: 0.00008 std_cost: 0.00007 median_cost: 0.00007\n"
     ]
    }
   ],
   "source": [
    "metric_summary(historic_acc,historic_cost)"
   ]
  },
  {
   "cell_type": "code",
   "execution_count": 29,
   "metadata": {},
   "outputs": [
    {
     "output_type": "display_data",
     "data": {
      "image/svg+xml": "<svg class=\"main-svg\" xmlns=\"http://www.w3.org/2000/svg\" xmlns:xlink=\"http://www.w3.org/1999/xlink\" width=\"700\" height=\"450\" style=\"\" viewBox=\"0 0 700 450\"><rect x=\"0\" y=\"0\" width=\"700\" height=\"450\" style=\"fill: rgb(255, 255, 255); fill-opacity: 1;\"/><defs id=\"defs-a2d296\"><g class=\"clips\"><clipPath id=\"clipa2d296xyplot\" class=\"plotclip\"><rect width=\"520\" height=\"270\"/></clipPath><clipPath class=\"axesclip\" id=\"clipa2d296x\"><rect x=\"100\" y=\"0\" width=\"520\" height=\"450\"/></clipPath><clipPath class=\"axesclip\" id=\"clipa2d296y\"><rect x=\"0\" y=\"100\" width=\"700\" height=\"270\"/></clipPath><clipPath class=\"axesclip\" id=\"clipa2d296xy\"><rect x=\"100\" y=\"100\" width=\"520\" height=\"270\"/></clipPath></g><g class=\"gradients\"/></defs><g class=\"bglayer\"><rect class=\"bg\" x=\"100\" y=\"100\" width=\"520\" height=\"270\" style=\"fill: rgb(229, 236, 246); fill-opacity: 1; stroke-width: 0;\"/></g><g class=\"layer-below\"><g class=\"imagelayer\"/><g class=\"shapelayer\"/></g><g class=\"cartesianlayer\"><g class=\"subplot xy\"><g class=\"layer-subplot\"><g class=\"shapelayer\"/><g class=\"imagelayer\"/></g><g class=\"gridlayer\"><g class=\"x\"><path class=\"xgrid crisp\" transform=\"translate(221.85,0)\" d=\"M0,100v270\" style=\"stroke: rgb(255, 255, 255); stroke-opacity: 1; stroke-width: 1px;\"/><path class=\"xgrid crisp\" transform=\"translate(313.95,0)\" d=\"M0,100v270\" style=\"stroke: rgb(255, 255, 255); stroke-opacity: 1; stroke-width: 1px;\"/><path class=\"xgrid crisp\" transform=\"translate(406.05,0)\" d=\"M0,100v270\" style=\"stroke: rgb(255, 255, 255); stroke-opacity: 1; stroke-width: 1px;\"/><path class=\"xgrid crisp\" transform=\"translate(498.15,0)\" d=\"M0,100v270\" style=\"stroke: rgb(255, 255, 255); stroke-opacity: 1; stroke-width: 1px;\"/><path class=\"xgrid crisp\" transform=\"translate(590.25,0)\" d=\"M0,100v270\" style=\"stroke: rgb(255, 255, 255); stroke-opacity: 1; stroke-width: 1px;\"/></g><g class=\"y\"><path class=\"ygrid crisp\" transform=\"translate(0,359.83)\" d=\"M100,0h520\" style=\"stroke: rgb(255, 255, 255); stroke-opacity: 1; stroke-width: 1px;\"/><path class=\"ygrid crisp\" transform=\"translate(0,323.63)\" d=\"M100,0h520\" style=\"stroke: rgb(255, 255, 255); stroke-opacity: 1; stroke-width: 1px;\"/><path class=\"ygrid crisp\" transform=\"translate(0,287.41999999999996)\" d=\"M100,0h520\" style=\"stroke: rgb(255, 255, 255); stroke-opacity: 1; stroke-width: 1px;\"/><path class=\"ygrid crisp\" transform=\"translate(0,251.21)\" d=\"M100,0h520\" style=\"stroke: rgb(255, 255, 255); stroke-opacity: 1; stroke-width: 1px;\"/><path class=\"ygrid crisp\" transform=\"translate(0,215)\" d=\"M100,0h520\" style=\"stroke: rgb(255, 255, 255); stroke-opacity: 1; stroke-width: 1px;\"/><path class=\"ygrid crisp\" transform=\"translate(0,178.8)\" d=\"M100,0h520\" style=\"stroke: rgb(255, 255, 255); stroke-opacity: 1; stroke-width: 1px;\"/><path class=\"ygrid crisp\" transform=\"translate(0,142.59)\" d=\"M100,0h520\" style=\"stroke: rgb(255, 255, 255); stroke-opacity: 1; stroke-width: 1px;\"/><path class=\"ygrid crisp\" transform=\"translate(0,106.38)\" d=\"M100,0h520\" style=\"stroke: rgb(255, 255, 255); stroke-opacity: 1; stroke-width: 1px;\"/></g></g><g class=\"zerolinelayer\"><path class=\"xzl zl crisp\" transform=\"translate(129.75,0)\" d=\"M0,100v270\" style=\"stroke: rgb(255, 255, 255); stroke-opacity: 1; stroke-width: 2px;\"/></g><path class=\"xlines-below\"/><path class=\"ylines-below\"/><g class=\"overlines-below\"/><g class=\"xaxislayer-below\"/><g class=\"yaxislayer-below\"/><g class=\"overaxes-below\"/><g class=\"plot\" transform=\"translate(100, 100)\" clip-path=\"url('#clipa2d296xyplot')\"><g class=\"scatterlayer mlayer\"><g class=\"trace scatter trace8bbe2d\" style=\"stroke-miterlimit: 2; opacity: 1;\"><g class=\"fills\"/><g class=\"errorbars\"/><g class=\"lines\"><path class=\"js-line\" d=\"M29.75,17.25L52.77,225.84L75.8,233.96L98.82,239.27L121.85,238.93L144.87,241.84L167.9,242.07L190.92,244.73L213.95,246.1L260,249.81L283.02,248.17L306.05,251.07L329.07,251.29L421.17,251.73L444.2,251.95L490.25,252.75\" style=\"vector-effect: non-scaling-stroke; fill: none; stroke: rgb(0, 0, 200); stroke-opacity: 1; stroke-width: 1px; opacity: 1;\"/></g><g class=\"points\"><path class=\"point\" transform=\"translate(29.75,17.25)\" d=\"M3,0A3,3 0 1,1 0,-3A3,3 0 0,1 3,0Z\" style=\"opacity: 1; stroke-width: 0px; fill: rgb(0, 0, 200); fill-opacity: 1;\"/><path class=\"point\" transform=\"translate(52.77,225.84)\" d=\"M3,0A3,3 0 1,1 0,-3A3,3 0 0,1 3,0Z\" style=\"opacity: 1; stroke-width: 0px; fill: rgb(0, 0, 200); fill-opacity: 1;\"/><path class=\"point\" transform=\"translate(75.8,233.96)\" d=\"M3,0A3,3 0 1,1 0,-3A3,3 0 0,1 3,0Z\" style=\"opacity: 1; stroke-width: 0px; fill: rgb(0, 0, 200); fill-opacity: 1;\"/><path class=\"point\" transform=\"translate(98.82,239.27)\" d=\"M3,0A3,3 0 1,1 0,-3A3,3 0 0,1 3,0Z\" style=\"opacity: 1; stroke-width: 0px; fill: rgb(0, 0, 200); fill-opacity: 1;\"/><path class=\"point\" transform=\"translate(121.85,238.93)\" d=\"M3,0A3,3 0 1,1 0,-3A3,3 0 0,1 3,0Z\" style=\"opacity: 1; stroke-width: 0px; fill: rgb(0, 0, 200); fill-opacity: 1;\"/><path class=\"point\" transform=\"translate(144.87,241.84)\" d=\"M3,0A3,3 0 1,1 0,-3A3,3 0 0,1 3,0Z\" style=\"opacity: 1; stroke-width: 0px; fill: rgb(0, 0, 200); fill-opacity: 1;\"/><path class=\"point\" transform=\"translate(167.9,242.07)\" d=\"M3,0A3,3 0 1,1 0,-3A3,3 0 0,1 3,0Z\" style=\"opacity: 1; stroke-width: 0px; fill: rgb(0, 0, 200); fill-opacity: 1;\"/><path class=\"point\" transform=\"translate(190.92,244.73)\" d=\"M3,0A3,3 0 1,1 0,-3A3,3 0 0,1 3,0Z\" style=\"opacity: 1; stroke-width: 0px; fill: rgb(0, 0, 200); fill-opacity: 1;\"/><path class=\"point\" transform=\"translate(213.95,246.1)\" d=\"M3,0A3,3 0 1,1 0,-3A3,3 0 0,1 3,0Z\" style=\"opacity: 1; stroke-width: 0px; fill: rgb(0, 0, 200); fill-opacity: 1;\"/><path class=\"point\" transform=\"translate(236.97,247.83)\" d=\"M3,0A3,3 0 1,1 0,-3A3,3 0 0,1 3,0Z\" style=\"opacity: 1; stroke-width: 0px; fill: rgb(0, 0, 200); fill-opacity: 1;\"/><path class=\"point\" transform=\"translate(260,249.81)\" d=\"M3,0A3,3 0 1,1 0,-3A3,3 0 0,1 3,0Z\" style=\"opacity: 1; stroke-width: 0px; fill: rgb(0, 0, 200); fill-opacity: 1;\"/><path class=\"point\" transform=\"translate(283.02,248.17)\" d=\"M3,0A3,3 0 1,1 0,-3A3,3 0 0,1 3,0Z\" style=\"opacity: 1; stroke-width: 0px; fill: rgb(0, 0, 200); fill-opacity: 1;\"/><path class=\"point\" transform=\"translate(306.05,251.07)\" d=\"M3,0A3,3 0 1,1 0,-3A3,3 0 0,1 3,0Z\" style=\"opacity: 1; stroke-width: 0px; fill: rgb(0, 0, 200); fill-opacity: 1;\"/><path class=\"point\" transform=\"translate(329.07,251.29)\" d=\"M3,0A3,3 0 1,1 0,-3A3,3 0 0,1 3,0Z\" style=\"opacity: 1; stroke-width: 0px; fill: rgb(0, 0, 200); fill-opacity: 1;\"/><path class=\"point\" transform=\"translate(352.1,251.34)\" d=\"M3,0A3,3 0 1,1 0,-3A3,3 0 0,1 3,0Z\" style=\"opacity: 1; stroke-width: 0px; fill: rgb(0, 0, 200); fill-opacity: 1;\"/><path class=\"point\" transform=\"translate(375.12,251.65)\" d=\"M3,0A3,3 0 1,1 0,-3A3,3 0 0,1 3,0Z\" style=\"opacity: 1; stroke-width: 0px; fill: rgb(0, 0, 200); fill-opacity: 1;\"/><path class=\"point\" transform=\"translate(398.15,251.02)\" d=\"M3,0A3,3 0 1,1 0,-3A3,3 0 0,1 3,0Z\" style=\"opacity: 1; stroke-width: 0px; fill: rgb(0, 0, 200); fill-opacity: 1;\"/><path class=\"point\" transform=\"translate(421.17,251.73)\" d=\"M3,0A3,3 0 1,1 0,-3A3,3 0 0,1 3,0Z\" style=\"opacity: 1; stroke-width: 0px; fill: rgb(0, 0, 200); fill-opacity: 1;\"/><path class=\"point\" transform=\"translate(444.2,251.95)\" d=\"M3,0A3,3 0 1,1 0,-3A3,3 0 0,1 3,0Z\" style=\"opacity: 1; stroke-width: 0px; fill: rgb(0, 0, 200); fill-opacity: 1;\"/><path class=\"point\" transform=\"translate(467.22,252.58)\" d=\"M3,0A3,3 0 1,1 0,-3A3,3 0 0,1 3,0Z\" style=\"opacity: 1; stroke-width: 0px; fill: rgb(0, 0, 200); fill-opacity: 1;\"/><path class=\"point\" transform=\"translate(490.25,252.75)\" d=\"M3,0A3,3 0 1,1 0,-3A3,3 0 0,1 3,0Z\" style=\"opacity: 1; stroke-width: 0px; fill: rgb(0, 0, 200); fill-opacity: 1;\"/></g><g class=\"text\"/></g></g></g><g class=\"overplot\"/><path class=\"xlines-above crisp\" d=\"M0,0\" style=\"fill: none;\"/><path class=\"ylines-above crisp\" d=\"M0,0\" style=\"fill: none;\"/><g class=\"overlines-above\"/><g class=\"xaxislayer-above\"><g class=\"xtick\"><text text-anchor=\"middle\" x=\"0\" y=\"385\" transform=\"translate(129.75,0)\" style=\"font-family: 'Courier New', monospace; font-size: 14px; fill: rgb(127, 127, 127); fill-opacity: 1; white-space: pre;\">0</text></g><g class=\"xtick\"><text text-anchor=\"middle\" x=\"0\" y=\"385\" transform=\"translate(221.85,0)\" style=\"font-family: 'Courier New', monospace; font-size: 14px; fill: rgb(127, 127, 127); fill-opacity: 1; white-space: pre;\">200</text></g><g class=\"xtick\"><text text-anchor=\"middle\" x=\"0\" y=\"385\" transform=\"translate(313.95,0)\" style=\"font-family: 'Courier New', monospace; font-size: 14px; fill: rgb(127, 127, 127); fill-opacity: 1; white-space: pre;\">400</text></g><g class=\"xtick\"><text text-anchor=\"middle\" x=\"0\" y=\"385\" transform=\"translate(406.05,0)\" style=\"font-family: 'Courier New', monospace; font-size: 14px; fill: rgb(127, 127, 127); fill-opacity: 1; white-space: pre;\">600</text></g><g class=\"xtick\"><text text-anchor=\"middle\" x=\"0\" y=\"385\" transform=\"translate(498.15,0)\" style=\"font-family: 'Courier New', monospace; font-size: 14px; fill: rgb(127, 127, 127); fill-opacity: 1; white-space: pre;\">800</text></g><g class=\"xtick\"><text text-anchor=\"middle\" x=\"0\" y=\"385\" transform=\"translate(590.25,0)\" style=\"font-family: 'Courier New', monospace; font-size: 14px; fill: rgb(127, 127, 127); fill-opacity: 1; white-space: pre;\">1000</text></g></g><g class=\"yaxislayer-above\"><g class=\"ytick\"><text text-anchor=\"end\" x=\"99\" y=\"4.8999999999999995\" transform=\"translate(0,359.83)\" style=\"font-family: 'Courier New', monospace; font-size: 14px; fill: rgb(127, 127, 127); fill-opacity: 1; white-space: pre;\">0.00005</text></g><g class=\"ytick\"><text text-anchor=\"end\" x=\"99\" y=\"4.8999999999999995\" transform=\"translate(0,323.63)\" style=\"font-family: 'Courier New', monospace; font-size: 14px; fill: rgb(127, 127, 127); fill-opacity: 1; white-space: pre;\">0.00010</text></g><g class=\"ytick\"><text text-anchor=\"end\" x=\"99\" y=\"4.8999999999999995\" transform=\"translate(0,287.41999999999996)\" style=\"font-family: 'Courier New', monospace; font-size: 14px; fill: rgb(127, 127, 127); fill-opacity: 1; white-space: pre;\">0.00015</text></g><g class=\"ytick\"><text text-anchor=\"end\" x=\"99\" y=\"4.8999999999999995\" transform=\"translate(0,251.21)\" style=\"font-family: 'Courier New', monospace; font-size: 14px; fill: rgb(127, 127, 127); fill-opacity: 1; white-space: pre;\">0.00020</text></g><g class=\"ytick\"><text text-anchor=\"end\" x=\"99\" y=\"4.8999999999999995\" transform=\"translate(0,215)\" style=\"font-family: 'Courier New', monospace; font-size: 14px; fill: rgb(127, 127, 127); fill-opacity: 1; white-space: pre;\">0.00025</text></g><g class=\"ytick\"><text text-anchor=\"end\" x=\"99\" y=\"4.8999999999999995\" transform=\"translate(0,178.8)\" style=\"font-family: 'Courier New', monospace; font-size: 14px; fill: rgb(127, 127, 127); fill-opacity: 1; white-space: pre;\">0.00030</text></g><g class=\"ytick\"><text text-anchor=\"end\" x=\"99\" y=\"4.8999999999999995\" transform=\"translate(0,142.59)\" style=\"font-family: 'Courier New', monospace; font-size: 14px; fill: rgb(127, 127, 127); fill-opacity: 1; white-space: pre;\">0.00035</text></g><g class=\"ytick\"><text text-anchor=\"end\" x=\"99\" y=\"4.8999999999999995\" transform=\"translate(0,106.38)\" style=\"font-family: 'Courier New', monospace; font-size: 14px; fill: rgb(127, 127, 127); fill-opacity: 1; white-space: pre;\">0.00040</text></g></g><g class=\"overaxes-above\"/></g></g><g class=\"polarlayer\"/><g class=\"ternarylayer\"/><g class=\"geolayer\"/><g class=\"funnelarealayer\"/><g class=\"pielayer\"/><g class=\"treemaplayer\"/><g class=\"sunburstlayer\"/><g class=\"glimages\"/><defs id=\"topdefs-a2d296\"><g class=\"clips\"/></defs><g class=\"layer-above\"><g class=\"imagelayer\"/><g class=\"shapelayer\"/></g><g class=\"infolayer\"><g class=\"g-gtitle\"><text class=\"gtitle\" x=\"35\" y=\"50\" text-anchor=\"start\" dy=\"0em\" style=\"font-family: 'Courier New', monospace; font-size: 20px; fill: rgb(127, 127, 127); opacity: 1; font-weight: normal; white-space: pre;\">Cost chart</text></g><g class=\"g-xtitle\"><text class=\"xtitle\" x=\"360\" y=\"415.9\" text-anchor=\"middle\" style=\"font-family: 'Courier New', monospace; font-size: 17px; fill: rgb(127, 127, 127); opacity: 1; font-weight: normal; white-space: pre;\">Number of Iterations</text></g><g class=\"g-ytitle\" transform=\"translate(1.712890625,0)\"><text class=\"ytitle\" transform=\"rotate(-90,12.287499999999994,235)\" x=\"12.287499999999994\" y=\"235\" text-anchor=\"middle\" style=\"font-family: 'Courier New', monospace; font-size: 17px; fill: rgb(127, 127, 127); opacity: 1; font-weight: normal; white-space: pre;\">Avg Cost</text></g></g></svg>"
     },
     "metadata": {}
    }
   ],
   "source": [
    "f = create_figure()\n",
    "plot_figure(f, np.mean(historic_cost,axis=0))"
   ]
  },
  {
   "source": [
    "# Result Analysis"
   ],
   "cell_type": "markdown",
   "metadata": {}
  },
  {
   "source": [
    "* ### Handwritten Digit Results\n",
    "\n",
    "The first experiment achieved an `avg_acc` of 84.74% using the following parameters for the construction of the model:\n",
    "  \n",
    "  * LEARNING_RATE = 0.1\n",
    "  * NUMBER_OF_ITERATIONS = 1000\n",
    "  * HIDDEN_LAYER_SIZE = 10\n",
    "  * INPUT_LAYER_SIZE = 10\n",
    "  * OUTPUT_LAYER_SIZE = 10\n",
    "  * NUMBER_OF_FOLDS = 10\n",
    "\n",
    "On the second experiment we achieved an `avg_acc` of 94.26% by changing the following parameters:\n",
    "  * HIDDEN_LAYER_SIZE = 50\n",
    "  * NUMBER_OF_FOLDS = 5\n",
    "\n",
    "By increasing the number of HIDDEN_LAYER_SIZE we also increase the amount of knowledge we can represent ans store. By decreasing the NUMBER_OF_FOLDS the probability of a fold having little to no examples of a class is lowered. Eventhough the probability of such occurrence is lower in a well balanced dataset it still exists. \n",
    "\n",
    "\n",
    "* ### Poker Hand Results\n",
    "\n",
    "For these experiments we did not notice significant changes in modifying model parameters, this is because the results are entirely biased by the weight of the classes (class distribution) and this factor will be present for any model structure that is defined. This phenomenon is easy to observe in the `confusion matrix` on any of the `EPOCHS`:\n",
    "\n",
    "```python \n",
    "  [[1173   21    0    0    0    0    0    0]\n",
    "  [1063   48    0    0    0    0    0    0]\n",
    "  [ 104   14    0    0    0    0    0    0]\n",
    "  [  54    9    0    0    0    0    0    0]\n",
    "  [   6    0    0    0    0    0    0    0]\n",
    "  [   6    0    0    0    0    0    0    0]\n",
    "  [   1    1    0    0    0    0    0    0]\n",
    "  [   1    0    0    0    0    0    0    0]]\n",
    "\n",
    "```\n",
    "\n",
    "In the previous metric we can notice that only the first two classes are being taken into account by the model, this is because the models' cost function is pondering in the same way all the errors no matter which class they belong to.\n",
    "  "
   ],
   "cell_type": "markdown",
   "metadata": {}
  },
  {
   "source": [
    "# Future Strategies\n",
    "*   Explore more complex model structures (more hidden layers, different activation functions, different cost functions).\n",
    "*   Explore different strategies for class weighting (for extremely unbalanced datasets).\n",
    "*   Add metrics like `RECALL`, `F1`.\n",
    "*   Explore different options for output functions (`SOFTMAX`)."
   ],
   "cell_type": "markdown",
   "metadata": {}
  },
  {
   "cell_type": "code",
   "execution_count": null,
   "metadata": {},
   "outputs": [],
   "source": []
  }
 ]
}