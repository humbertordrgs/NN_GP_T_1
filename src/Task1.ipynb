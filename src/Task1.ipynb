{
 "metadata": {
  "language_info": {
   "codemirror_mode": {
    "name": "ipython",
    "version": 3
   },
   "file_extension": ".py",
   "mimetype": "text/x-python",
   "name": "python",
   "nbconvert_exporter": "python",
   "pygments_lexer": "ipython3",
   "version": "3.8.3-final"
  },
  "orig_nbformat": 2,
  "kernelspec": {
   "name": "python3",
   "display_name": "Python 3"
  }
 },
 "nbformat": 4,
 "nbformat_minor": 2,
 "cells": [
  {
   "source": [
    "# Libraries"
   ],
   "cell_type": "markdown",
   "metadata": {}
  },
  {
   "cell_type": "code",
   "execution_count": 2,
   "metadata": {},
   "outputs": [
    {
     "output_type": "stream",
     "name": "stdout",
     "text": [
      "Requirement already satisfied: plotly in /home/humberto/anaconda3/lib/python3.8/site-packages (4.11.0)\n",
      "Requirement already satisfied: retrying>=1.3.3 in /home/humberto/anaconda3/lib/python3.8/site-packages (from plotly) (1.3.3)\n",
      "Requirement already satisfied: six in /home/humberto/anaconda3/lib/python3.8/site-packages (from plotly) (1.15.0)\n",
      "Requirement already satisfied: numpy in /home/humberto/anaconda3/lib/python3.8/site-packages (1.18.5)\n",
      "Requirement already satisfied: scikit-learn in /home/humberto/anaconda3/lib/python3.8/site-packages (0.23.1)\n",
      "Requirement already satisfied: threadpoolctl>=2.0.0 in /home/humberto/anaconda3/lib/python3.8/site-packages (from scikit-learn) (2.1.0)\n",
      "Requirement already satisfied: joblib>=0.11 in /home/humberto/anaconda3/lib/python3.8/site-packages (from scikit-learn) (0.16.0)\n",
      "Requirement already satisfied: numpy>=1.13.3 in /home/humberto/anaconda3/lib/python3.8/site-packages (from scikit-learn) (1.18.5)\n",
      "Requirement already satisfied: scipy>=0.19.1 in /home/humberto/anaconda3/lib/python3.8/site-packages (from scikit-learn) (1.5.0)\n"
     ]
    }
   ],
   "source": [
    "!pip install plotly\n",
    "!pip install numpy\n",
    "!pip install scikit-learn"
   ]
  },
  {
   "cell_type": "code",
   "execution_count": 2,
   "metadata": {},
   "outputs": [],
   "source": [
    "import numpy as np\n",
    "from utils.charts import create_figure, plot_figure\n",
    "from utils.data import load_dataset, one_hot, fold_data, normalization, explore_data\n",
    "from utils.metrics import calc_metrics, metric_summary\n",
    "from utils.NeuralNetwork import model, predict"
   ]
  },
  {
   "source": [
    "# General Steps\n",
    "Each experiment will consist of the following steps:\n",
    "*   Load and split dataset into `x_data` and `y_data`.\n",
    "*   Explore loaded data and class distribution.\n",
    "*   Normalize `x_data` and apply `one-hot-encoding` to `y_data`.\n",
    "*   Define model structure(layer sizes, learning rate, number of iterations and number of folds).\n",
    "*   Fold the data according to the values defined previously.\n",
    "*   For each different `fold` create a `train_dataset` with all the folds except the current one which will be the `test_dataset`.\n",
    "*   We will be creating a new `model` with the previously defined strtucture.\n",
    "*   Execute experiment consists of training and validating the model with the current `train_dataset` and `test_dataset` which we will call `EPOCH`.\n",
    "*   At the end of each `EPOCH` we will show the `accuracy`, the `avg_cost` and the `confusion matrix`.\n",
    "*   Once all the `EPOCHS` conclude we will show a `Summary of metrics` which contains `avg`, `std` and `median` for `cost` and `accuracy` of the experiment as a whole.\n",
    "*   Finally we plot a `chart` in which we can observe the behaviour of the `avg_cost` through the `number of iterations`.\n",
    "\n",
    "It is important to notice that the `confusion matrix` is being calculated using the `sklearn` library using as parameters the `expected_output` and `predicted_output`. This allows us to observe not only the accuracy of each class (diagonal) but also the relationship that classes may have between them. Another possible use case could be the extraction of the `Recall` value for each class.\n",
    " "
   ],
   "cell_type": "markdown",
   "metadata": {}
  },
  {
   "cell_type": "code",
   "execution_count": 3,
   "metadata": {},
   "outputs": [],
   "source": [
    "def kfold_cross_validation(\n",
    "    folded_data,input_layer_size,hidden_layer_size,output_layer_size,\\\n",
    "    number_of_iterations, learning_rate, number_of_folds\n",
    "):\n",
    "    # Showing details of model structure\n",
    "    print(f\"Model parameters:\\n\\n input_layer_size: {input_layer_size} | hidden_layer_size: {hidden_layer_size} | output_layer_size: {output_layer_size}\")\n",
    "    print(f\" number_of_iterations: {number_of_iterations} | learning_rate: {learning_rate} | number_of_folds: {number_of_folds}\")\n",
    "    historic_acc = []\n",
    "    historic_cost = []\n",
    "    # Iterating for each fold\n",
    "    for k in range(number_of_folds):\n",
    "        print(f\"\\n################## EPOCH with K={k} ##################\")\n",
    "        train_data = []\n",
    "        test_data = []\n",
    "        for j in range(number_of_folds):\n",
    "            # All folds different than the current one will be part of train_data\n",
    "            if j != k:\n",
    "                train_data += folded_data[j]\n",
    "            # Current fold will be the test_data\n",
    "            else:\n",
    "                test_data += folded_data[j]\n",
    "        x_train, y_train = zip(*train_data)\n",
    "        x_test, y_test = zip(*test_data)\n",
    "        \n",
    "        # Model construction\n",
    "        trained_params,current_cost = model(\n",
    "            np.transpose(x_train),\n",
    "            np.transpose(y_train),\n",
    "            input_layer_size,\n",
    "            hidden_layer_size,\n",
    "            output_layer_size,\n",
    "            number_of_iterations,\n",
    "            learning_rate\n",
    "        )\n",
    "        # Running trained model with the current test_data\n",
    "        y_predict = predict(np.transpose(x_test), trained_params).transpose()\n",
    "        \n",
    "        # Storing metric data for plotting and summary\n",
    "        historic_acc.append(calc_metrics(y_test, y_predict, current_cost))\n",
    "        historic_cost.append(current_cost)\n",
    "\n",
    "    return historic_acc,historic_cost"
   ]
  },
  {
   "source": [
    "## Dataset `Handwritten Digits`\n",
    "\n",
    "The first set of experiments we will be doing is using the [handwritten digits](https://archive.ics.uci.edu/ml/datasets/Pen-Based+Recognition+of+Handwritten+Digits) dataset. The information inside it represents digits written using a pen and a tablet with a `500x500` resolution. Each row in the dataset is an individual example of a digit and is represented with a set of 8 (x, y) points (integers) followed by the corresponding class which will be the number itself."
   ],
   "cell_type": "markdown",
   "metadata": {}
  },
  {
   "cell_type": "code",
   "execution_count": 4,
   "metadata": {},
   "outputs": [],
   "source": [
    "x_data,y_data = load_dataset(\"../resources/datasets/handwritten.txt\",dtype=np.int64)"
   ]
  },
  {
   "cell_type": "code",
   "execution_count": 5,
   "metadata": {},
   "outputs": [
    {
     "output_type": "stream",
     "name": "stdout",
     "text": [
      "class: 0 | 780 (10.41%) instances\nclass: 1 | 779 (10.39%) instances\nclass: 2 | 780 (10.41%) instances\nclass: 3 | 719 (9.59%) instances\nclass: 4 | 780 (10.41%) instances\nclass: 5 | 720 (9.61%) instances\nclass: 6 | 720 (9.61%) instances\nclass: 7 | 778 (10.38%) instances\nclass: 8 | 719 (9.59%) instances\nclass: 9 | 719 (9.59%) instances\nTotal number of instances: 7494\n"
     ]
    }
   ],
   "source": [
    "# Explore data and class distribution\n",
    "explore_data(y_data,10)"
   ]
  },
  {
   "source": [
    "After exploring the data we can observe that it contains `7494` examples of `10` well balanced classes."
   ],
   "cell_type": "markdown",
   "metadata": {}
  },
  {
   "cell_type": "code",
   "execution_count": 6,
   "metadata": {},
   "outputs": [],
   "source": [
    "# Using the utility we built to normalize the values of the input layer\n",
    "x_data = normalization(x_data)"
   ]
  },
  {
   "cell_type": "code",
   "execution_count": 7,
   "metadata": {},
   "outputs": [],
   "source": [
    "# Applying one-hot encoding to the expected classes understanding that\n",
    "# the result of this transformation is also normalized\n",
    "y_data = one_hot(y_data,10)"
   ]
  },
  {
   "source": [
    "*   ### Experiment #1"
   ],
   "cell_type": "markdown",
   "metadata": {}
  },
  {
   "cell_type": "code",
   "execution_count": 8,
   "metadata": {},
   "outputs": [],
   "source": [
    "LEARNING_RATE = 0.1\n",
    "NUMBER_OF_ITERATIONS = 1000\n",
    "HIDDEN_LAYER_SIZE = 10\n",
    "INPUT_LAYER_SIZE = 16\n",
    "OUTPUT_LAYER_SIZE = 10\n",
    "NUMBER_OF_FOLDS = 10"
   ]
  },
  {
   "cell_type": "code",
   "execution_count": 9,
   "metadata": {},
   "outputs": [],
   "source": [
    "# Dividing the data in `k` folds as a first step for `k-cross-validation`\n",
    "folded_data = fold_data(list(zip(x_data,y_data)),k=NUMBER_OF_FOLDS)"
   ]
  },
  {
   "cell_type": "code",
   "execution_count": 10,
   "metadata": {},
   "outputs": [
    {
     "output_type": "stream",
     "name": "stdout",
     "text": [
      "Model parameters:\n",
      "\n",
      " input_layer_size: 16 | hidden_layer_size: 10 | output_layer_size: 10\n",
      " number_of_iterations: 1000 | learning_rate: 0.1 | number_of_folds: 10\n",
      "\n",
      "################## EPOCH with K=0 ##################\n",
      " Accuracy: 85.31%\n",
      " Avg cost: 0.00009\n",
      "\n",
      " Confusion Matrix:\n",
      " [[83  0  0  0  1  0  0  0  8  1]\n",
      " [ 0 60  5  1  2  0  0  4  0  3]\n",
      " [ 0  7 77  0  0  0  0  0  0  0]\n",
      " [ 0  1  0 69  0  0  0  0  0  0]\n",
      " [ 0  0  1  1 70  0  1  0  0  2]\n",
      " [ 0  0  0  5  0 44  1  0  0 21]\n",
      " [ 1  0  0  0  2  0 55  0  0  0]\n",
      " [ 0 10  0  3  0  0  0 57  0  0]\n",
      " [ 9  1  3  0  0  1  3  1 61  3]\n",
      " [ 0  0  0  0  8  0  0  0  0 63]]\n",
      "\n",
      "################## EPOCH with K=1 ##################\n",
      " Accuracy: 86.11%\n",
      " Avg cost: 0.00010\n",
      "\n",
      " Confusion Matrix:\n",
      " [[69  0  0  0  0  0  0  0  8  0]\n",
      " [ 0 58 13  4  0  0  1  2  0  1]\n",
      " [ 0  0 60  0  0  0  0  0  1  0]\n",
      " [ 0  0  0 64  0  0  0  0  0  0]\n",
      " [ 0  0  0  0 76  0  0  0  0  0]\n",
      " [ 0  0  0  1  0 55  3  3  2 12]\n",
      " [ 3  0  0  0  0  0 77  0  0  0]\n",
      " [ 0  5  4  7  0  1  0 64  0  0]\n",
      " [ 1  4  0  0  0  3  0  8 49  0]\n",
      " [ 0  4  0  2  9  2  0  0  0 73]]\n",
      "\n",
      "################## EPOCH with K=2 ##################\n",
      " Accuracy: 85.18%\n",
      " Avg cost: 0.00010\n",
      "\n",
      " Confusion Matrix:\n",
      " [[64  0  0  0  0  0  0  0  0  0]\n",
      " [ 0 58 10  2  0  1  0  0  2  3]\n",
      " [ 0  1 68  0  0  0  0  0  1  0]\n",
      " [ 0  2  0 65  0  0  0  0  0  0]\n",
      " [ 0  0  0  0 74  0  1  0  0  1]\n",
      " [ 1  0  0  1  0 53  4  0  2 13]\n",
      " [ 0  0  0  0  1  0 74  0  0  0]\n",
      " [ 0 11  5  0  0  0  0 79  2  0]\n",
      " [ 6  0  1  1  0 23  3  2 37  1]\n",
      " [ 0  3  0  1  1  5  0  0  0 66]]\n",
      "\n",
      "################## EPOCH with K=3 ##################\n",
      " Accuracy: 86.38%\n",
      " Avg cost: 0.00009\n",
      "\n",
      " Confusion Matrix:\n",
      " [[61  1  0  0  4  0  1  0  0  0]\n",
      " [ 0 63  7  2  1  0  2  2  0  2]\n",
      " [ 0  1 78  0  0  0  0  3  0  0]\n",
      " [ 0  2  0 68  1  0  0  0  0  0]\n",
      " [ 0  0  1  0 73  0  2  0  0  0]\n",
      " [ 0  1  1  0  1 47  1  0  0 21]\n",
      " [ 0  0  0  0  9  0 85  0  1  0]\n",
      " [ 0  3  0  2  0  0  0 59  1  0]\n",
      " [15  3  0  0  0  2  0  2 59  0]\n",
      " [ 2  1  0  0  2  0  0  0  2 54]]\n",
      "\n",
      "################## EPOCH with K=4 ##################\n",
      " Accuracy: 85.45%\n",
      " Avg cost: 0.00008\n",
      "\n",
      " Confusion Matrix:\n",
      " [[78  0  0  0  1  0  0  0  2  1]\n",
      " [ 0 62 21  5  1  0  0  1  0  0]\n",
      " [ 0  0 73  0  0  0  0  2  0  0]\n",
      " [ 0  3  0 66  0  0  0  0  0  0]\n",
      " [ 0  0  0  0 70  0  1  0  0  5]\n",
      " [ 0  1  0 17  0 43  0  0  0  4]\n",
      " [ 0  0  0  0  2  0 72  0  0  0]\n",
      " [ 0  9  1  0  0  0  0 73  5  1]\n",
      " [ 5  0  0  4  0  1  0  2 50  1]\n",
      " [ 1  3  0  2  4  0  0  3  0 53]]\n",
      "\n",
      "################## EPOCH with K=5 ##################\n",
      " Accuracy: 82.51%\n",
      " Avg cost: 0.00009\n",
      "\n",
      " Confusion Matrix:\n",
      " [[68  0  0  0  1  0  2  0  0  0]\n",
      " [ 0 42 16  7  2  0  1  0  0  0]\n",
      " [ 0  3 87  0  0  0  0  0  0  0]\n",
      " [ 0  1  0 74  0  0  0  0  0  1]\n",
      " [ 0  1  1  0 66  0  2  0  0  1]\n",
      " [ 0  0  0 18  0 43  6  0  2 15]\n",
      " [ 7  0  0  0  1  0 65  0  0  0]\n",
      " [ 0  6  1  0  0  1  0 59  2  0]\n",
      " [ 4  0  0  1  0  3  1  3 58  2]\n",
      " [ 1  5  0  2  7  0  0  3  1 56]]\n",
      "\n",
      "################## EPOCH with K=6 ##################\n",
      " Accuracy: 84.38%\n",
      " Avg cost: 0.00009\n",
      "\n",
      " Confusion Matrix:\n",
      " [[80  0  0  0  0  0  0  0  2  2]\n",
      " [ 0 59 11  3  0  0  0  0  0  2]\n",
      " [ 0 11 64  0  0  0  0  0  0  0]\n",
      " [ 0  0  1 83  0  0  0  0  0  0]\n",
      " [ 0  0  0  0 76  0  1  0  0  4]\n",
      " [ 0  0  0  5  1 45  4  0  0 19]\n",
      " [ 0  0  0  0  2  0 63  0  0  0]\n",
      " [ 0 11  0  0  0  0  0 64  5  0]\n",
      " [ 6  0  0  4  0  1  1  6 52  0]\n",
      " [ 0  0  0  3 11  0  0  1  0 46]]\n",
      "\n",
      "################## EPOCH with K=7 ##################\n",
      " Accuracy: 84.91%\n",
      " Avg cost: 0.00008\n",
      "\n",
      " Confusion Matrix:\n",
      " [[72  0  0  0  0  0  0  0  7  0]\n",
      " [ 0 49 15  7  1  0  0  2  1  4]\n",
      " [ 0  2 72  0  0  0  0  1  0  0]\n",
      " [ 0  3  0 63  0  0  0  0  0  3]\n",
      " [ 0  0  0  0 70  0  0  0  0  0]\n",
      " [ 0  0  0 11  0 58  8  0  5 12]\n",
      " [ 0  0  0  0  0  0 70  0  0  0]\n",
      " [ 0  7  0  1  0  1  0 64  0  0]\n",
      " [ 1  2  1  2  0  0  0  3 56  1]\n",
      " [ 0  2  0  4  6  0  0  0  0 62]]\n",
      "\n",
      "################## EPOCH with K=8 ##################\n",
      " Accuracy: 85.31%\n",
      " Avg cost: 0.00009\n",
      "\n",
      " Confusion Matrix:\n",
      " [[72  0  0  0  1  0  1  0  2  1]\n",
      " [ 0 40  9 17  1  0  0  7  0  5]\n",
      " [ 0  0 78  0  0  0  0  4  0  0]\n",
      " [ 0  0  0 78  0  0  0  2  0  0]\n",
      " [ 0  0  0  0 79  0  0  0  0  6]\n",
      " [ 0  0  0  0  0 39  0  0  1 18]\n",
      " [ 0  0  0  0  0  1 70  0  1  0]\n",
      " [ 0  2  2  9  0  0  0 64  0  0]\n",
      " [ 5  2  0  0  0  5  0  0 49  3]\n",
      " [ 2  0  0  1  2  0  0  0  0 70]]\n",
      "\n",
      "################## EPOCH with K=9 ##################\n",
      " Accuracy: 81.84%\n",
      " Avg cost: 0.00010\n",
      "\n",
      " Confusion Matrix:\n",
      " [[78  0  0  0  3  0  1  0  3  0]\n",
      " [ 0 54 18  2  2  1  0  0  0  1]\n",
      " [ 0  1 83  0  0  1  0  0  0  0]\n",
      " [ 0  4  1 62  0  0  0  0  0  1]\n",
      " [ 0  1  0  0 93  0  0  0  0  0]\n",
      " [ 0  0  1  4  0 34  4  3  0  6]\n",
      " [ 0  0  0  0  0  1 57  0  0  0]\n",
      " [ 0  9  0  0  0  7  0 59  2  0]\n",
      " [ 7  0  0  3  0  4  0  1 67  0]\n",
      " [ 1  0  1 28  8  6  0  0  0 26]]\n"
     ]
    }
   ],
   "source": [
    "historic_acc, historic_cost = kfold_cross_validation(\n",
    "    folded_data,\n",
    "    INPUT_LAYER_SIZE,\n",
    "    HIDDEN_LAYER_SIZE,\n",
    "    OUTPUT_LAYER_SIZE,\n",
    "    NUMBER_OF_ITERATIONS,\n",
    "    LEARNING_RATE,\n",
    "    NUMBER_OF_FOLDS\n",
    ")"
   ]
  },
  {
   "cell_type": "code",
   "execution_count": 11,
   "metadata": {},
   "outputs": [
    {
     "output_type": "stream",
     "name": "stdout",
     "text": [
      "Summary: \n\navg_acc: 84.74% std_acc: 1.40% median_acc: 85.25%\navg_cost: 0.00009 std_cost: 0.00012 median_cost: 0.00006\n"
     ]
    }
   ],
   "source": [
    "metric_summary(historic_acc,historic_cost)"
   ]
  },
  {
   "cell_type": "code",
   "execution_count": 12,
   "metadata": {},
   "outputs": [
    {
     "output_type": "display_data",
     "data": {
      "application/vnd.plotly.v1+json": {
       "config": {
        "plotlyServerURL": "https://plot.ly"
       },
       "data": [
        {
         "line": {
          "color": "rgb(0, 0, 200)",
          "width": 1
         },
         "mode": "lines+markers",
         "name": "AVG Train Cost",
         "textposition": "bottom center",
         "type": "scatter",
         "x": [
          0,
          50,
          100,
          150,
          200,
          250,
          300,
          350,
          400,
          450,
          500,
          550,
          600,
          650,
          700,
          750,
          800,
          850,
          900,
          950,
          1000
         ],
         "y": [
          0.0006065402185082633,
          0.00012217691790278188,
          0.00010784938255556458,
          0.0000973455572658546,
          0.00008892724715345502,
          0.00008222882225443499,
          0.00007668135158718156,
          0.00007181615211231589,
          0.00006749195041312644,
          0.00006367890306289279,
          0.000060323671990316655,
          0.00005737646285218456,
          0.00005478406907490112,
          0.00005249509342202368,
          0.000050463237757337325,
          0.00004864812335036774,
          0.00004701519348427779,
          0.00004553526903177672,
          0.00004418500787468077,
          0.00004294735618340939,
          0.0000418081937318661
         ]
        }
       ],
       "layout": {
        "font": {
         "color": "#7f7f7f",
         "family": "Courier New, monospace",
         "size": 14
        },
        "template": {
         "data": {
          "bar": [
           {
            "error_x": {
             "color": "#2a3f5f"
            },
            "error_y": {
             "color": "#2a3f5f"
            },
            "marker": {
             "line": {
              "color": "#E5ECF6",
              "width": 0.5
             }
            },
            "type": "bar"
           }
          ],
          "barpolar": [
           {
            "marker": {
             "line": {
              "color": "#E5ECF6",
              "width": 0.5
             }
            },
            "type": "barpolar"
           }
          ],
          "carpet": [
           {
            "aaxis": {
             "endlinecolor": "#2a3f5f",
             "gridcolor": "white",
             "linecolor": "white",
             "minorgridcolor": "white",
             "startlinecolor": "#2a3f5f"
            },
            "baxis": {
             "endlinecolor": "#2a3f5f",
             "gridcolor": "white",
             "linecolor": "white",
             "minorgridcolor": "white",
             "startlinecolor": "#2a3f5f"
            },
            "type": "carpet"
           }
          ],
          "choropleth": [
           {
            "colorbar": {
             "outlinewidth": 0,
             "ticks": ""
            },
            "type": "choropleth"
           }
          ],
          "contour": [
           {
            "colorbar": {
             "outlinewidth": 0,
             "ticks": ""
            },
            "colorscale": [
             [
              0,
              "#0d0887"
             ],
             [
              0.1111111111111111,
              "#46039f"
             ],
             [
              0.2222222222222222,
              "#7201a8"
             ],
             [
              0.3333333333333333,
              "#9c179e"
             ],
             [
              0.4444444444444444,
              "#bd3786"
             ],
             [
              0.5555555555555556,
              "#d8576b"
             ],
             [
              0.6666666666666666,
              "#ed7953"
             ],
             [
              0.7777777777777778,
              "#fb9f3a"
             ],
             [
              0.8888888888888888,
              "#fdca26"
             ],
             [
              1,
              "#f0f921"
             ]
            ],
            "type": "contour"
           }
          ],
          "contourcarpet": [
           {
            "colorbar": {
             "outlinewidth": 0,
             "ticks": ""
            },
            "type": "contourcarpet"
           }
          ],
          "heatmap": [
           {
            "colorbar": {
             "outlinewidth": 0,
             "ticks": ""
            },
            "colorscale": [
             [
              0,
              "#0d0887"
             ],
             [
              0.1111111111111111,
              "#46039f"
             ],
             [
              0.2222222222222222,
              "#7201a8"
             ],
             [
              0.3333333333333333,
              "#9c179e"
             ],
             [
              0.4444444444444444,
              "#bd3786"
             ],
             [
              0.5555555555555556,
              "#d8576b"
             ],
             [
              0.6666666666666666,
              "#ed7953"
             ],
             [
              0.7777777777777778,
              "#fb9f3a"
             ],
             [
              0.8888888888888888,
              "#fdca26"
             ],
             [
              1,
              "#f0f921"
             ]
            ],
            "type": "heatmap"
           }
          ],
          "heatmapgl": [
           {
            "colorbar": {
             "outlinewidth": 0,
             "ticks": ""
            },
            "colorscale": [
             [
              0,
              "#0d0887"
             ],
             [
              0.1111111111111111,
              "#46039f"
             ],
             [
              0.2222222222222222,
              "#7201a8"
             ],
             [
              0.3333333333333333,
              "#9c179e"
             ],
             [
              0.4444444444444444,
              "#bd3786"
             ],
             [
              0.5555555555555556,
              "#d8576b"
             ],
             [
              0.6666666666666666,
              "#ed7953"
             ],
             [
              0.7777777777777778,
              "#fb9f3a"
             ],
             [
              0.8888888888888888,
              "#fdca26"
             ],
             [
              1,
              "#f0f921"
             ]
            ],
            "type": "heatmapgl"
           }
          ],
          "histogram": [
           {
            "marker": {
             "colorbar": {
              "outlinewidth": 0,
              "ticks": ""
             }
            },
            "type": "histogram"
           }
          ],
          "histogram2d": [
           {
            "colorbar": {
             "outlinewidth": 0,
             "ticks": ""
            },
            "colorscale": [
             [
              0,
              "#0d0887"
             ],
             [
              0.1111111111111111,
              "#46039f"
             ],
             [
              0.2222222222222222,
              "#7201a8"
             ],
             [
              0.3333333333333333,
              "#9c179e"
             ],
             [
              0.4444444444444444,
              "#bd3786"
             ],
             [
              0.5555555555555556,
              "#d8576b"
             ],
             [
              0.6666666666666666,
              "#ed7953"
             ],
             [
              0.7777777777777778,
              "#fb9f3a"
             ],
             [
              0.8888888888888888,
              "#fdca26"
             ],
             [
              1,
              "#f0f921"
             ]
            ],
            "type": "histogram2d"
           }
          ],
          "histogram2dcontour": [
           {
            "colorbar": {
             "outlinewidth": 0,
             "ticks": ""
            },
            "colorscale": [
             [
              0,
              "#0d0887"
             ],
             [
              0.1111111111111111,
              "#46039f"
             ],
             [
              0.2222222222222222,
              "#7201a8"
             ],
             [
              0.3333333333333333,
              "#9c179e"
             ],
             [
              0.4444444444444444,
              "#bd3786"
             ],
             [
              0.5555555555555556,
              "#d8576b"
             ],
             [
              0.6666666666666666,
              "#ed7953"
             ],
             [
              0.7777777777777778,
              "#fb9f3a"
             ],
             [
              0.8888888888888888,
              "#fdca26"
             ],
             [
              1,
              "#f0f921"
             ]
            ],
            "type": "histogram2dcontour"
           }
          ],
          "mesh3d": [
           {
            "colorbar": {
             "outlinewidth": 0,
             "ticks": ""
            },
            "type": "mesh3d"
           }
          ],
          "parcoords": [
           {
            "line": {
             "colorbar": {
              "outlinewidth": 0,
              "ticks": ""
             }
            },
            "type": "parcoords"
           }
          ],
          "pie": [
           {
            "automargin": true,
            "type": "pie"
           }
          ],
          "scatter": [
           {
            "marker": {
             "colorbar": {
              "outlinewidth": 0,
              "ticks": ""
             }
            },
            "type": "scatter"
           }
          ],
          "scatter3d": [
           {
            "line": {
             "colorbar": {
              "outlinewidth": 0,
              "ticks": ""
             }
            },
            "marker": {
             "colorbar": {
              "outlinewidth": 0,
              "ticks": ""
             }
            },
            "type": "scatter3d"
           }
          ],
          "scattercarpet": [
           {
            "marker": {
             "colorbar": {
              "outlinewidth": 0,
              "ticks": ""
             }
            },
            "type": "scattercarpet"
           }
          ],
          "scattergeo": [
           {
            "marker": {
             "colorbar": {
              "outlinewidth": 0,
              "ticks": ""
             }
            },
            "type": "scattergeo"
           }
          ],
          "scattergl": [
           {
            "marker": {
             "colorbar": {
              "outlinewidth": 0,
              "ticks": ""
             }
            },
            "type": "scattergl"
           }
          ],
          "scattermapbox": [
           {
            "marker": {
             "colorbar": {
              "outlinewidth": 0,
              "ticks": ""
             }
            },
            "type": "scattermapbox"
           }
          ],
          "scatterpolar": [
           {
            "marker": {
             "colorbar": {
              "outlinewidth": 0,
              "ticks": ""
             }
            },
            "type": "scatterpolar"
           }
          ],
          "scatterpolargl": [
           {
            "marker": {
             "colorbar": {
              "outlinewidth": 0,
              "ticks": ""
             }
            },
            "type": "scatterpolargl"
           }
          ],
          "scatterternary": [
           {
            "marker": {
             "colorbar": {
              "outlinewidth": 0,
              "ticks": ""
             }
            },
            "type": "scatterternary"
           }
          ],
          "surface": [
           {
            "colorbar": {
             "outlinewidth": 0,
             "ticks": ""
            },
            "colorscale": [
             [
              0,
              "#0d0887"
             ],
             [
              0.1111111111111111,
              "#46039f"
             ],
             [
              0.2222222222222222,
              "#7201a8"
             ],
             [
              0.3333333333333333,
              "#9c179e"
             ],
             [
              0.4444444444444444,
              "#bd3786"
             ],
             [
              0.5555555555555556,
              "#d8576b"
             ],
             [
              0.6666666666666666,
              "#ed7953"
             ],
             [
              0.7777777777777778,
              "#fb9f3a"
             ],
             [
              0.8888888888888888,
              "#fdca26"
             ],
             [
              1,
              "#f0f921"
             ]
            ],
            "type": "surface"
           }
          ],
          "table": [
           {
            "cells": {
             "fill": {
              "color": "#EBF0F8"
             },
             "line": {
              "color": "white"
             }
            },
            "header": {
             "fill": {
              "color": "#C8D4E3"
             },
             "line": {
              "color": "white"
             }
            },
            "type": "table"
           }
          ]
         },
         "layout": {
          "annotationdefaults": {
           "arrowcolor": "#2a3f5f",
           "arrowhead": 0,
           "arrowwidth": 1
          },
          "coloraxis": {
           "colorbar": {
            "outlinewidth": 0,
            "ticks": ""
           }
          },
          "colorscale": {
           "diverging": [
            [
             0,
             "#8e0152"
            ],
            [
             0.1,
             "#c51b7d"
            ],
            [
             0.2,
             "#de77ae"
            ],
            [
             0.3,
             "#f1b6da"
            ],
            [
             0.4,
             "#fde0ef"
            ],
            [
             0.5,
             "#f7f7f7"
            ],
            [
             0.6,
             "#e6f5d0"
            ],
            [
             0.7,
             "#b8e186"
            ],
            [
             0.8,
             "#7fbc41"
            ],
            [
             0.9,
             "#4d9221"
            ],
            [
             1,
             "#276419"
            ]
           ],
           "sequential": [
            [
             0,
             "#0d0887"
            ],
            [
             0.1111111111111111,
             "#46039f"
            ],
            [
             0.2222222222222222,
             "#7201a8"
            ],
            [
             0.3333333333333333,
             "#9c179e"
            ],
            [
             0.4444444444444444,
             "#bd3786"
            ],
            [
             0.5555555555555556,
             "#d8576b"
            ],
            [
             0.6666666666666666,
             "#ed7953"
            ],
            [
             0.7777777777777778,
             "#fb9f3a"
            ],
            [
             0.8888888888888888,
             "#fdca26"
            ],
            [
             1,
             "#f0f921"
            ]
           ],
           "sequentialminus": [
            [
             0,
             "#0d0887"
            ],
            [
             0.1111111111111111,
             "#46039f"
            ],
            [
             0.2222222222222222,
             "#7201a8"
            ],
            [
             0.3333333333333333,
             "#9c179e"
            ],
            [
             0.4444444444444444,
             "#bd3786"
            ],
            [
             0.5555555555555556,
             "#d8576b"
            ],
            [
             0.6666666666666666,
             "#ed7953"
            ],
            [
             0.7777777777777778,
             "#fb9f3a"
            ],
            [
             0.8888888888888888,
             "#fdca26"
            ],
            [
             1,
             "#f0f921"
            ]
           ]
          },
          "colorway": [
           "#636efa",
           "#EF553B",
           "#00cc96",
           "#ab63fa",
           "#FFA15A",
           "#19d3f3",
           "#FF6692",
           "#B6E880",
           "#FF97FF",
           "#FECB52"
          ],
          "font": {
           "color": "#2a3f5f"
          },
          "geo": {
           "bgcolor": "white",
           "lakecolor": "white",
           "landcolor": "#E5ECF6",
           "showlakes": true,
           "showland": true,
           "subunitcolor": "white"
          },
          "hoverlabel": {
           "align": "left"
          },
          "hovermode": "closest",
          "mapbox": {
           "style": "light"
          },
          "paper_bgcolor": "white",
          "plot_bgcolor": "#E5ECF6",
          "polar": {
           "angularaxis": {
            "gridcolor": "white",
            "linecolor": "white",
            "ticks": ""
           },
           "bgcolor": "#E5ECF6",
           "radialaxis": {
            "gridcolor": "white",
            "linecolor": "white",
            "ticks": ""
           }
          },
          "scene": {
           "xaxis": {
            "backgroundcolor": "#E5ECF6",
            "gridcolor": "white",
            "gridwidth": 2,
            "linecolor": "white",
            "showbackground": true,
            "ticks": "",
            "zerolinecolor": "white"
           },
           "yaxis": {
            "backgroundcolor": "#E5ECF6",
            "gridcolor": "white",
            "gridwidth": 2,
            "linecolor": "white",
            "showbackground": true,
            "ticks": "",
            "zerolinecolor": "white"
           },
           "zaxis": {
            "backgroundcolor": "#E5ECF6",
            "gridcolor": "white",
            "gridwidth": 2,
            "linecolor": "white",
            "showbackground": true,
            "ticks": "",
            "zerolinecolor": "white"
           }
          },
          "shapedefaults": {
           "line": {
            "color": "#2a3f5f"
           }
          },
          "ternary": {
           "aaxis": {
            "gridcolor": "white",
            "linecolor": "white",
            "ticks": ""
           },
           "baxis": {
            "gridcolor": "white",
            "linecolor": "white",
            "ticks": ""
           },
           "bgcolor": "#E5ECF6",
           "caxis": {
            "gridcolor": "white",
            "linecolor": "white",
            "ticks": ""
           }
          },
          "title": {
           "x": 0.05
          },
          "xaxis": {
           "automargin": true,
           "gridcolor": "white",
           "linecolor": "white",
           "ticks": "",
           "title": {
            "standoff": 15
           },
           "zerolinecolor": "white",
           "zerolinewidth": 2
          },
          "yaxis": {
           "automargin": true,
           "gridcolor": "white",
           "linecolor": "white",
           "ticks": "",
           "title": {
            "standoff": 15
           },
           "zerolinecolor": "white",
           "zerolinewidth": 2
          }
         }
        },
        "title": {
         "text": "Cost chart"
        },
        "xaxis": {
         "title": {
          "text": "Number of Iterations"
         }
        },
        "yaxis": {
         "tickformat": ".5f",
         "title": {
          "text": "Avg Cost"
         }
        }
       }
      }
     },
     "metadata": {}
    }
   ],
   "source": [
    "f = create_figure()\n",
    "plot_figure(f, np.mean(historic_cost,axis=0))"
   ]
  },
  {
   "source": [
    "*   ### Experiment #2\n",
    "    *   Increasing `HIDDEN_LAYER_SIZE` from `10` to `50`.\n",
    "    *   Reducing `NUMBER_OF_FOLDS` from `10` to `5`. "
   ],
   "cell_type": "markdown",
   "metadata": {}
  },
  {
   "cell_type": "code",
   "execution_count": 13,
   "metadata": {},
   "outputs": [],
   "source": [
    "HIDDEN_LAYER_SIZE = 50\n",
    "NUMBER_OF_FOLDS = 5"
   ]
  },
  {
   "cell_type": "code",
   "execution_count": 14,
   "metadata": {},
   "outputs": [
    {
     "output_type": "stream",
     "name": "stdout",
     "text": [
      "Model parameters:\n",
      "\n",
      " input_layer_size: 16 | hidden_layer_size: 50 | output_layer_size: 10\n",
      " number_of_iterations: 1000 | learning_rate: 0.1 | number_of_folds: 5\n",
      "\n",
      "################## EPOCH with K=0 ##################\n",
      " Accuracy: 95.06%\n",
      " Avg cost: 0.00014\n",
      "\n",
      " Confusion Matrix:\n",
      " [[92  0  0  0  0  0  0  0  1  0]\n",
      " [ 0 61 10  1  0  1  2  0  0  0]\n",
      " [ 0  1 81  0  0  0  0  2  0  0]\n",
      " [ 0  1  0 69  0  0  0  0  0  0]\n",
      " [ 0  0  0  0 73  0  0  0  0  2]\n",
      " [ 0  0  0  1  0 66  1  0  0  3]\n",
      " [ 0  0  0  0  1  0 57  0  0  0]\n",
      " [ 0  3  0  0  0  0  0 67  0  0]\n",
      " [ 1  3  0  0  0  0  1  0 76  1]\n",
      " [ 0  0  0  0  1  0  0  0  0 70]]\n",
      "\n",
      "################## EPOCH with K=1 ##################\n",
      " Accuracy: 95.59%\n",
      " Avg cost: 0.00013\n",
      "\n",
      " Confusion Matrix:\n",
      " [[74  0  0  0  1  0  0  0  1  1]\n",
      " [ 0 70  5  3  0  1  0  0  0  0]\n",
      " [ 0  2 59  0  0  0  0  0  0  0]\n",
      " [ 0  0  0 64  0  0  0  0  0  0]\n",
      " [ 0  0  0  0 75  0  0  0  0  1]\n",
      " [ 0  0  0  1  0 71  0  0  1  3]\n",
      " [ 0  0  0  0  0  0 80  0  0  0]\n",
      " [ 0  2  0  3  0  0  0 76  0  0]\n",
      " [ 2  0  0  0  0  0  0  0 63  0]\n",
      " [ 0  1  0  2  1  2  0  0  0 84]]\n",
      "\n",
      "################## EPOCH with K=2 ##################\n",
      " Accuracy: 94.79%\n",
      " Avg cost: 0.00013\n",
      "\n",
      " Confusion Matrix:\n",
      " [[63  0  0  0  1  0  0  0  0  0]\n",
      " [ 0 64  6  2  0  2  0  1  0  1]\n",
      " [ 0  1 69  0  0  0  0  0  0  0]\n",
      " [ 0  1  0 66  0  0  0  0  0  0]\n",
      " [ 0  0  0  0 75  0  1  0  0  0]\n",
      " [ 0  1  0  1  0 64  1  0  0  7]\n",
      " [ 0  0  0  0  0  0 75  0  0  0]\n",
      " [ 0  5  0  0  0  0  0 92  0  0]\n",
      " [ 0  3  1  0  0  0  1  0 68  1]\n",
      " [ 0  1  0  1  0  0  0  0  0 74]]\n",
      "\n",
      "################## EPOCH with K=3 ##################\n",
      " Accuracy: 93.32%\n",
      " Avg cost: 0.00016\n",
      "\n",
      " Confusion Matrix:\n",
      " [[63  1  0  0  1  0  0  0  2  0]\n",
      " [ 0 64  6  5  0  2  1  1  0  0]\n",
      " [ 0  3 79  0  0  0  0  0  0  0]\n",
      " [ 0  0  0 70  0  0  0  1  0  0]\n",
      " [ 0  0  0  0 74  0  2  0  0  0]\n",
      " [ 0  1  0  2  0 63  1  0  1  4]\n",
      " [ 0  0  0  0  2  0 93  0  0  0]\n",
      " [ 0  1  0  1  0  0  0 63  0  0]\n",
      " [ 1  1  0  0  0  1  0  1 76  1]\n",
      " [ 2  1  0  1  2  1  0  0  0 54]]\n",
      "\n",
      "################## EPOCH with K=4 ##################\n",
      " Accuracy: 92.52%\n",
      " Avg cost: 0.00011\n",
      "\n",
      " Confusion Matrix:\n",
      " [[80  0  0  0  0  0  0  0  1  1]\n",
      " [ 0 71 14  1  0  2  0  2  0  0]\n",
      " [ 0  0 75  0  0  0  0  0  0  0]\n",
      " [ 0  1  0 67  0  1  0  0  0  0]\n",
      " [ 0  0  0  0 72  0  1  0  0  3]\n",
      " [ 0  0  0  4  0 59  1  0  0  1]\n",
      " [ 0  0  0  0  0  2 72  0  0  0]\n",
      " [ 0  4  0  1  0  0  0 82  2  0]\n",
      " [ 2  0  0  1  0  0  0  0 58  2]\n",
      " [ 2  3  0  2  1  1  0  0  0 57]]\n"
     ]
    }
   ],
   "source": [
    "historic_acc, historic_cost = kfold_cross_validation(\n",
    "    folded_data,\n",
    "    INPUT_LAYER_SIZE,\n",
    "    HIDDEN_LAYER_SIZE,\n",
    "    OUTPUT_LAYER_SIZE,\n",
    "    NUMBER_OF_ITERATIONS,\n",
    "    LEARNING_RATE,\n",
    "    NUMBER_OF_FOLDS\n",
    ")"
   ]
  },
  {
   "cell_type": "code",
   "execution_count": 15,
   "metadata": {},
   "outputs": [
    {
     "output_type": "stream",
     "name": "stdout",
     "text": [
      "Summary: \n\navg_acc: 94.26% std_acc: 1.15% median_acc: 94.79%\navg_cost: 0.00013 std_cost: 0.00032 median_cost: 0.00005\n"
     ]
    }
   ],
   "source": [
    "metric_summary(historic_acc,historic_cost)"
   ]
  },
  {
   "cell_type": "code",
   "execution_count": 16,
   "metadata": {},
   "outputs": [
    {
     "output_type": "display_data",
     "data": {
      "application/vnd.plotly.v1+json": {
       "config": {
        "plotlyServerURL": "https://plot.ly"
       },
       "data": [
        {
         "line": {
          "color": "rgb(0, 0, 200)",
          "width": 1
         },
         "mode": "lines+markers",
         "name": "AVG Train Cost",
         "textposition": "bottom center",
         "type": "scatter",
         "x": [
          0,
          50,
          100,
          150,
          200,
          250,
          300,
          350,
          400,
          450,
          500,
          550,
          600,
          650,
          700,
          750,
          800,
          850,
          900,
          950,
          1000
         ],
         "y": [
          0.0015268162725523631,
          0.00017507721380255494,
          0.00012204605057966112,
          0.00009933850377642794,
          0.00008603640634410043,
          0.00007704044479227629,
          0.00007035604793863908,
          0.0000651105303609368,
          0.000060845640931137154,
          0.00005728576788698376,
          0.0000542535680716797,
          0.00005162871304523107,
          0.000049325794304017294,
          0.000047282221157113685,
          0.00004545103857181273,
          0.0000437962745032487,
          0.00004228983147170061,
          0.00004090940734530577,
          0.00003963706986862208,
          0.000038458242781200576,
          0.00003736096836346255
         ]
        }
       ],
       "layout": {
        "font": {
         "color": "#7f7f7f",
         "family": "Courier New, monospace",
         "size": 14
        },
        "template": {
         "data": {
          "bar": [
           {
            "error_x": {
             "color": "#2a3f5f"
            },
            "error_y": {
             "color": "#2a3f5f"
            },
            "marker": {
             "line": {
              "color": "#E5ECF6",
              "width": 0.5
             }
            },
            "type": "bar"
           }
          ],
          "barpolar": [
           {
            "marker": {
             "line": {
              "color": "#E5ECF6",
              "width": 0.5
             }
            },
            "type": "barpolar"
           }
          ],
          "carpet": [
           {
            "aaxis": {
             "endlinecolor": "#2a3f5f",
             "gridcolor": "white",
             "linecolor": "white",
             "minorgridcolor": "white",
             "startlinecolor": "#2a3f5f"
            },
            "baxis": {
             "endlinecolor": "#2a3f5f",
             "gridcolor": "white",
             "linecolor": "white",
             "minorgridcolor": "white",
             "startlinecolor": "#2a3f5f"
            },
            "type": "carpet"
           }
          ],
          "choropleth": [
           {
            "colorbar": {
             "outlinewidth": 0,
             "ticks": ""
            },
            "type": "choropleth"
           }
          ],
          "contour": [
           {
            "colorbar": {
             "outlinewidth": 0,
             "ticks": ""
            },
            "colorscale": [
             [
              0,
              "#0d0887"
             ],
             [
              0.1111111111111111,
              "#46039f"
             ],
             [
              0.2222222222222222,
              "#7201a8"
             ],
             [
              0.3333333333333333,
              "#9c179e"
             ],
             [
              0.4444444444444444,
              "#bd3786"
             ],
             [
              0.5555555555555556,
              "#d8576b"
             ],
             [
              0.6666666666666666,
              "#ed7953"
             ],
             [
              0.7777777777777778,
              "#fb9f3a"
             ],
             [
              0.8888888888888888,
              "#fdca26"
             ],
             [
              1,
              "#f0f921"
             ]
            ],
            "type": "contour"
           }
          ],
          "contourcarpet": [
           {
            "colorbar": {
             "outlinewidth": 0,
             "ticks": ""
            },
            "type": "contourcarpet"
           }
          ],
          "heatmap": [
           {
            "colorbar": {
             "outlinewidth": 0,
             "ticks": ""
            },
            "colorscale": [
             [
              0,
              "#0d0887"
             ],
             [
              0.1111111111111111,
              "#46039f"
             ],
             [
              0.2222222222222222,
              "#7201a8"
             ],
             [
              0.3333333333333333,
              "#9c179e"
             ],
             [
              0.4444444444444444,
              "#bd3786"
             ],
             [
              0.5555555555555556,
              "#d8576b"
             ],
             [
              0.6666666666666666,
              "#ed7953"
             ],
             [
              0.7777777777777778,
              "#fb9f3a"
             ],
             [
              0.8888888888888888,
              "#fdca26"
             ],
             [
              1,
              "#f0f921"
             ]
            ],
            "type": "heatmap"
           }
          ],
          "heatmapgl": [
           {
            "colorbar": {
             "outlinewidth": 0,
             "ticks": ""
            },
            "colorscale": [
             [
              0,
              "#0d0887"
             ],
             [
              0.1111111111111111,
              "#46039f"
             ],
             [
              0.2222222222222222,
              "#7201a8"
             ],
             [
              0.3333333333333333,
              "#9c179e"
             ],
             [
              0.4444444444444444,
              "#bd3786"
             ],
             [
              0.5555555555555556,
              "#d8576b"
             ],
             [
              0.6666666666666666,
              "#ed7953"
             ],
             [
              0.7777777777777778,
              "#fb9f3a"
             ],
             [
              0.8888888888888888,
              "#fdca26"
             ],
             [
              1,
              "#f0f921"
             ]
            ],
            "type": "heatmapgl"
           }
          ],
          "histogram": [
           {
            "marker": {
             "colorbar": {
              "outlinewidth": 0,
              "ticks": ""
             }
            },
            "type": "histogram"
           }
          ],
          "histogram2d": [
           {
            "colorbar": {
             "outlinewidth": 0,
             "ticks": ""
            },
            "colorscale": [
             [
              0,
              "#0d0887"
             ],
             [
              0.1111111111111111,
              "#46039f"
             ],
             [
              0.2222222222222222,
              "#7201a8"
             ],
             [
              0.3333333333333333,
              "#9c179e"
             ],
             [
              0.4444444444444444,
              "#bd3786"
             ],
             [
              0.5555555555555556,
              "#d8576b"
             ],
             [
              0.6666666666666666,
              "#ed7953"
             ],
             [
              0.7777777777777778,
              "#fb9f3a"
             ],
             [
              0.8888888888888888,
              "#fdca26"
             ],
             [
              1,
              "#f0f921"
             ]
            ],
            "type": "histogram2d"
           }
          ],
          "histogram2dcontour": [
           {
            "colorbar": {
             "outlinewidth": 0,
             "ticks": ""
            },
            "colorscale": [
             [
              0,
              "#0d0887"
             ],
             [
              0.1111111111111111,
              "#46039f"
             ],
             [
              0.2222222222222222,
              "#7201a8"
             ],
             [
              0.3333333333333333,
              "#9c179e"
             ],
             [
              0.4444444444444444,
              "#bd3786"
             ],
             [
              0.5555555555555556,
              "#d8576b"
             ],
             [
              0.6666666666666666,
              "#ed7953"
             ],
             [
              0.7777777777777778,
              "#fb9f3a"
             ],
             [
              0.8888888888888888,
              "#fdca26"
             ],
             [
              1,
              "#f0f921"
             ]
            ],
            "type": "histogram2dcontour"
           }
          ],
          "mesh3d": [
           {
            "colorbar": {
             "outlinewidth": 0,
             "ticks": ""
            },
            "type": "mesh3d"
           }
          ],
          "parcoords": [
           {
            "line": {
             "colorbar": {
              "outlinewidth": 0,
              "ticks": ""
             }
            },
            "type": "parcoords"
           }
          ],
          "pie": [
           {
            "automargin": true,
            "type": "pie"
           }
          ],
          "scatter": [
           {
            "marker": {
             "colorbar": {
              "outlinewidth": 0,
              "ticks": ""
             }
            },
            "type": "scatter"
           }
          ],
          "scatter3d": [
           {
            "line": {
             "colorbar": {
              "outlinewidth": 0,
              "ticks": ""
             }
            },
            "marker": {
             "colorbar": {
              "outlinewidth": 0,
              "ticks": ""
             }
            },
            "type": "scatter3d"
           }
          ],
          "scattercarpet": [
           {
            "marker": {
             "colorbar": {
              "outlinewidth": 0,
              "ticks": ""
             }
            },
            "type": "scattercarpet"
           }
          ],
          "scattergeo": [
           {
            "marker": {
             "colorbar": {
              "outlinewidth": 0,
              "ticks": ""
             }
            },
            "type": "scattergeo"
           }
          ],
          "scattergl": [
           {
            "marker": {
             "colorbar": {
              "outlinewidth": 0,
              "ticks": ""
             }
            },
            "type": "scattergl"
           }
          ],
          "scattermapbox": [
           {
            "marker": {
             "colorbar": {
              "outlinewidth": 0,
              "ticks": ""
             }
            },
            "type": "scattermapbox"
           }
          ],
          "scatterpolar": [
           {
            "marker": {
             "colorbar": {
              "outlinewidth": 0,
              "ticks": ""
             }
            },
            "type": "scatterpolar"
           }
          ],
          "scatterpolargl": [
           {
            "marker": {
             "colorbar": {
              "outlinewidth": 0,
              "ticks": ""
             }
            },
            "type": "scatterpolargl"
           }
          ],
          "scatterternary": [
           {
            "marker": {
             "colorbar": {
              "outlinewidth": 0,
              "ticks": ""
             }
            },
            "type": "scatterternary"
           }
          ],
          "surface": [
           {
            "colorbar": {
             "outlinewidth": 0,
             "ticks": ""
            },
            "colorscale": [
             [
              0,
              "#0d0887"
             ],
             [
              0.1111111111111111,
              "#46039f"
             ],
             [
              0.2222222222222222,
              "#7201a8"
             ],
             [
              0.3333333333333333,
              "#9c179e"
             ],
             [
              0.4444444444444444,
              "#bd3786"
             ],
             [
              0.5555555555555556,
              "#d8576b"
             ],
             [
              0.6666666666666666,
              "#ed7953"
             ],
             [
              0.7777777777777778,
              "#fb9f3a"
             ],
             [
              0.8888888888888888,
              "#fdca26"
             ],
             [
              1,
              "#f0f921"
             ]
            ],
            "type": "surface"
           }
          ],
          "table": [
           {
            "cells": {
             "fill": {
              "color": "#EBF0F8"
             },
             "line": {
              "color": "white"
             }
            },
            "header": {
             "fill": {
              "color": "#C8D4E3"
             },
             "line": {
              "color": "white"
             }
            },
            "type": "table"
           }
          ]
         },
         "layout": {
          "annotationdefaults": {
           "arrowcolor": "#2a3f5f",
           "arrowhead": 0,
           "arrowwidth": 1
          },
          "coloraxis": {
           "colorbar": {
            "outlinewidth": 0,
            "ticks": ""
           }
          },
          "colorscale": {
           "diverging": [
            [
             0,
             "#8e0152"
            ],
            [
             0.1,
             "#c51b7d"
            ],
            [
             0.2,
             "#de77ae"
            ],
            [
             0.3,
             "#f1b6da"
            ],
            [
             0.4,
             "#fde0ef"
            ],
            [
             0.5,
             "#f7f7f7"
            ],
            [
             0.6,
             "#e6f5d0"
            ],
            [
             0.7,
             "#b8e186"
            ],
            [
             0.8,
             "#7fbc41"
            ],
            [
             0.9,
             "#4d9221"
            ],
            [
             1,
             "#276419"
            ]
           ],
           "sequential": [
            [
             0,
             "#0d0887"
            ],
            [
             0.1111111111111111,
             "#46039f"
            ],
            [
             0.2222222222222222,
             "#7201a8"
            ],
            [
             0.3333333333333333,
             "#9c179e"
            ],
            [
             0.4444444444444444,
             "#bd3786"
            ],
            [
             0.5555555555555556,
             "#d8576b"
            ],
            [
             0.6666666666666666,
             "#ed7953"
            ],
            [
             0.7777777777777778,
             "#fb9f3a"
            ],
            [
             0.8888888888888888,
             "#fdca26"
            ],
            [
             1,
             "#f0f921"
            ]
           ],
           "sequentialminus": [
            [
             0,
             "#0d0887"
            ],
            [
             0.1111111111111111,
             "#46039f"
            ],
            [
             0.2222222222222222,
             "#7201a8"
            ],
            [
             0.3333333333333333,
             "#9c179e"
            ],
            [
             0.4444444444444444,
             "#bd3786"
            ],
            [
             0.5555555555555556,
             "#d8576b"
            ],
            [
             0.6666666666666666,
             "#ed7953"
            ],
            [
             0.7777777777777778,
             "#fb9f3a"
            ],
            [
             0.8888888888888888,
             "#fdca26"
            ],
            [
             1,
             "#f0f921"
            ]
           ]
          },
          "colorway": [
           "#636efa",
           "#EF553B",
           "#00cc96",
           "#ab63fa",
           "#FFA15A",
           "#19d3f3",
           "#FF6692",
           "#B6E880",
           "#FF97FF",
           "#FECB52"
          ],
          "font": {
           "color": "#2a3f5f"
          },
          "geo": {
           "bgcolor": "white",
           "lakecolor": "white",
           "landcolor": "#E5ECF6",
           "showlakes": true,
           "showland": true,
           "subunitcolor": "white"
          },
          "hoverlabel": {
           "align": "left"
          },
          "hovermode": "closest",
          "mapbox": {
           "style": "light"
          },
          "paper_bgcolor": "white",
          "plot_bgcolor": "#E5ECF6",
          "polar": {
           "angularaxis": {
            "gridcolor": "white",
            "linecolor": "white",
            "ticks": ""
           },
           "bgcolor": "#E5ECF6",
           "radialaxis": {
            "gridcolor": "white",
            "linecolor": "white",
            "ticks": ""
           }
          },
          "scene": {
           "xaxis": {
            "backgroundcolor": "#E5ECF6",
            "gridcolor": "white",
            "gridwidth": 2,
            "linecolor": "white",
            "showbackground": true,
            "ticks": "",
            "zerolinecolor": "white"
           },
           "yaxis": {
            "backgroundcolor": "#E5ECF6",
            "gridcolor": "white",
            "gridwidth": 2,
            "linecolor": "white",
            "showbackground": true,
            "ticks": "",
            "zerolinecolor": "white"
           },
           "zaxis": {
            "backgroundcolor": "#E5ECF6",
            "gridcolor": "white",
            "gridwidth": 2,
            "linecolor": "white",
            "showbackground": true,
            "ticks": "",
            "zerolinecolor": "white"
           }
          },
          "shapedefaults": {
           "line": {
            "color": "#2a3f5f"
           }
          },
          "ternary": {
           "aaxis": {
            "gridcolor": "white",
            "linecolor": "white",
            "ticks": ""
           },
           "baxis": {
            "gridcolor": "white",
            "linecolor": "white",
            "ticks": ""
           },
           "bgcolor": "#E5ECF6",
           "caxis": {
            "gridcolor": "white",
            "linecolor": "white",
            "ticks": ""
           }
          },
          "title": {
           "x": 0.05
          },
          "xaxis": {
           "automargin": true,
           "gridcolor": "white",
           "linecolor": "white",
           "ticks": "",
           "title": {
            "standoff": 15
           },
           "zerolinecolor": "white",
           "zerolinewidth": 2
          },
          "yaxis": {
           "automargin": true,
           "gridcolor": "white",
           "linecolor": "white",
           "ticks": "",
           "title": {
            "standoff": 15
           },
           "zerolinecolor": "white",
           "zerolinewidth": 2
          }
         }
        },
        "title": {
         "text": "Cost chart"
        },
        "xaxis": {
         "title": {
          "text": "Number of Iterations"
         }
        },
        "yaxis": {
         "tickformat": ".5f",
         "title": {
          "text": "Avg Cost"
         }
        }
       }
      }
     },
     "metadata": {}
    }
   ],
   "source": [
    "f = create_figure()\n",
    "plot_figure(f, np.mean(historic_cost,axis=0))"
   ]
  },
  {
   "source": [
    "## Dataset `Poker Hand`\n",
    "\n",
    "The second set of experiments we will be doing is using the [poker hand](https://archive.ics.uci.edu/ml/datasets/Poker+Hand) dataset. The information inside it represents a poker hand. Each row in the dataset is an individual example of a poker hand (5 cards), each card is described using two attributes (suit and rank), for a total of 10 predictive attributes. The last number corresponds to the class of the example.\n",
    "\n",
    "*   Suits: Ordinal (1-4) representing `{Hearts, Spades, Diamonds, Clubs}`.\n",
    "*   Rank: Numerical (1-13) representing `{Ace, 2, 3, ... , Queen, King}`.\n",
    "*   Class: Ordinal (0-9).\n",
    "\n",
    "    *   0: Nothing in hand; not a recognized poker hand\n",
    "    *   1: One pair; one pair of equal ranks within five cards\n",
    "    *   2: Two pairs; two pairs of equal ranks within five cards\n",
    "    *   3: Three of a kind; three equal ranks within five cards\n",
    "    *   4: Straight; five cards, sequentially ranked with no gaps\n",
    "    *   5: Flush; five cards with the same suit\n",
    "    *   6: Full house; pair + different rank three of a kind\n",
    "    *   7: Four of a kind; four equal ranks within five cards\n",
    "    *   8: Straight flush; straight + flush\n",
    "    *   9: Royal flush; {Ace, King, Queen, Jack, Ten} + flush \n",
    "\n"
   ],
   "cell_type": "markdown",
   "metadata": {}
  },
  {
   "cell_type": "code",
   "execution_count": 17,
   "metadata": {},
   "outputs": [],
   "source": [
    "x_data,y_data = load_dataset(\"../resources/datasets/poker_hand.txt\",dtype=np.int64)"
   ]
  },
  {
   "cell_type": "code",
   "execution_count": 18,
   "metadata": {},
   "outputs": [
    {
     "output_type": "stream",
     "name": "stdout",
     "text": [
      "class: 0 | 12493 (49.95%) instances\nclass: 1 | 10599 (42.38%) instances\nclass: 2 | 1206 (4.82%) instances\nclass: 3 | 513 (2.05%) instances\nclass: 4 | 93 (0.37%) instances\nclass: 5 | 54 (0.22%) instances\nclass: 6 | 36 (0.14%) instances\nclass: 7 | 6 (0.02%) instances\nclass: 8 | 5 (0.02%) instances\nclass: 9 | 5 (0.02%) instances\nTotal number of instances: 25010\n"
     ]
    }
   ],
   "source": [
    "# Explore data and class distribution\n",
    "explore_data(y_data,10)"
   ]
  },
  {
   "source": [
    "After exploring the data we can observe that it contains `25010` examples of `10`  unbalanced classes which is the main reason we chose this dataset, with the intention of understanding the importance of the distribution of classes inside a dataset can affect the result."
   ],
   "cell_type": "markdown",
   "metadata": {}
  },
  {
   "cell_type": "code",
   "execution_count": 19,
   "metadata": {},
   "outputs": [],
   "source": [
    "# Using the utility we built to normalize the values of the input layer\n",
    "x_data = normalization(x_data)"
   ]
  },
  {
   "cell_type": "code",
   "execution_count": 20,
   "metadata": {},
   "outputs": [],
   "source": [
    "# Applying one-hot encoding to the expected classes understanding that\n",
    "# the result of this transformation is also normalized\n",
    "y_data = one_hot(y_data,10)"
   ]
  },
  {
   "source": [
    "*   ### Experiment #1"
   ],
   "cell_type": "markdown",
   "metadata": {}
  },
  {
   "cell_type": "code",
   "execution_count": 21,
   "metadata": {},
   "outputs": [],
   "source": [
    "LEARNING_RATE = 0.1\n",
    "NUMBER_OF_ITERATIONS = 1000\n",
    "HIDDEN_LAYER_SIZE = 10\n",
    "INPUT_LAYER_SIZE = 10\n",
    "OUTPUT_LAYER_SIZE = 10\n",
    "NUMBER_OF_FOLDS = 10"
   ]
  },
  {
   "cell_type": "code",
   "execution_count": 22,
   "metadata": {},
   "outputs": [],
   "source": [
    "# Dividing the data in `k` folds as a first step for `k-cross-validation`\n",
    "folded_data = fold_data(list(zip(x_data,y_data)),k=NUMBER_OF_FOLDS)"
   ]
  },
  {
   "cell_type": "code",
   "execution_count": 23,
   "metadata": {},
   "outputs": [
    {
     "output_type": "stream",
     "name": "stdout",
     "text": [
      "Model parameters:\n",
      "\n",
      " input_layer_size: 10 | hidden_layer_size: 10 | output_layer_size: 10\n",
      " number_of_iterations: 1000 | learning_rate: 0.1 | number_of_folds: 10\n",
      "\n",
      "################## EPOCH with K=0 ##################\n",
      " Accuracy: 50.02%\n",
      " Avg cost: 0.00003\n",
      "\n",
      " Confusion Matrix:\n",
      " [[1199   54    0    0    0    0    0    0    0]\n",
      " [ 998   52    0    0    0    0    0    0    0]\n",
      " [ 116   17    0    0    0    0    0    0    0]\n",
      " [  45    4    0    0    0    0    0    0    0]\n",
      " [   8    0    0    0    0    0    0    0    0]\n",
      " [   3    0    0    0    0    0    0    0    0]\n",
      " [   3    0    0    0    0    0    0    0    0]\n",
      " [   1    0    0    0    0    0    0    0    0]\n",
      " [   1    0    0    0    0    0    0    0    0]]\n",
      "\n",
      "################## EPOCH with K=1 ##################\n",
      " Accuracy: 49.02%\n",
      " Avg cost: 0.00003\n",
      "\n",
      " Confusion Matrix:\n",
      " [[1142   52    0    0    0    0    0    0]\n",
      " [1027   84    0    0    0    0    0    0]\n",
      " [ 100   18    0    0    0    0    0    0]\n",
      " [  50   13    0    0    0    0    0    0]\n",
      " [   5    1    0    0    0    0    0    0]\n",
      " [   6    0    0    0    0    0    0    0]\n",
      " [   1    1    0    0    0    0    0    0]\n",
      " [   1    0    0    0    0    0    0    0]]\n",
      "\n",
      "################## EPOCH with K=2 ##################\n",
      " Accuracy: 51.06%\n",
      " Avg cost: 0.00003\n",
      "\n",
      " Confusion Matrix:\n",
      " [[1231   35    0    0    0    0    0    0    0]\n",
      " [1008   46    0    0    0    0    0    0    0]\n",
      " [ 107    6    0    0    0    0    0    0    0]\n",
      " [  47    4    0    0    0    0    0    0    0]\n",
      " [   8    1    0    0    0    0    0    0    0]\n",
      " [   5    0    0    0    0    0    0    0    0]\n",
      " [   1    0    0    0    0    0    0    0    0]\n",
      " [   1    0    0    0    0    0    0    0    0]\n",
      " [   1    0    0    0    0    0    0    0    0]]\n",
      "\n",
      "################## EPOCH with K=3 ##################\n",
      " Accuracy: 51.22%\n",
      " Avg cost: 0.00003\n",
      "\n",
      " Confusion Matrix:\n",
      " [[1215   29    0    0    0    0    0    0]\n",
      " [1012   66    0    0    0    0    0    0]\n",
      " [  93    6    0    0    0    0    0    0]\n",
      " [  45   11    0    0    0    0    0    0]\n",
      " [  10    2    0    0    0    0    0    0]\n",
      " [   3    1    0    0    0    0    0    0]\n",
      " [   6    0    0    0    0    0    0    0]\n",
      " [   2    0    0    0    0    0    0    0]]\n",
      "\n",
      "################## EPOCH with K=4 ##################\n",
      " Accuracy: 51.38%\n",
      " Avg cost: 0.00003\n",
      "\n",
      " Confusion Matrix:\n",
      " [[1209   48    0    0    0    0    0    0    0    0]\n",
      " [ 974   76    0    0    0    0    0    0    0    0]\n",
      " [ 112    9    0    0    0    0    0    0    0    0]\n",
      " [  43   13    0    0    0    0    0    0    0    0]\n",
      " [   6    0    0    0    0    0    0    0    0    0]\n",
      " [   4    0    0    0    0    0    0    0    0    0]\n",
      " [   2    2    0    0    0    0    0    0    0    0]\n",
      " [   0    1    0    0    0    0    0    0    0    0]\n",
      " [   1    0    0    0    0    0    0    0    0    0]\n",
      " [   1    0    0    0    0    0    0    0    0    0]]\n",
      "\n",
      "################## EPOCH with K=5 ##################\n",
      " Accuracy: 50.50%\n",
      " Avg cost: 0.00003\n",
      "\n",
      " Confusion Matrix:\n",
      " [[1247    4    0    0    0    0    0]\n",
      " [1053   16    0    0    0    0    0]\n",
      " [ 120    1    0    0    0    0    0]\n",
      " [  37    0    0    0    0    0    0]\n",
      " [  12    0    0    0    0    0    0]\n",
      " [   4    0    0    0    0    0    0]\n",
      " [   7    0    0    0    0    0    0]]\n",
      "\n",
      "################## EPOCH with K=6 ##################\n",
      " Accuracy: 51.30%\n",
      " Avg cost: 0.00003\n",
      "\n",
      " Confusion Matrix:\n",
      " [[1229   74    0    0    0    0    0    0]\n",
      " [ 958   54    0    0    0    0    0    0]\n",
      " [ 116    6    0    0    0    0    0    0]\n",
      " [  44    2    0    0    0    0    0    0]\n",
      " [   7    0    0    0    0    0    0    0]\n",
      " [   8    0    0    0    0    0    0    0]\n",
      " [   1    0    0    0    0    0    0    0]\n",
      " [   2    0    0    0    0    0    0    0]]\n",
      "\n",
      "################## EPOCH with K=7 ##################\n",
      " Accuracy: 50.66%\n",
      " Avg cost: 0.00003\n",
      "\n",
      " Confusion Matrix:\n",
      " [[1189   51    0    0    0    0    0    0    0]\n",
      " [ 989   78    0    0    0    0    0    0    0]\n",
      " [ 109   16    0    0    0    0    0    0    0]\n",
      " [  41    4    0    0    0    0    0    0    0]\n",
      " [  11    1    0    0    0    0    0    0    0]\n",
      " [   4    1    0    0    0    0    0    0    0]\n",
      " [   5    0    0    0    0    0    0    0    0]\n",
      " [   1    0    0    0    0    0    0    0    0]\n",
      " [   1    0    0    0    0    0    0    0    0]]\n",
      "\n",
      "################## EPOCH with K=8 ##################\n",
      " Accuracy: 49.94%\n",
      " Avg cost: 0.00003\n",
      "\n",
      " Confusion Matrix:\n",
      " [[1211   25    0    0    0    0    0    0]\n",
      " [1024   38    0    0    0    0    0    0]\n",
      " [ 121   10    0    0    0    0    0    0]\n",
      " [  43    8    0    0    0    0    0    0]\n",
      " [  12    0    0    0    0    0    0    0]\n",
      " [   6    0    0    0    0    0    0    0]\n",
      " [   2    0    0    0    0    0    0    0]\n",
      " [   0    1    0    0    0    0    0    0]]\n",
      "\n",
      "################## EPOCH with K=9 ##################\n",
      " Accuracy: 50.50%\n",
      " Avg cost: 0.00003\n",
      "\n",
      " Confusion Matrix:\n",
      " [[1192   57    0    0    0    0    0    0]\n",
      " [ 975   71    0    0    0    0    0    0]\n",
      " [ 114    9    0    0    0    0    0    0]\n",
      " [  52    7    0    0    0    0    0    0]\n",
      " [   6    3    0    0    0    0    0    0]\n",
      " [   9    0    0    0    0    0    0    0]\n",
      " [   4    1    0    0    0    0    0    0]\n",
      " [   1    0    0    0    0    0    0    0]]\n"
     ]
    }
   ],
   "source": [
    "historic_acc, historic_cost = kfold_cross_validation(\n",
    "    folded_data,\n",
    "    INPUT_LAYER_SIZE,\n",
    "    HIDDEN_LAYER_SIZE,\n",
    "    OUTPUT_LAYER_SIZE,\n",
    "    NUMBER_OF_ITERATIONS,\n",
    "    LEARNING_RATE,\n",
    "    NUMBER_OF_FOLDS\n",
    ")"
   ]
  },
  {
   "cell_type": "code",
   "execution_count": 24,
   "metadata": {},
   "outputs": [
    {
     "output_type": "stream",
     "name": "stdout",
     "text": [
      "Summary: \n\navg_acc: 50.56% std_acc: 0.70% median_acc: 50.58%\navg_cost: 0.00003 std_cost: 0.00003 median_cost: 0.00003\n"
     ]
    }
   ],
   "source": [
    "metric_summary(historic_acc,historic_cost)"
   ]
  },
  {
   "cell_type": "code",
   "execution_count": 25,
   "metadata": {},
   "outputs": [
    {
     "output_type": "display_data",
     "data": {
      "application/vnd.plotly.v1+json": {
       "config": {
        "plotlyServerURL": "https://plot.ly"
       },
       "data": [
        {
         "line": {
          "color": "rgb(0, 0, 200)",
          "width": 1
         },
         "mode": "lines+markers",
         "name": "AVG Train Cost",
         "textposition": "bottom center",
         "type": "scatter",
         "x": [
          0,
          50,
          100,
          150,
          200,
          250,
          300,
          350,
          400,
          450,
          500,
          550,
          600,
          650,
          700,
          750,
          800,
          850,
          900,
          950,
          1000
         ],
         "y": [
          0.00014743983411256778,
          0.00002691610175791178,
          0.000025891151538140424,
          0.000025605303015549335,
          0.000025477039254799495,
          0.000025404675616040675,
          0.000025357924722150003,
          0.00002532498235273987,
          0.000025300343852144378,
          0.000025281094826386453,
          0.00002526554359712393,
          0.000025252638396142737,
          0.000025241689747547565,
          0.000025232226327497998,
          0.00002522391484273851,
          0.00002521651295103581,
          0.000025209840289378954,
          0.000025203759938346174,
          0.000025198166165995993,
          0.000025192976093193975,
          0.000025188123887706842
         ]
        }
       ],
       "layout": {
        "font": {
         "color": "#7f7f7f",
         "family": "Courier New, monospace",
         "size": 14
        },
        "template": {
         "data": {
          "bar": [
           {
            "error_x": {
             "color": "#2a3f5f"
            },
            "error_y": {
             "color": "#2a3f5f"
            },
            "marker": {
             "line": {
              "color": "#E5ECF6",
              "width": 0.5
             }
            },
            "type": "bar"
           }
          ],
          "barpolar": [
           {
            "marker": {
             "line": {
              "color": "#E5ECF6",
              "width": 0.5
             }
            },
            "type": "barpolar"
           }
          ],
          "carpet": [
           {
            "aaxis": {
             "endlinecolor": "#2a3f5f",
             "gridcolor": "white",
             "linecolor": "white",
             "minorgridcolor": "white",
             "startlinecolor": "#2a3f5f"
            },
            "baxis": {
             "endlinecolor": "#2a3f5f",
             "gridcolor": "white",
             "linecolor": "white",
             "minorgridcolor": "white",
             "startlinecolor": "#2a3f5f"
            },
            "type": "carpet"
           }
          ],
          "choropleth": [
           {
            "colorbar": {
             "outlinewidth": 0,
             "ticks": ""
            },
            "type": "choropleth"
           }
          ],
          "contour": [
           {
            "colorbar": {
             "outlinewidth": 0,
             "ticks": ""
            },
            "colorscale": [
             [
              0,
              "#0d0887"
             ],
             [
              0.1111111111111111,
              "#46039f"
             ],
             [
              0.2222222222222222,
              "#7201a8"
             ],
             [
              0.3333333333333333,
              "#9c179e"
             ],
             [
              0.4444444444444444,
              "#bd3786"
             ],
             [
              0.5555555555555556,
              "#d8576b"
             ],
             [
              0.6666666666666666,
              "#ed7953"
             ],
             [
              0.7777777777777778,
              "#fb9f3a"
             ],
             [
              0.8888888888888888,
              "#fdca26"
             ],
             [
              1,
              "#f0f921"
             ]
            ],
            "type": "contour"
           }
          ],
          "contourcarpet": [
           {
            "colorbar": {
             "outlinewidth": 0,
             "ticks": ""
            },
            "type": "contourcarpet"
           }
          ],
          "heatmap": [
           {
            "colorbar": {
             "outlinewidth": 0,
             "ticks": ""
            },
            "colorscale": [
             [
              0,
              "#0d0887"
             ],
             [
              0.1111111111111111,
              "#46039f"
             ],
             [
              0.2222222222222222,
              "#7201a8"
             ],
             [
              0.3333333333333333,
              "#9c179e"
             ],
             [
              0.4444444444444444,
              "#bd3786"
             ],
             [
              0.5555555555555556,
              "#d8576b"
             ],
             [
              0.6666666666666666,
              "#ed7953"
             ],
             [
              0.7777777777777778,
              "#fb9f3a"
             ],
             [
              0.8888888888888888,
              "#fdca26"
             ],
             [
              1,
              "#f0f921"
             ]
            ],
            "type": "heatmap"
           }
          ],
          "heatmapgl": [
           {
            "colorbar": {
             "outlinewidth": 0,
             "ticks": ""
            },
            "colorscale": [
             [
              0,
              "#0d0887"
             ],
             [
              0.1111111111111111,
              "#46039f"
             ],
             [
              0.2222222222222222,
              "#7201a8"
             ],
             [
              0.3333333333333333,
              "#9c179e"
             ],
             [
              0.4444444444444444,
              "#bd3786"
             ],
             [
              0.5555555555555556,
              "#d8576b"
             ],
             [
              0.6666666666666666,
              "#ed7953"
             ],
             [
              0.7777777777777778,
              "#fb9f3a"
             ],
             [
              0.8888888888888888,
              "#fdca26"
             ],
             [
              1,
              "#f0f921"
             ]
            ],
            "type": "heatmapgl"
           }
          ],
          "histogram": [
           {
            "marker": {
             "colorbar": {
              "outlinewidth": 0,
              "ticks": ""
             }
            },
            "type": "histogram"
           }
          ],
          "histogram2d": [
           {
            "colorbar": {
             "outlinewidth": 0,
             "ticks": ""
            },
            "colorscale": [
             [
              0,
              "#0d0887"
             ],
             [
              0.1111111111111111,
              "#46039f"
             ],
             [
              0.2222222222222222,
              "#7201a8"
             ],
             [
              0.3333333333333333,
              "#9c179e"
             ],
             [
              0.4444444444444444,
              "#bd3786"
             ],
             [
              0.5555555555555556,
              "#d8576b"
             ],
             [
              0.6666666666666666,
              "#ed7953"
             ],
             [
              0.7777777777777778,
              "#fb9f3a"
             ],
             [
              0.8888888888888888,
              "#fdca26"
             ],
             [
              1,
              "#f0f921"
             ]
            ],
            "type": "histogram2d"
           }
          ],
          "histogram2dcontour": [
           {
            "colorbar": {
             "outlinewidth": 0,
             "ticks": ""
            },
            "colorscale": [
             [
              0,
              "#0d0887"
             ],
             [
              0.1111111111111111,
              "#46039f"
             ],
             [
              0.2222222222222222,
              "#7201a8"
             ],
             [
              0.3333333333333333,
              "#9c179e"
             ],
             [
              0.4444444444444444,
              "#bd3786"
             ],
             [
              0.5555555555555556,
              "#d8576b"
             ],
             [
              0.6666666666666666,
              "#ed7953"
             ],
             [
              0.7777777777777778,
              "#fb9f3a"
             ],
             [
              0.8888888888888888,
              "#fdca26"
             ],
             [
              1,
              "#f0f921"
             ]
            ],
            "type": "histogram2dcontour"
           }
          ],
          "mesh3d": [
           {
            "colorbar": {
             "outlinewidth": 0,
             "ticks": ""
            },
            "type": "mesh3d"
           }
          ],
          "parcoords": [
           {
            "line": {
             "colorbar": {
              "outlinewidth": 0,
              "ticks": ""
             }
            },
            "type": "parcoords"
           }
          ],
          "pie": [
           {
            "automargin": true,
            "type": "pie"
           }
          ],
          "scatter": [
           {
            "marker": {
             "colorbar": {
              "outlinewidth": 0,
              "ticks": ""
             }
            },
            "type": "scatter"
           }
          ],
          "scatter3d": [
           {
            "line": {
             "colorbar": {
              "outlinewidth": 0,
              "ticks": ""
             }
            },
            "marker": {
             "colorbar": {
              "outlinewidth": 0,
              "ticks": ""
             }
            },
            "type": "scatter3d"
           }
          ],
          "scattercarpet": [
           {
            "marker": {
             "colorbar": {
              "outlinewidth": 0,
              "ticks": ""
             }
            },
            "type": "scattercarpet"
           }
          ],
          "scattergeo": [
           {
            "marker": {
             "colorbar": {
              "outlinewidth": 0,
              "ticks": ""
             }
            },
            "type": "scattergeo"
           }
          ],
          "scattergl": [
           {
            "marker": {
             "colorbar": {
              "outlinewidth": 0,
              "ticks": ""
             }
            },
            "type": "scattergl"
           }
          ],
          "scattermapbox": [
           {
            "marker": {
             "colorbar": {
              "outlinewidth": 0,
              "ticks": ""
             }
            },
            "type": "scattermapbox"
           }
          ],
          "scatterpolar": [
           {
            "marker": {
             "colorbar": {
              "outlinewidth": 0,
              "ticks": ""
             }
            },
            "type": "scatterpolar"
           }
          ],
          "scatterpolargl": [
           {
            "marker": {
             "colorbar": {
              "outlinewidth": 0,
              "ticks": ""
             }
            },
            "type": "scatterpolargl"
           }
          ],
          "scatterternary": [
           {
            "marker": {
             "colorbar": {
              "outlinewidth": 0,
              "ticks": ""
             }
            },
            "type": "scatterternary"
           }
          ],
          "surface": [
           {
            "colorbar": {
             "outlinewidth": 0,
             "ticks": ""
            },
            "colorscale": [
             [
              0,
              "#0d0887"
             ],
             [
              0.1111111111111111,
              "#46039f"
             ],
             [
              0.2222222222222222,
              "#7201a8"
             ],
             [
              0.3333333333333333,
              "#9c179e"
             ],
             [
              0.4444444444444444,
              "#bd3786"
             ],
             [
              0.5555555555555556,
              "#d8576b"
             ],
             [
              0.6666666666666666,
              "#ed7953"
             ],
             [
              0.7777777777777778,
              "#fb9f3a"
             ],
             [
              0.8888888888888888,
              "#fdca26"
             ],
             [
              1,
              "#f0f921"
             ]
            ],
            "type": "surface"
           }
          ],
          "table": [
           {
            "cells": {
             "fill": {
              "color": "#EBF0F8"
             },
             "line": {
              "color": "white"
             }
            },
            "header": {
             "fill": {
              "color": "#C8D4E3"
             },
             "line": {
              "color": "white"
             }
            },
            "type": "table"
           }
          ]
         },
         "layout": {
          "annotationdefaults": {
           "arrowcolor": "#2a3f5f",
           "arrowhead": 0,
           "arrowwidth": 1
          },
          "coloraxis": {
           "colorbar": {
            "outlinewidth": 0,
            "ticks": ""
           }
          },
          "colorscale": {
           "diverging": [
            [
             0,
             "#8e0152"
            ],
            [
             0.1,
             "#c51b7d"
            ],
            [
             0.2,
             "#de77ae"
            ],
            [
             0.3,
             "#f1b6da"
            ],
            [
             0.4,
             "#fde0ef"
            ],
            [
             0.5,
             "#f7f7f7"
            ],
            [
             0.6,
             "#e6f5d0"
            ],
            [
             0.7,
             "#b8e186"
            ],
            [
             0.8,
             "#7fbc41"
            ],
            [
             0.9,
             "#4d9221"
            ],
            [
             1,
             "#276419"
            ]
           ],
           "sequential": [
            [
             0,
             "#0d0887"
            ],
            [
             0.1111111111111111,
             "#46039f"
            ],
            [
             0.2222222222222222,
             "#7201a8"
            ],
            [
             0.3333333333333333,
             "#9c179e"
            ],
            [
             0.4444444444444444,
             "#bd3786"
            ],
            [
             0.5555555555555556,
             "#d8576b"
            ],
            [
             0.6666666666666666,
             "#ed7953"
            ],
            [
             0.7777777777777778,
             "#fb9f3a"
            ],
            [
             0.8888888888888888,
             "#fdca26"
            ],
            [
             1,
             "#f0f921"
            ]
           ],
           "sequentialminus": [
            [
             0,
             "#0d0887"
            ],
            [
             0.1111111111111111,
             "#46039f"
            ],
            [
             0.2222222222222222,
             "#7201a8"
            ],
            [
             0.3333333333333333,
             "#9c179e"
            ],
            [
             0.4444444444444444,
             "#bd3786"
            ],
            [
             0.5555555555555556,
             "#d8576b"
            ],
            [
             0.6666666666666666,
             "#ed7953"
            ],
            [
             0.7777777777777778,
             "#fb9f3a"
            ],
            [
             0.8888888888888888,
             "#fdca26"
            ],
            [
             1,
             "#f0f921"
            ]
           ]
          },
          "colorway": [
           "#636efa",
           "#EF553B",
           "#00cc96",
           "#ab63fa",
           "#FFA15A",
           "#19d3f3",
           "#FF6692",
           "#B6E880",
           "#FF97FF",
           "#FECB52"
          ],
          "font": {
           "color": "#2a3f5f"
          },
          "geo": {
           "bgcolor": "white",
           "lakecolor": "white",
           "landcolor": "#E5ECF6",
           "showlakes": true,
           "showland": true,
           "subunitcolor": "white"
          },
          "hoverlabel": {
           "align": "left"
          },
          "hovermode": "closest",
          "mapbox": {
           "style": "light"
          },
          "paper_bgcolor": "white",
          "plot_bgcolor": "#E5ECF6",
          "polar": {
           "angularaxis": {
            "gridcolor": "white",
            "linecolor": "white",
            "ticks": ""
           },
           "bgcolor": "#E5ECF6",
           "radialaxis": {
            "gridcolor": "white",
            "linecolor": "white",
            "ticks": ""
           }
          },
          "scene": {
           "xaxis": {
            "backgroundcolor": "#E5ECF6",
            "gridcolor": "white",
            "gridwidth": 2,
            "linecolor": "white",
            "showbackground": true,
            "ticks": "",
            "zerolinecolor": "white"
           },
           "yaxis": {
            "backgroundcolor": "#E5ECF6",
            "gridcolor": "white",
            "gridwidth": 2,
            "linecolor": "white",
            "showbackground": true,
            "ticks": "",
            "zerolinecolor": "white"
           },
           "zaxis": {
            "backgroundcolor": "#E5ECF6",
            "gridcolor": "white",
            "gridwidth": 2,
            "linecolor": "white",
            "showbackground": true,
            "ticks": "",
            "zerolinecolor": "white"
           }
          },
          "shapedefaults": {
           "line": {
            "color": "#2a3f5f"
           }
          },
          "ternary": {
           "aaxis": {
            "gridcolor": "white",
            "linecolor": "white",
            "ticks": ""
           },
           "baxis": {
            "gridcolor": "white",
            "linecolor": "white",
            "ticks": ""
           },
           "bgcolor": "#E5ECF6",
           "caxis": {
            "gridcolor": "white",
            "linecolor": "white",
            "ticks": ""
           }
          },
          "title": {
           "x": 0.05
          },
          "xaxis": {
           "automargin": true,
           "gridcolor": "white",
           "linecolor": "white",
           "ticks": "",
           "title": {
            "standoff": 15
           },
           "zerolinecolor": "white",
           "zerolinewidth": 2
          },
          "yaxis": {
           "automargin": true,
           "gridcolor": "white",
           "linecolor": "white",
           "ticks": "",
           "title": {
            "standoff": 15
           },
           "zerolinecolor": "white",
           "zerolinewidth": 2
          }
         }
        },
        "title": {
         "text": "Cost chart"
        },
        "xaxis": {
         "title": {
          "text": "Number of Iterations"
         }
        },
        "yaxis": {
         "tickformat": ".5f",
         "title": {
          "text": "Avg Cost"
         }
        }
       }
      }
     },
     "metadata": {}
    }
   ],
   "source": [
    "f = create_figure()\n",
    "plot_figure(f, np.mean(historic_cost,axis=0))"
   ]
  },
  {
   "source": [
    "*   ### Experiment #2\n",
    "    *   Increasing `HIDDEN_LAYER_SIZE` from `10` to `50`.\n",
    "    *   Reducing `NUMBER_OF_FOLDS` from `10` to `5`.\n",
    "    *   Increasing `LEARNING_RATE` from `0.1` to `1`."
   ],
   "cell_type": "markdown",
   "metadata": {}
  },
  {
   "cell_type": "code",
   "execution_count": 31,
   "metadata": {},
   "outputs": [],
   "source": [
    "HIDDEN_LAYER_SIZE = 50\n",
    "NUMBER_OF_FOLDS = 5\n",
    "LEARNING_RATE = 1"
   ]
  },
  {
   "cell_type": "code",
   "execution_count": 32,
   "metadata": {},
   "outputs": [
    {
     "output_type": "stream",
     "name": "stdout",
     "text": [
      "Model parameters:\n",
      "\n",
      " input_layer_size: 10 | hidden_layer_size: 50 | output_layer_size: 10\n",
      " number_of_iterations: 1000 | learning_rate: 1 | number_of_folds: 5\n",
      "\n",
      "################## EPOCH with K=0 ##################\n",
      " Accuracy: 44.98%\n",
      " Avg cost: 0.00007\n",
      "\n",
      " Confusion Matrix:\n",
      " [[ 149 1104    0    0    0    0    0    0    0]\n",
      " [  74  976    0    0    0    0    0    0    0]\n",
      " [  12  121    0    0    0    0    0    0    0]\n",
      " [   0   49    0    0    0    0    0    0    0]\n",
      " [   0    8    0    0    0    0    0    0    0]\n",
      " [   0    3    0    0    0    0    0    0    0]\n",
      " [   0    3    0    0    0    0    0    0    0]\n",
      " [   0    1    0    0    0    0    0    0    0]\n",
      " [   0    1    0    0    0    0    0    0    0]]\n",
      "\n",
      "################## EPOCH with K=1 ##################\n",
      " Accuracy: 48.82%\n",
      " Avg cost: 0.00009\n",
      "\n",
      " Confusion Matrix:\n",
      " [[1173   21    0    0    0    0    0    0]\n",
      " [1063   48    0    0    0    0    0    0]\n",
      " [ 104   14    0    0    0    0    0    0]\n",
      " [  54    9    0    0    0    0    0    0]\n",
      " [   6    0    0    0    0    0    0    0]\n",
      " [   6    0    0    0    0    0    0    0]\n",
      " [   1    1    0    0    0    0    0    0]\n",
      " [   1    0    0    0    0    0    0    0]]\n",
      "\n",
      "################## EPOCH with K=2 ##################\n",
      " Accuracy: 54.30%\n",
      " Avg cost: 0.00007\n",
      "\n",
      " Confusion Matrix:\n",
      " [[848 418   0   0   0   0   0   0   0]\n",
      " [544 510   0   0   0   0   0   0   0]\n",
      " [ 48  65   0   0   0   0   0   0   0]\n",
      " [ 16  35   0   0   0   0   0   0   0]\n",
      " [  3   6   0   0   0   0   0   0   0]\n",
      " [  4   1   0   0   0   0   0   0   0]\n",
      " [  1   0   0   0   0   0   0   0   0]\n",
      " [  0   1   0   0   0   0   0   0   0]\n",
      " [  0   1   0   0   0   0   0   0   0]]\n",
      "\n",
      "################## EPOCH with K=3 ##################\n",
      " Accuracy: 51.54%\n",
      " Avg cost: 0.00010\n",
      "\n",
      " Confusion Matrix:\n",
      " [[1226   18    0    0    0    0    0    0]\n",
      " [1015   63    0    0    0    0    0    0]\n",
      " [  95    4    0    0    0    0    0    0]\n",
      " [  41   15    0    0    0    0    0    0]\n",
      " [  10    2    0    0    0    0    0    0]\n",
      " [   2    2    0    0    0    0    0    0]\n",
      " [   6    0    0    0    0    0    0    0]\n",
      " [   2    0    0    0    0    0    0    0]]\n",
      "\n",
      "################## EPOCH with K=4 ##################\n",
      " Accuracy: 51.86%\n",
      " Avg cost: 0.00008\n",
      "\n",
      " Confusion Matrix:\n",
      " [[1210   47    0    0    0    0    0    0    0    0]\n",
      " [ 963   87    0    0    0    0    0    0    0    0]\n",
      " [ 108   13    0    0    0    0    0    0    0    0]\n",
      " [  40   16    0    0    0    0    0    0    0    0]\n",
      " [   4    2    0    0    0    0    0    0    0    0]\n",
      " [   4    0    0    0    0    0    0    0    0    0]\n",
      " [   1    3    0    0    0    0    0    0    0    0]\n",
      " [   0    1    0    0    0    0    0    0    0    0]\n",
      " [   0    1    0    0    0    0    0    0    0    0]\n",
      " [   1    0    0    0    0    0    0    0    0    0]]\n"
     ]
    }
   ],
   "source": [
    "historic_acc, historic_cost = kfold_cross_validation(\n",
    "    folded_data,\n",
    "    INPUT_LAYER_SIZE,\n",
    "    HIDDEN_LAYER_SIZE,\n",
    "    OUTPUT_LAYER_SIZE,\n",
    "    NUMBER_OF_ITERATIONS,\n",
    "    LEARNING_RATE,\n",
    "    NUMBER_OF_FOLDS\n",
    ")"
   ]
  },
  {
   "cell_type": "code",
   "execution_count": 33,
   "metadata": {},
   "outputs": [
    {
     "output_type": "stream",
     "name": "stdout",
     "text": [
      "Summary: \n\navg_acc: 50.30% std_acc: 3.18% median_acc: 51.54%\navg_cost: 0.00008 std_cost: 0.00007 median_cost: 0.00006\n"
     ]
    }
   ],
   "source": [
    "metric_summary(historic_acc,historic_cost)"
   ]
  },
  {
   "cell_type": "code",
   "execution_count": 34,
   "metadata": {},
   "outputs": [
    {
     "output_type": "display_data",
     "data": {
      "application/vnd.plotly.v1+json": {
       "config": {
        "plotlyServerURL": "https://plot.ly"
       },
       "data": [
        {
         "line": {
          "color": "rgb(0, 0, 200)",
          "width": 1
         },
         "mode": "lines+markers",
         "name": "AVG Train Cost",
         "textposition": "bottom center",
         "type": "scatter",
         "x": [
          0,
          50,
          100,
          150,
          200,
          250,
          300,
          350,
          400,
          450,
          500,
          550,
          600,
          650,
          700,
          750,
          800,
          850,
          900,
          950,
          1000
         ],
         "y": [
          0.00038430692877800687,
          0.00009393852492279803,
          0.00008479319006544813,
          0.00008124390470633395,
          0.0000755035481751251,
          0.00007428807047468784,
          0.0000707937430132353,
          0.00006764864173973446,
          0.00006840104044011023,
          0.00006626294243240681,
          0.00006542008057431245,
          0.00006476865371610498,
          0.00006220191962009596,
          0.0000621407808444054,
          0.00006030385417754242,
          0.00005949456753456358,
          0.000058883481024354346,
          0.00005833241826143916,
          0.000058913634736517514,
          0.00005799293143344108,
          0.00005823632714263934
         ]
        }
       ],
       "layout": {
        "font": {
         "color": "#7f7f7f",
         "family": "Courier New, monospace",
         "size": 14
        },
        "template": {
         "data": {
          "bar": [
           {
            "error_x": {
             "color": "#2a3f5f"
            },
            "error_y": {
             "color": "#2a3f5f"
            },
            "marker": {
             "line": {
              "color": "#E5ECF6",
              "width": 0.5
             }
            },
            "type": "bar"
           }
          ],
          "barpolar": [
           {
            "marker": {
             "line": {
              "color": "#E5ECF6",
              "width": 0.5
             }
            },
            "type": "barpolar"
           }
          ],
          "carpet": [
           {
            "aaxis": {
             "endlinecolor": "#2a3f5f",
             "gridcolor": "white",
             "linecolor": "white",
             "minorgridcolor": "white",
             "startlinecolor": "#2a3f5f"
            },
            "baxis": {
             "endlinecolor": "#2a3f5f",
             "gridcolor": "white",
             "linecolor": "white",
             "minorgridcolor": "white",
             "startlinecolor": "#2a3f5f"
            },
            "type": "carpet"
           }
          ],
          "choropleth": [
           {
            "colorbar": {
             "outlinewidth": 0,
             "ticks": ""
            },
            "type": "choropleth"
           }
          ],
          "contour": [
           {
            "colorbar": {
             "outlinewidth": 0,
             "ticks": ""
            },
            "colorscale": [
             [
              0,
              "#0d0887"
             ],
             [
              0.1111111111111111,
              "#46039f"
             ],
             [
              0.2222222222222222,
              "#7201a8"
             ],
             [
              0.3333333333333333,
              "#9c179e"
             ],
             [
              0.4444444444444444,
              "#bd3786"
             ],
             [
              0.5555555555555556,
              "#d8576b"
             ],
             [
              0.6666666666666666,
              "#ed7953"
             ],
             [
              0.7777777777777778,
              "#fb9f3a"
             ],
             [
              0.8888888888888888,
              "#fdca26"
             ],
             [
              1,
              "#f0f921"
             ]
            ],
            "type": "contour"
           }
          ],
          "contourcarpet": [
           {
            "colorbar": {
             "outlinewidth": 0,
             "ticks": ""
            },
            "type": "contourcarpet"
           }
          ],
          "heatmap": [
           {
            "colorbar": {
             "outlinewidth": 0,
             "ticks": ""
            },
            "colorscale": [
             [
              0,
              "#0d0887"
             ],
             [
              0.1111111111111111,
              "#46039f"
             ],
             [
              0.2222222222222222,
              "#7201a8"
             ],
             [
              0.3333333333333333,
              "#9c179e"
             ],
             [
              0.4444444444444444,
              "#bd3786"
             ],
             [
              0.5555555555555556,
              "#d8576b"
             ],
             [
              0.6666666666666666,
              "#ed7953"
             ],
             [
              0.7777777777777778,
              "#fb9f3a"
             ],
             [
              0.8888888888888888,
              "#fdca26"
             ],
             [
              1,
              "#f0f921"
             ]
            ],
            "type": "heatmap"
           }
          ],
          "heatmapgl": [
           {
            "colorbar": {
             "outlinewidth": 0,
             "ticks": ""
            },
            "colorscale": [
             [
              0,
              "#0d0887"
             ],
             [
              0.1111111111111111,
              "#46039f"
             ],
             [
              0.2222222222222222,
              "#7201a8"
             ],
             [
              0.3333333333333333,
              "#9c179e"
             ],
             [
              0.4444444444444444,
              "#bd3786"
             ],
             [
              0.5555555555555556,
              "#d8576b"
             ],
             [
              0.6666666666666666,
              "#ed7953"
             ],
             [
              0.7777777777777778,
              "#fb9f3a"
             ],
             [
              0.8888888888888888,
              "#fdca26"
             ],
             [
              1,
              "#f0f921"
             ]
            ],
            "type": "heatmapgl"
           }
          ],
          "histogram": [
           {
            "marker": {
             "colorbar": {
              "outlinewidth": 0,
              "ticks": ""
             }
            },
            "type": "histogram"
           }
          ],
          "histogram2d": [
           {
            "colorbar": {
             "outlinewidth": 0,
             "ticks": ""
            },
            "colorscale": [
             [
              0,
              "#0d0887"
             ],
             [
              0.1111111111111111,
              "#46039f"
             ],
             [
              0.2222222222222222,
              "#7201a8"
             ],
             [
              0.3333333333333333,
              "#9c179e"
             ],
             [
              0.4444444444444444,
              "#bd3786"
             ],
             [
              0.5555555555555556,
              "#d8576b"
             ],
             [
              0.6666666666666666,
              "#ed7953"
             ],
             [
              0.7777777777777778,
              "#fb9f3a"
             ],
             [
              0.8888888888888888,
              "#fdca26"
             ],
             [
              1,
              "#f0f921"
             ]
            ],
            "type": "histogram2d"
           }
          ],
          "histogram2dcontour": [
           {
            "colorbar": {
             "outlinewidth": 0,
             "ticks": ""
            },
            "colorscale": [
             [
              0,
              "#0d0887"
             ],
             [
              0.1111111111111111,
              "#46039f"
             ],
             [
              0.2222222222222222,
              "#7201a8"
             ],
             [
              0.3333333333333333,
              "#9c179e"
             ],
             [
              0.4444444444444444,
              "#bd3786"
             ],
             [
              0.5555555555555556,
              "#d8576b"
             ],
             [
              0.6666666666666666,
              "#ed7953"
             ],
             [
              0.7777777777777778,
              "#fb9f3a"
             ],
             [
              0.8888888888888888,
              "#fdca26"
             ],
             [
              1,
              "#f0f921"
             ]
            ],
            "type": "histogram2dcontour"
           }
          ],
          "mesh3d": [
           {
            "colorbar": {
             "outlinewidth": 0,
             "ticks": ""
            },
            "type": "mesh3d"
           }
          ],
          "parcoords": [
           {
            "line": {
             "colorbar": {
              "outlinewidth": 0,
              "ticks": ""
             }
            },
            "type": "parcoords"
           }
          ],
          "pie": [
           {
            "automargin": true,
            "type": "pie"
           }
          ],
          "scatter": [
           {
            "marker": {
             "colorbar": {
              "outlinewidth": 0,
              "ticks": ""
             }
            },
            "type": "scatter"
           }
          ],
          "scatter3d": [
           {
            "line": {
             "colorbar": {
              "outlinewidth": 0,
              "ticks": ""
             }
            },
            "marker": {
             "colorbar": {
              "outlinewidth": 0,
              "ticks": ""
             }
            },
            "type": "scatter3d"
           }
          ],
          "scattercarpet": [
           {
            "marker": {
             "colorbar": {
              "outlinewidth": 0,
              "ticks": ""
             }
            },
            "type": "scattercarpet"
           }
          ],
          "scattergeo": [
           {
            "marker": {
             "colorbar": {
              "outlinewidth": 0,
              "ticks": ""
             }
            },
            "type": "scattergeo"
           }
          ],
          "scattergl": [
           {
            "marker": {
             "colorbar": {
              "outlinewidth": 0,
              "ticks": ""
             }
            },
            "type": "scattergl"
           }
          ],
          "scattermapbox": [
           {
            "marker": {
             "colorbar": {
              "outlinewidth": 0,
              "ticks": ""
             }
            },
            "type": "scattermapbox"
           }
          ],
          "scatterpolar": [
           {
            "marker": {
             "colorbar": {
              "outlinewidth": 0,
              "ticks": ""
             }
            },
            "type": "scatterpolar"
           }
          ],
          "scatterpolargl": [
           {
            "marker": {
             "colorbar": {
              "outlinewidth": 0,
              "ticks": ""
             }
            },
            "type": "scatterpolargl"
           }
          ],
          "scatterternary": [
           {
            "marker": {
             "colorbar": {
              "outlinewidth": 0,
              "ticks": ""
             }
            },
            "type": "scatterternary"
           }
          ],
          "surface": [
           {
            "colorbar": {
             "outlinewidth": 0,
             "ticks": ""
            },
            "colorscale": [
             [
              0,
              "#0d0887"
             ],
             [
              0.1111111111111111,
              "#46039f"
             ],
             [
              0.2222222222222222,
              "#7201a8"
             ],
             [
              0.3333333333333333,
              "#9c179e"
             ],
             [
              0.4444444444444444,
              "#bd3786"
             ],
             [
              0.5555555555555556,
              "#d8576b"
             ],
             [
              0.6666666666666666,
              "#ed7953"
             ],
             [
              0.7777777777777778,
              "#fb9f3a"
             ],
             [
              0.8888888888888888,
              "#fdca26"
             ],
             [
              1,
              "#f0f921"
             ]
            ],
            "type": "surface"
           }
          ],
          "table": [
           {
            "cells": {
             "fill": {
              "color": "#EBF0F8"
             },
             "line": {
              "color": "white"
             }
            },
            "header": {
             "fill": {
              "color": "#C8D4E3"
             },
             "line": {
              "color": "white"
             }
            },
            "type": "table"
           }
          ]
         },
         "layout": {
          "annotationdefaults": {
           "arrowcolor": "#2a3f5f",
           "arrowhead": 0,
           "arrowwidth": 1
          },
          "coloraxis": {
           "colorbar": {
            "outlinewidth": 0,
            "ticks": ""
           }
          },
          "colorscale": {
           "diverging": [
            [
             0,
             "#8e0152"
            ],
            [
             0.1,
             "#c51b7d"
            ],
            [
             0.2,
             "#de77ae"
            ],
            [
             0.3,
             "#f1b6da"
            ],
            [
             0.4,
             "#fde0ef"
            ],
            [
             0.5,
             "#f7f7f7"
            ],
            [
             0.6,
             "#e6f5d0"
            ],
            [
             0.7,
             "#b8e186"
            ],
            [
             0.8,
             "#7fbc41"
            ],
            [
             0.9,
             "#4d9221"
            ],
            [
             1,
             "#276419"
            ]
           ],
           "sequential": [
            [
             0,
             "#0d0887"
            ],
            [
             0.1111111111111111,
             "#46039f"
            ],
            [
             0.2222222222222222,
             "#7201a8"
            ],
            [
             0.3333333333333333,
             "#9c179e"
            ],
            [
             0.4444444444444444,
             "#bd3786"
            ],
            [
             0.5555555555555556,
             "#d8576b"
            ],
            [
             0.6666666666666666,
             "#ed7953"
            ],
            [
             0.7777777777777778,
             "#fb9f3a"
            ],
            [
             0.8888888888888888,
             "#fdca26"
            ],
            [
             1,
             "#f0f921"
            ]
           ],
           "sequentialminus": [
            [
             0,
             "#0d0887"
            ],
            [
             0.1111111111111111,
             "#46039f"
            ],
            [
             0.2222222222222222,
             "#7201a8"
            ],
            [
             0.3333333333333333,
             "#9c179e"
            ],
            [
             0.4444444444444444,
             "#bd3786"
            ],
            [
             0.5555555555555556,
             "#d8576b"
            ],
            [
             0.6666666666666666,
             "#ed7953"
            ],
            [
             0.7777777777777778,
             "#fb9f3a"
            ],
            [
             0.8888888888888888,
             "#fdca26"
            ],
            [
             1,
             "#f0f921"
            ]
           ]
          },
          "colorway": [
           "#636efa",
           "#EF553B",
           "#00cc96",
           "#ab63fa",
           "#FFA15A",
           "#19d3f3",
           "#FF6692",
           "#B6E880",
           "#FF97FF",
           "#FECB52"
          ],
          "font": {
           "color": "#2a3f5f"
          },
          "geo": {
           "bgcolor": "white",
           "lakecolor": "white",
           "landcolor": "#E5ECF6",
           "showlakes": true,
           "showland": true,
           "subunitcolor": "white"
          },
          "hoverlabel": {
           "align": "left"
          },
          "hovermode": "closest",
          "mapbox": {
           "style": "light"
          },
          "paper_bgcolor": "white",
          "plot_bgcolor": "#E5ECF6",
          "polar": {
           "angularaxis": {
            "gridcolor": "white",
            "linecolor": "white",
            "ticks": ""
           },
           "bgcolor": "#E5ECF6",
           "radialaxis": {
            "gridcolor": "white",
            "linecolor": "white",
            "ticks": ""
           }
          },
          "scene": {
           "xaxis": {
            "backgroundcolor": "#E5ECF6",
            "gridcolor": "white",
            "gridwidth": 2,
            "linecolor": "white",
            "showbackground": true,
            "ticks": "",
            "zerolinecolor": "white"
           },
           "yaxis": {
            "backgroundcolor": "#E5ECF6",
            "gridcolor": "white",
            "gridwidth": 2,
            "linecolor": "white",
            "showbackground": true,
            "ticks": "",
            "zerolinecolor": "white"
           },
           "zaxis": {
            "backgroundcolor": "#E5ECF6",
            "gridcolor": "white",
            "gridwidth": 2,
            "linecolor": "white",
            "showbackground": true,
            "ticks": "",
            "zerolinecolor": "white"
           }
          },
          "shapedefaults": {
           "line": {
            "color": "#2a3f5f"
           }
          },
          "ternary": {
           "aaxis": {
            "gridcolor": "white",
            "linecolor": "white",
            "ticks": ""
           },
           "baxis": {
            "gridcolor": "white",
            "linecolor": "white",
            "ticks": ""
           },
           "bgcolor": "#E5ECF6",
           "caxis": {
            "gridcolor": "white",
            "linecolor": "white",
            "ticks": ""
           }
          },
          "title": {
           "x": 0.05
          },
          "xaxis": {
           "automargin": true,
           "gridcolor": "white",
           "linecolor": "white",
           "ticks": "",
           "title": {
            "standoff": 15
           },
           "zerolinecolor": "white",
           "zerolinewidth": 2
          },
          "yaxis": {
           "automargin": true,
           "gridcolor": "white",
           "linecolor": "white",
           "ticks": "",
           "title": {
            "standoff": 15
           },
           "zerolinecolor": "white",
           "zerolinewidth": 2
          }
         }
        },
        "title": {
         "text": "Cost chart"
        },
        "xaxis": {
         "title": {
          "text": "Number of Iterations"
         }
        },
        "yaxis": {
         "tickformat": ".5f",
         "title": {
          "text": "Avg Cost"
         }
        }
       }
      }
     },
     "metadata": {}
    }
   ],
   "source": [
    "f = create_figure()\n",
    "plot_figure(f, np.mean(historic_cost,axis=0))"
   ]
  },
  {
   "source": [
    "# Result Analysis"
   ],
   "cell_type": "markdown",
   "metadata": {}
  },
  {
   "source": [
    "* ### Handwritten Digit Results\n",
    "\n",
    "The first experiment achieved an `avg_acc` of 84.74% using the following parameters for the construction of the model:\n",
    "  \n",
    "  * LEARNING_RATE = 0.1\n",
    "  * NUMBER_OF_ITERATIONS = 1000\n",
    "  * HIDDEN_LAYER_SIZE = 10\n",
    "  * INPUT_LAYER_SIZE = 10\n",
    "  * OUTPUT_LAYER_SIZE = 10\n",
    "  * NUMBER_OF_FOLDS = 10\n",
    "\n",
    "On the second experiment we achieved an `avg_acc` of 94.26% by changing the following parameters:\n",
    "  * HIDDEN_LAYER_SIZE = 50\n",
    "  * NUMBER_OF_FOLDS = 5\n",
    "\n",
    "By increasing the number of HIDDEN_LAYER_SIZE we also increase the amount of knowledge we can represent ans store. By decreasing the NUMBER_OF_FOLDS the probability of a fold having little to no examples of a class is lowered. Eventhough the probability of such occurrence is lower in a well balanced dataset it still exists. \n",
    "\n",
    "\n",
    "* ### Poker Hand Results\n",
    "\n",
    "For these experiments we did not notice significant changes in modifying model parameters, this is because the results are entirely biased by the weight of the classes (class distribution) and this factor will be present for any model structure that is defined. This phenomenon is easy to observe in the `confusion matrix` on any of the `EPOCHS`:\n",
    "\n",
    "```python \n",
    "  [[1173   21    0    0    0    0    0    0]\n",
    "  [1063   48    0    0    0    0    0    0]\n",
    "  [ 104   14    0    0    0    0    0    0]\n",
    "  [  54    9    0    0    0    0    0    0]\n",
    "  [   6    0    0    0    0    0    0    0]\n",
    "  [   6    0    0    0    0    0    0    0]\n",
    "  [   1    1    0    0    0    0    0    0]\n",
    "  [   1    0    0    0    0    0    0    0]]\n",
    "\n",
    "```\n",
    "\n",
    "In the previous metric we can notice that only the first two classes are being taken into account by the model, this is because the models' cost function is pondering in the same way all the errors no matter which class they belong to.\n",
    "  "
   ],
   "cell_type": "markdown",
   "metadata": {}
  },
  {
   "source": [
    "# Future Strategies\n",
    "*   Explore more complex model structures (more hidden layers, different activation functions, different cost functions).\n",
    "*   Explore different strategies for class weighting (for extremely unbalanced datasets).\n",
    "*   Add metrics like `RECALL`, `F1`.\n",
    "*   Explore different options for output functions (`SOFTMAX`)."
   ],
   "cell_type": "markdown",
   "metadata": {}
  },
  {
   "source": [],
   "cell_type": "markdown",
   "metadata": {}
  }
 ]
}