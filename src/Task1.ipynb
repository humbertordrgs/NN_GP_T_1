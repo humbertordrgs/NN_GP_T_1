{
 "metadata": {
  "language_info": {
   "codemirror_mode": {
    "name": "ipython",
    "version": 3
   },
   "file_extension": ".py",
   "mimetype": "text/x-python",
   "name": "python",
   "nbconvert_exporter": "python",
   "pygments_lexer": "ipython3",
   "version": "3.8.3-final"
  },
  "orig_nbformat": 2,
  "kernelspec": {
   "name": "python3",
   "display_name": "Python 3"
  }
 },
 "nbformat": 4,
 "nbformat_minor": 2,
 "cells": [
  {
   "cell_type": "code",
   "execution_count": 1,
   "metadata": {},
   "outputs": [
    {
     "output_type": "stream",
     "name": "stdout",
     "text": [
      "Requirement already satisfied: plotly in /home/humberto/anaconda3/lib/python3.8/site-packages (4.11.0)\nRequirement already satisfied: retrying>=1.3.3 in /home/humberto/anaconda3/lib/python3.8/site-packages (from plotly) (1.3.3)\nRequirement already satisfied: six in /home/humberto/anaconda3/lib/python3.8/site-packages (from plotly) (1.15.0)\n"
     ]
    }
   ],
   "source": [
    "!pip install plotly"
   ]
  },
  {
   "cell_type": "code",
   "execution_count": 2,
   "metadata": {},
   "outputs": [],
   "source": [
    "import numpy as np\n",
    "from sklearn.metrics import confusion_matrix\n",
    "from utils.charts import create_figure, plot_figure\n",
    "from utils.data import load_dataset, one_hot, fold_data, normalization, explore_data\n",
    "from utils.NeuralNetwork import model, predict"
   ]
  },
  {
   "cell_type": "code",
   "execution_count": 3,
   "metadata": {},
   "outputs": [],
   "source": [
    "x_data,y_data = load_dataset(\"./resources/datasets/handwritten.txt\",dtype=np.int64)"
   ]
  },
  {
   "cell_type": "code",
   "execution_count": 4,
   "metadata": {},
   "outputs": [],
   "source": [
    "LEARNING_RATE = 0.1\n",
    "NUMBER_OF_ITERATIONS = 1000\n",
    "HIDDEN_LAYER_SIZE = 10\n",
    "INPUT_LAYER_SIZE = 16\n",
    "OUTPUT_LAYER_SIZE = 10\n",
    "NUMBER_OF_FOLDS = 10"
   ]
  },
  {
   "cell_type": "code",
   "execution_count": 5,
   "metadata": {},
   "outputs": [
    {
     "output_type": "stream",
     "name": "stdout",
     "text": [
      "class: 0 | 780 (10.41%) instances\nclass: 1 | 779 (10.39%) instances\nclass: 2 | 780 (10.41%) instances\nclass: 3 | 719 (9.59%) instances\nclass: 4 | 780 (10.41%) instances\nclass: 5 | 720 (9.61%) instances\nclass: 6 | 720 (9.61%) instances\nclass: 7 | 778 (10.38%) instances\nclass: 8 | 719 (9.59%) instances\nclass: 9 | 719 (9.59%) instances\nTotal number of instances: 7494\n"
     ]
    }
   ],
   "source": [
    "explore_data(y_data,OUTPUT_LAYER_SIZE)"
   ]
  },
  {
   "cell_type": "code",
   "execution_count": 6,
   "metadata": {},
   "outputs": [],
   "source": [
    "x_data = normalization(x_data)"
   ]
  },
  {
   "cell_type": "code",
   "execution_count": 7,
   "metadata": {},
   "outputs": [],
   "source": [
    "y_data = one_hot(y_data,OUTPUT_LAYER_SIZE)"
   ]
  },
  {
   "cell_type": "code",
   "execution_count": 8,
   "metadata": {},
   "outputs": [],
   "source": [
    "folded_data = fold_data(list(zip(x_data,y_data)),k=NUMBER_OF_FOLDS)"
   ]
  },
  {
   "cell_type": "code",
   "execution_count": 9,
   "metadata": {},
   "outputs": [],
   "source": [
    "def calc_metrics(y_test, y_predict, current_cost):\n",
    "    y_predict = np.argmax(y_predict,axis=1)\n",
    "    y_test = np.argmax(y_test,axis=1)\n",
    "    current_acc = sum(y_test == y_predict) / float(len(y_test)) * 100\n",
    "    print(f\" Accuracy: {current_acc:.2f}%\\n Cost avg: {np.mean(current_cost):.5f}\\n\")\n",
    "    print(f\" Confusion Matrix:\\n {confusion_matrix(y_test,y_predict)}\")\n",
    "    return current_acc"
   ]
  },
  {
   "cell_type": "code",
   "execution_count": 10,
   "metadata": {},
   "outputs": [],
   "source": [
    "def metric_summary(historic_acc, historic_cost):\n",
    "    print(f\"Summary: \\n\\navg_acc: {np.mean(historic_acc):.2f}% std_acc: {np.std(historic_acc):.2f}% median_acc: {np.median(historic_acc):.2f}%\")\n",
    "    print(f\"avg_cost: {np.mean(historic_cost):.5f} std_cost: {np.std(historic_cost):.5f} median_cost: {np.median(historic_cost):.5f}\")"
   ]
  },
  {
   "cell_type": "code",
   "execution_count": 11,
   "metadata": {
    "tags": []
   },
   "outputs": [],
   "source": [
    "def kfold_cross_validation(folded_data):\n",
    "    print(f\"Model parameters:\\n\\n input_layer_size: {INPUT_LAYER_SIZE} | hidden_layer_size: {HIDDEN_LAYER_SIZE} | output_layer_size: {OUTPUT_LAYER_SIZE}\")\n",
    "    print(f\" number_of_iterations: {NUMBER_OF_ITERATIONS} | learning_rate: {LEARNING_RATE}\")\n",
    "    historic_acc = []\n",
    "    historic_cost = []\n",
    "    for k in range(NUMBER_OF_FOLDS):\n",
    "        print(f\"\\n################## EPOCH with K={k} ##################\")\n",
    "        train_data = []\n",
    "        test_data = []\n",
    "        for j in range(NUMBER_OF_FOLDS):\n",
    "            if j != k:\n",
    "                train_data += folded_data[j]\n",
    "            else:\n",
    "                test_data += folded_data[j]\n",
    "        x_train, y_train = zip(*train_data)\n",
    "        x_test, y_test = zip(*test_data)\n",
    "\n",
    "        trained_params,current_cost = model(\n",
    "            np.transpose(x_train),\n",
    "            np.transpose(y_train),\n",
    "            INPUT_LAYER_SIZE,\n",
    "            HIDDEN_LAYER_SIZE,\n",
    "            OUTPUT_LAYER_SIZE,\n",
    "            NUMBER_OF_ITERATIONS,\n",
    "            LEARNING_RATE\n",
    "        )\n",
    "        y_predict = predict(np.transpose(x_test), trained_params).transpose()\n",
    "        historic_acc.append(calc_metrics(y_test, y_predict, current_cost))\n",
    "        historic_cost.append(current_cost)\n",
    "    return historic_acc,historic_cost"
   ]
  },
  {
   "cell_type": "code",
   "execution_count": 12,
   "metadata": {},
   "outputs": [
    {
     "output_type": "stream",
     "name": "stdout",
     "text": [
      "Model parameters:\n",
      "\n",
      " input_layer_size: 16 | hidden_layer_size: 10 | output_layer_size: 10\n",
      " number_of_iterations: 1000 | learning_rate: 0.1\n",
      "\n",
      "################## EPOCH with K=0 ##################\n",
      " Accuracy: 82.91%\n",
      " Cost avg: 0.00009\n",
      "\n",
      " Confusion Matrix:\n",
      " [[71  0  0  0  0  1  0  0  1  0]\n",
      " [ 0 51 15  1  0  0  0  1  0  1]\n",
      " [ 0 10 76  0  0  0  0  0  0  0]\n",
      " [ 0  1  0 70  0  0  0  0  0  0]\n",
      " [ 2  1  0  0 61  0  3  0  0  0]\n",
      " [ 0  0  0  4  0 39  0  0  1 25]\n",
      " [ 0  0  1  0  3  0 86  0  0  0]\n",
      " [ 0  5  1  3  0  0  3 67  1  0]\n",
      " [ 5  0  2  2  0  2  5 11 49  2]\n",
      " [ 3  1  0  5  4  2  0  0  0 51]]\n",
      "\n",
      "################## EPOCH with K=1 ##################\n",
      " Accuracy: 85.85%\n",
      " Cost avg: 0.00009\n",
      "\n",
      " Confusion Matrix:\n",
      " [[77  0  0  0  0  0  1  0  3  0]\n",
      " [ 0 50 14  4  0  4  0  2  1  0]\n",
      " [ 0  4 69  0  0  0  0  0  0  0]\n",
      " [ 0  2  0 68  0  0  0  0  0  0]\n",
      " [ 0  0  0  0 89  0  1  0  0  0]\n",
      " [ 0  3  0 13  0 32 11  0  0  5]\n",
      " [ 0  0  0  0  2  1 69  0  0  0]\n",
      " [ 0  4  1  0  0  0  0 65  1  3]\n",
      " [ 3  1  0  0  0  1  0  1 73  1]\n",
      " [ 1  8  0  5  3  2  0  0  0 51]]\n",
      "\n",
      "################## EPOCH with K=2 ##################\n",
      " Accuracy: 87.98%\n",
      " Cost avg: 0.00008\n",
      "\n",
      " Confusion Matrix:\n",
      " [[84  2  0  0  2  0  0  0  1  2]\n",
      " [ 0 41 13  2  0  3  0  6  0  1]\n",
      " [ 0  4 76  0  0  0  0  0  0  0]\n",
      " [ 0  1  0 77  0  0  0  0  0  0]\n",
      " [ 0  0  0  0 70  2  0  0  0  1]\n",
      " [ 1  0  0  4  0 46  3  0  0  4]\n",
      " [ 0  0  0  0  0  0 66  0  0  2]\n",
      " [ 0  7  2  1  0  1  0 73  0  0]\n",
      " [ 3  0  0  0  0  2  2  2 58  3]\n",
      " [ 0  3  0  0  3  6  0  1  0 68]]\n",
      "\n",
      "################## EPOCH with K=3 ##################\n",
      " Accuracy: 84.51%\n",
      " Cost avg: 0.00009\n",
      "\n",
      " Confusion Matrix:\n",
      " [[62  0  0  0  1  0  0  0  0  0]\n",
      " [ 0 48 14  8  2  1  0  0  0  0]\n",
      " [ 0  2 74  0  0  1  0  1  0  0]\n",
      " [ 0  0  0 82  0  1  0  1  0  0]\n",
      " [ 4  0  0  0 74  0  0  0  0  3]\n",
      " [ 0  0  0  4  0 60 10  0  1  6]\n",
      " [ 0  0  0  0  0  0 77  0  0  0]\n",
      " [ 0  5  1  2  0  2  0 63  0  1]\n",
      " [ 3  2  3  1  1 12  0  3 24  7]\n",
      " [ 0  1  0  3  8  1  0  0  0 69]]\n",
      "\n",
      "################## EPOCH with K=4 ##################\n",
      " Accuracy: 85.18%\n",
      " Cost avg: 0.00009\n",
      "\n",
      " Confusion Matrix:\n",
      " [[67  0  0  0  1  0  0  0  2  0]\n",
      " [ 0 69 19  3  0  0  0  0  0  2]\n",
      " [ 0  4 68  0  0  0  0  0  0  0]\n",
      " [ 0  0  0 55  0  0  0  1  0  0]\n",
      " [ 0  0  0  0 69  0  0  0  0  1]\n",
      " [ 0  0  0  7  1 66  2  0  3 17]\n",
      " [ 0  0  0  0  1  0 63  0  7  0]\n",
      " [ 0 12  2  0  0  0  0 70  0  0]\n",
      " [10  0  0  0  0  7  0  1 53  2]\n",
      " [ 0  1  0  0  3  2  0  0  0 58]]\n",
      "\n",
      "################## EPOCH with K=5 ##################\n",
      " Accuracy: 84.38%\n",
      " Cost avg: 0.00011\n",
      "\n",
      " Confusion Matrix:\n",
      " [[76  0  0  0  4  0  0  0  1  2]\n",
      " [ 0 69 10  3  1  2  3  1  0  1]\n",
      " [ 0  8 66  0  0  0  0  5  0  0]\n",
      " [ 0  1  0 72  0  0  2  0  0  2]\n",
      " [ 0  0  0  1 60  0  2  0  0  1]\n",
      " [ 0  0  0  4  0 55  1  0  1 10]\n",
      " [ 0  0  0  0  0  0 72  0  0  0]\n",
      " [ 1 10 12  2  0  0  1 56  0  0]\n",
      " [ 3  1  0  0  0  2  0  1 44  3]\n",
      " [ 0  3  1  0 10  1  0  0  0 62]]\n",
      "\n",
      "################## EPOCH with K=6 ##################\n",
      " Accuracy: 79.31%\n",
      " Cost avg: 0.00010\n",
      "\n",
      " Confusion Matrix:\n",
      " [[66  0  0  0  0  0  0  0 10  1]\n",
      " [ 0 53  9  5  0  0  0 12  0  1]\n",
      " [ 0  0 64  0  0  0  0 11  0  0]\n",
      " [ 0  0  0 63  0  0  0  4  0  0]\n",
      " [ 0  0  0  0 85  0  2  0  0  5]\n",
      " [ 3  1  0 14  0 52  2  0  1  8]\n",
      " [ 0  0  0  2  0  0 65  0  1  0]\n",
      " [ 0  3  4  2  5  0  0 54  0  0]\n",
      " [18  1  2  6  2  5  1  1 38  2]\n",
      " [ 1  5  0  1  4  0  0  0  0 54]]\n",
      "\n",
      "################## EPOCH with K=7 ##################\n",
      " Accuracy: 86.11%\n",
      " Cost avg: 0.00009\n",
      "\n",
      " Confusion Matrix:\n",
      " [[79  0  0  0  0  0  0  0  1  0]\n",
      " [ 0 57 11  4  0  0  2  0  0  0]\n",
      " [ 0  4 70  0  0  0  0  0  0  0]\n",
      " [ 0  6  0 66  0  0  0  0  0  0]\n",
      " [ 0  0  0  0 82  0  0  0  0  3]\n",
      " [ 0  0  0 17  0 35  0  0  0  8]\n",
      " [ 0  0  0  0  1  0 70  0  2  0]\n",
      " [ 0  9  0  1  0  0  1 70  4  0]\n",
      " [ 5  0  0  2  0  1  2  3 62  0]\n",
      " [ 3  4  0  4  6  0  0  0  0 54]]\n",
      "\n",
      "################## EPOCH with K=8 ##################\n",
      " Accuracy: 76.37%\n",
      " Cost avg: 0.00010\n",
      "\n",
      " Confusion Matrix:\n",
      " [[75  0  0  0  0  1  2  0  2  0]\n",
      " [ 0 62  8  1  0  2  0  2  0  0]\n",
      " [ 0  2 82  0  0  0  0  0  0  0]\n",
      " [ 0  5  3 76  0  0  0  4  0  0]\n",
      " [ 0  0  2  0 68  0  1  0  0  2]\n",
      " [ 0  1  8  0  2 15  4  0 30 14]\n",
      " [ 0  0  0  0  1  2 59  0  1  0]\n",
      " [ 0  9  1  8  0  0  0 52  4  0]\n",
      " [ 7  3  0  2  0 14  1  1 46  0]\n",
      " [ 0 12  0  1 14  0  0  0  0 37]]\n",
      "\n",
      "################## EPOCH with K=9 ##################\n",
      " Accuracy: 85.98%\n",
      " Cost avg: 0.00009\n",
      "\n",
      " Confusion Matrix:\n",
      " [[68  0  0  0  4  0  0  0 10  0]\n",
      " [ 0 69 10  2  0  0  0  2  0  1]\n",
      " [ 0  2 76  0  0  0  0  1  0  0]\n",
      " [ 0  0  0 55  0  0  0  0  0  0]\n",
      " [ 0  0  0  0 81  0  0  0  0  3]\n",
      " [ 0  0  0 13  0 38  0  0  1 14]\n",
      " [ 0  0  0  0  3  0 62  0  0  0]\n",
      " [ 4  9  0  3  0  0  0 57  0  0]\n",
      " [12  0  0  1  0  0  1  0 67  1]\n",
      " [ 1  1  1  0  4  1  0  0  0 71]]\n"
     ]
    }
   ],
   "source": [
    "historic_acc, historic_cost = kfold_cross_validation(folded_data)"
   ]
  },
  {
   "cell_type": "code",
   "execution_count": 13,
   "metadata": {},
   "outputs": [
    {
     "output_type": "stream",
     "name": "stdout",
     "text": [
      "Summary: \n\navg_acc: 83.86% std_acc: 3.33% median_acc: 84.85%\navg_cost: 0.00009 std_cost: 0.00010 median_cost: 0.00007\n"
     ]
    }
   ],
   "source": [
    "metric_summary(historic_acc,historic_cost)"
   ]
  },
  {
   "cell_type": "code",
   "execution_count": 14,
   "metadata": {},
   "outputs": [
    {
     "output_type": "display_data",
     "data": {
      "application/vnd.plotly.v1+json": {
       "config": {
        "plotlyServerURL": "https://plot.ly"
       },
       "data": [
        {
         "line": {
          "color": "rgb(0, 0, 200)",
          "width": 1
         },
         "mode": "lines+markers",
         "name": "AVG Train Cost",
         "textposition": "bottom center",
         "type": "scatter",
         "x": [
          0,
          50,
          100,
          150,
          200,
          250,
          300,
          350,
          400,
          450,
          500,
          550,
          600,
          650,
          700,
          750,
          800,
          850,
          900,
          950,
          1000
         ],
         "y": [
          0.0005361133300576137,
          0.00012107521736878049,
          0.00011024089113624959,
          0.00010176029687091327,
          0.00009452013736986289,
          0.0000883226599623533,
          0.00008299234199559507,
          0.00007831442390691221,
          0.00007416235741896145,
          0.00007043602142232581,
          0.00006708481179471462,
          0.00006404226963213954,
          0.00006129531017672507,
          0.000058874581223681684,
          0.00005669161410893962,
          0.000054678084623695916,
          0.00005280095894535516,
          0.000051052938917344425,
          0.00004942722875959585,
          0.00004791417587128519,
          0.000046506012145427586
         ]
        }
       ],
       "layout": {
        "font": {
         "color": "#7f7f7f",
         "family": "Courier New, monospace",
         "size": 14
        },
        "template": {
         "data": {
          "bar": [
           {
            "error_x": {
             "color": "#2a3f5f"
            },
            "error_y": {
             "color": "#2a3f5f"
            },
            "marker": {
             "line": {
              "color": "#E5ECF6",
              "width": 0.5
             }
            },
            "type": "bar"
           }
          ],
          "barpolar": [
           {
            "marker": {
             "line": {
              "color": "#E5ECF6",
              "width": 0.5
             }
            },
            "type": "barpolar"
           }
          ],
          "carpet": [
           {
            "aaxis": {
             "endlinecolor": "#2a3f5f",
             "gridcolor": "white",
             "linecolor": "white",
             "minorgridcolor": "white",
             "startlinecolor": "#2a3f5f"
            },
            "baxis": {
             "endlinecolor": "#2a3f5f",
             "gridcolor": "white",
             "linecolor": "white",
             "minorgridcolor": "white",
             "startlinecolor": "#2a3f5f"
            },
            "type": "carpet"
           }
          ],
          "choropleth": [
           {
            "colorbar": {
             "outlinewidth": 0,
             "ticks": ""
            },
            "type": "choropleth"
           }
          ],
          "contour": [
           {
            "colorbar": {
             "outlinewidth": 0,
             "ticks": ""
            },
            "colorscale": [
             [
              0,
              "#0d0887"
             ],
             [
              0.1111111111111111,
              "#46039f"
             ],
             [
              0.2222222222222222,
              "#7201a8"
             ],
             [
              0.3333333333333333,
              "#9c179e"
             ],
             [
              0.4444444444444444,
              "#bd3786"
             ],
             [
              0.5555555555555556,
              "#d8576b"
             ],
             [
              0.6666666666666666,
              "#ed7953"
             ],
             [
              0.7777777777777778,
              "#fb9f3a"
             ],
             [
              0.8888888888888888,
              "#fdca26"
             ],
             [
              1,
              "#f0f921"
             ]
            ],
            "type": "contour"
           }
          ],
          "contourcarpet": [
           {
            "colorbar": {
             "outlinewidth": 0,
             "ticks": ""
            },
            "type": "contourcarpet"
           }
          ],
          "heatmap": [
           {
            "colorbar": {
             "outlinewidth": 0,
             "ticks": ""
            },
            "colorscale": [
             [
              0,
              "#0d0887"
             ],
             [
              0.1111111111111111,
              "#46039f"
             ],
             [
              0.2222222222222222,
              "#7201a8"
             ],
             [
              0.3333333333333333,
              "#9c179e"
             ],
             [
              0.4444444444444444,
              "#bd3786"
             ],
             [
              0.5555555555555556,
              "#d8576b"
             ],
             [
              0.6666666666666666,
              "#ed7953"
             ],
             [
              0.7777777777777778,
              "#fb9f3a"
             ],
             [
              0.8888888888888888,
              "#fdca26"
             ],
             [
              1,
              "#f0f921"
             ]
            ],
            "type": "heatmap"
           }
          ],
          "heatmapgl": [
           {
            "colorbar": {
             "outlinewidth": 0,
             "ticks": ""
            },
            "colorscale": [
             [
              0,
              "#0d0887"
             ],
             [
              0.1111111111111111,
              "#46039f"
             ],
             [
              0.2222222222222222,
              "#7201a8"
             ],
             [
              0.3333333333333333,
              "#9c179e"
             ],
             [
              0.4444444444444444,
              "#bd3786"
             ],
             [
              0.5555555555555556,
              "#d8576b"
             ],
             [
              0.6666666666666666,
              "#ed7953"
             ],
             [
              0.7777777777777778,
              "#fb9f3a"
             ],
             [
              0.8888888888888888,
              "#fdca26"
             ],
             [
              1,
              "#f0f921"
             ]
            ],
            "type": "heatmapgl"
           }
          ],
          "histogram": [
           {
            "marker": {
             "colorbar": {
              "outlinewidth": 0,
              "ticks": ""
             }
            },
            "type": "histogram"
           }
          ],
          "histogram2d": [
           {
            "colorbar": {
             "outlinewidth": 0,
             "ticks": ""
            },
            "colorscale": [
             [
              0,
              "#0d0887"
             ],
             [
              0.1111111111111111,
              "#46039f"
             ],
             [
              0.2222222222222222,
              "#7201a8"
             ],
             [
              0.3333333333333333,
              "#9c179e"
             ],
             [
              0.4444444444444444,
              "#bd3786"
             ],
             [
              0.5555555555555556,
              "#d8576b"
             ],
             [
              0.6666666666666666,
              "#ed7953"
             ],
             [
              0.7777777777777778,
              "#fb9f3a"
             ],
             [
              0.8888888888888888,
              "#fdca26"
             ],
             [
              1,
              "#f0f921"
             ]
            ],
            "type": "histogram2d"
           }
          ],
          "histogram2dcontour": [
           {
            "colorbar": {
             "outlinewidth": 0,
             "ticks": ""
            },
            "colorscale": [
             [
              0,
              "#0d0887"
             ],
             [
              0.1111111111111111,
              "#46039f"
             ],
             [
              0.2222222222222222,
              "#7201a8"
             ],
             [
              0.3333333333333333,
              "#9c179e"
             ],
             [
              0.4444444444444444,
              "#bd3786"
             ],
             [
              0.5555555555555556,
              "#d8576b"
             ],
             [
              0.6666666666666666,
              "#ed7953"
             ],
             [
              0.7777777777777778,
              "#fb9f3a"
             ],
             [
              0.8888888888888888,
              "#fdca26"
             ],
             [
              1,
              "#f0f921"
             ]
            ],
            "type": "histogram2dcontour"
           }
          ],
          "mesh3d": [
           {
            "colorbar": {
             "outlinewidth": 0,
             "ticks": ""
            },
            "type": "mesh3d"
           }
          ],
          "parcoords": [
           {
            "line": {
             "colorbar": {
              "outlinewidth": 0,
              "ticks": ""
             }
            },
            "type": "parcoords"
           }
          ],
          "pie": [
           {
            "automargin": true,
            "type": "pie"
           }
          ],
          "scatter": [
           {
            "marker": {
             "colorbar": {
              "outlinewidth": 0,
              "ticks": ""
             }
            },
            "type": "scatter"
           }
          ],
          "scatter3d": [
           {
            "line": {
             "colorbar": {
              "outlinewidth": 0,
              "ticks": ""
             }
            },
            "marker": {
             "colorbar": {
              "outlinewidth": 0,
              "ticks": ""
             }
            },
            "type": "scatter3d"
           }
          ],
          "scattercarpet": [
           {
            "marker": {
             "colorbar": {
              "outlinewidth": 0,
              "ticks": ""
             }
            },
            "type": "scattercarpet"
           }
          ],
          "scattergeo": [
           {
            "marker": {
             "colorbar": {
              "outlinewidth": 0,
              "ticks": ""
             }
            },
            "type": "scattergeo"
           }
          ],
          "scattergl": [
           {
            "marker": {
             "colorbar": {
              "outlinewidth": 0,
              "ticks": ""
             }
            },
            "type": "scattergl"
           }
          ],
          "scattermapbox": [
           {
            "marker": {
             "colorbar": {
              "outlinewidth": 0,
              "ticks": ""
             }
            },
            "type": "scattermapbox"
           }
          ],
          "scatterpolar": [
           {
            "marker": {
             "colorbar": {
              "outlinewidth": 0,
              "ticks": ""
             }
            },
            "type": "scatterpolar"
           }
          ],
          "scatterpolargl": [
           {
            "marker": {
             "colorbar": {
              "outlinewidth": 0,
              "ticks": ""
             }
            },
            "type": "scatterpolargl"
           }
          ],
          "scatterternary": [
           {
            "marker": {
             "colorbar": {
              "outlinewidth": 0,
              "ticks": ""
             }
            },
            "type": "scatterternary"
           }
          ],
          "surface": [
           {
            "colorbar": {
             "outlinewidth": 0,
             "ticks": ""
            },
            "colorscale": [
             [
              0,
              "#0d0887"
             ],
             [
              0.1111111111111111,
              "#46039f"
             ],
             [
              0.2222222222222222,
              "#7201a8"
             ],
             [
              0.3333333333333333,
              "#9c179e"
             ],
             [
              0.4444444444444444,
              "#bd3786"
             ],
             [
              0.5555555555555556,
              "#d8576b"
             ],
             [
              0.6666666666666666,
              "#ed7953"
             ],
             [
              0.7777777777777778,
              "#fb9f3a"
             ],
             [
              0.8888888888888888,
              "#fdca26"
             ],
             [
              1,
              "#f0f921"
             ]
            ],
            "type": "surface"
           }
          ],
          "table": [
           {
            "cells": {
             "fill": {
              "color": "#EBF0F8"
             },
             "line": {
              "color": "white"
             }
            },
            "header": {
             "fill": {
              "color": "#C8D4E3"
             },
             "line": {
              "color": "white"
             }
            },
            "type": "table"
           }
          ]
         },
         "layout": {
          "annotationdefaults": {
           "arrowcolor": "#2a3f5f",
           "arrowhead": 0,
           "arrowwidth": 1
          },
          "coloraxis": {
           "colorbar": {
            "outlinewidth": 0,
            "ticks": ""
           }
          },
          "colorscale": {
           "diverging": [
            [
             0,
             "#8e0152"
            ],
            [
             0.1,
             "#c51b7d"
            ],
            [
             0.2,
             "#de77ae"
            ],
            [
             0.3,
             "#f1b6da"
            ],
            [
             0.4,
             "#fde0ef"
            ],
            [
             0.5,
             "#f7f7f7"
            ],
            [
             0.6,
             "#e6f5d0"
            ],
            [
             0.7,
             "#b8e186"
            ],
            [
             0.8,
             "#7fbc41"
            ],
            [
             0.9,
             "#4d9221"
            ],
            [
             1,
             "#276419"
            ]
           ],
           "sequential": [
            [
             0,
             "#0d0887"
            ],
            [
             0.1111111111111111,
             "#46039f"
            ],
            [
             0.2222222222222222,
             "#7201a8"
            ],
            [
             0.3333333333333333,
             "#9c179e"
            ],
            [
             0.4444444444444444,
             "#bd3786"
            ],
            [
             0.5555555555555556,
             "#d8576b"
            ],
            [
             0.6666666666666666,
             "#ed7953"
            ],
            [
             0.7777777777777778,
             "#fb9f3a"
            ],
            [
             0.8888888888888888,
             "#fdca26"
            ],
            [
             1,
             "#f0f921"
            ]
           ],
           "sequentialminus": [
            [
             0,
             "#0d0887"
            ],
            [
             0.1111111111111111,
             "#46039f"
            ],
            [
             0.2222222222222222,
             "#7201a8"
            ],
            [
             0.3333333333333333,
             "#9c179e"
            ],
            [
             0.4444444444444444,
             "#bd3786"
            ],
            [
             0.5555555555555556,
             "#d8576b"
            ],
            [
             0.6666666666666666,
             "#ed7953"
            ],
            [
             0.7777777777777778,
             "#fb9f3a"
            ],
            [
             0.8888888888888888,
             "#fdca26"
            ],
            [
             1,
             "#f0f921"
            ]
           ]
          },
          "colorway": [
           "#636efa",
           "#EF553B",
           "#00cc96",
           "#ab63fa",
           "#FFA15A",
           "#19d3f3",
           "#FF6692",
           "#B6E880",
           "#FF97FF",
           "#FECB52"
          ],
          "font": {
           "color": "#2a3f5f"
          },
          "geo": {
           "bgcolor": "white",
           "lakecolor": "white",
           "landcolor": "#E5ECF6",
           "showlakes": true,
           "showland": true,
           "subunitcolor": "white"
          },
          "hoverlabel": {
           "align": "left"
          },
          "hovermode": "closest",
          "mapbox": {
           "style": "light"
          },
          "paper_bgcolor": "white",
          "plot_bgcolor": "#E5ECF6",
          "polar": {
           "angularaxis": {
            "gridcolor": "white",
            "linecolor": "white",
            "ticks": ""
           },
           "bgcolor": "#E5ECF6",
           "radialaxis": {
            "gridcolor": "white",
            "linecolor": "white",
            "ticks": ""
           }
          },
          "scene": {
           "xaxis": {
            "backgroundcolor": "#E5ECF6",
            "gridcolor": "white",
            "gridwidth": 2,
            "linecolor": "white",
            "showbackground": true,
            "ticks": "",
            "zerolinecolor": "white"
           },
           "yaxis": {
            "backgroundcolor": "#E5ECF6",
            "gridcolor": "white",
            "gridwidth": 2,
            "linecolor": "white",
            "showbackground": true,
            "ticks": "",
            "zerolinecolor": "white"
           },
           "zaxis": {
            "backgroundcolor": "#E5ECF6",
            "gridcolor": "white",
            "gridwidth": 2,
            "linecolor": "white",
            "showbackground": true,
            "ticks": "",
            "zerolinecolor": "white"
           }
          },
          "shapedefaults": {
           "line": {
            "color": "#2a3f5f"
           }
          },
          "ternary": {
           "aaxis": {
            "gridcolor": "white",
            "linecolor": "white",
            "ticks": ""
           },
           "baxis": {
            "gridcolor": "white",
            "linecolor": "white",
            "ticks": ""
           },
           "bgcolor": "#E5ECF6",
           "caxis": {
            "gridcolor": "white",
            "linecolor": "white",
            "ticks": ""
           }
          },
          "title": {
           "x": 0.05
          },
          "xaxis": {
           "automargin": true,
           "gridcolor": "white",
           "linecolor": "white",
           "ticks": "",
           "title": {
            "standoff": 15
           },
           "zerolinecolor": "white",
           "zerolinewidth": 2
          },
          "yaxis": {
           "automargin": true,
           "gridcolor": "white",
           "linecolor": "white",
           "ticks": "",
           "title": {
            "standoff": 15
           },
           "zerolinecolor": "white",
           "zerolinewidth": 2
          }
         }
        },
        "title": {
         "text": "Cost chart"
        },
        "xaxis": {
         "title": {
          "text": "Number of Iterations"
         }
        },
        "yaxis": {
         "tickformat": ".5f",
         "title": {
          "text": "Avg Cost"
         }
        }
       }
      }
     },
     "metadata": {}
    }
   ],
   "source": [
    "f = create_figure()\n",
    "plot_figure(f, np.mean(historic_cost,axis=0))"
   ]
  },
  {
   "cell_type": "code",
   "execution_count": null,
   "metadata": {},
   "outputs": [],
   "source": []
  },
  {
   "cell_type": "code",
   "execution_count": null,
   "metadata": {},
   "outputs": [],
   "source": []
  }
 ]
}